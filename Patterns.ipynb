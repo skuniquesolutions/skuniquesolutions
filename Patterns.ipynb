{
 "cells": [
  {
   "cell_type": "raw",
   "metadata": {},
   "source": [
    "* * * *\n",
    "* * * *\n",
    "* * * *\n",
    "* * * *"
   ]
  },
  {
   "cell_type": "code",
   "execution_count": 6,
   "metadata": {},
   "outputs": [
    {
     "name": "stdout",
     "output_type": "stream",
     "text": [
      "4\n",
      "* * * * \n",
      "* * * * \n",
      "* * * * \n",
      "* * * * \n"
     ]
    }
   ],
   "source": [
    "n = int(input())\n",
    "\n",
    "i = 1   \n",
    "\n",
    "while i<=n:\n",
    "    j = 1\n",
    "    while j<=n:\n",
    "        print(\"*\", end=\" \")\n",
    "        j = j+1\n",
    "    print()\n",
    "    i = i+1"
   ]
  },
  {
   "cell_type": "raw",
   "metadata": {},
   "source": [
    "*\n",
    "* * \n",
    "* * *\n",
    "* * * *"
   ]
  },
  {
   "cell_type": "code",
   "execution_count": 7,
   "metadata": {},
   "outputs": [
    {
     "name": "stdout",
     "output_type": "stream",
     "text": [
      "4\n",
      "* \n",
      "* * \n",
      "* * * \n",
      "* * * * \n"
     ]
    }
   ],
   "source": [
    "n = int(input())\n",
    "\n",
    "i = 1\n",
    "\n",
    "while i<=n:\n",
    "    j = 1\n",
    "    while j<=i:\n",
    "        print(\"*\", end=\" \")\n",
    "        j = j+1\n",
    "    print()\n",
    "    i = i+1"
   ]
  },
  {
   "cell_type": "raw",
   "metadata": {},
   "source": [
    "1 2 3 4\n",
    "1 2 3 4\n",
    "1 2 3 4\n",
    "1 2 3 4\n"
   ]
  },
  {
   "cell_type": "code",
   "execution_count": 9,
   "metadata": {},
   "outputs": [
    {
     "name": "stdout",
     "output_type": "stream",
     "text": [
      "4\n",
      "1 2 3 4 \n",
      "1 2 3 4 \n",
      "1 2 3 4 \n",
      "1 2 3 4 \n"
     ]
    }
   ],
   "source": [
    "n = int(input())\n",
    "\n",
    "i = 1\n",
    "\n",
    "while i<=n:\n",
    "    j = 1\n",
    "    while j<=n:\n",
    "        print(j, end=\" \")\n",
    "        j = j+1\n",
    "    print()\n",
    "    i = i+1"
   ]
  },
  {
   "cell_type": "raw",
   "metadata": {},
   "source": [
    "1\n",
    "1 2 \n",
    "1 2 3 \n",
    "1 2 3 4"
   ]
  },
  {
   "cell_type": "code",
   "execution_count": 10,
   "metadata": {},
   "outputs": [
    {
     "name": "stdout",
     "output_type": "stream",
     "text": [
      "4\n",
      "1 \n",
      "1 2 \n",
      "1 2 3 \n",
      "1 2 3 4 \n"
     ]
    }
   ],
   "source": [
    "n = int(input())\n",
    "i = 1\n",
    "\n",
    "while i<=n:\n",
    "    j = 1\n",
    "    while j<=i:\n",
    "        print(j, end=\" \")\n",
    "        j = j+1\n",
    "    print()\n",
    "    i = i+1"
   ]
  },
  {
   "cell_type": "markdown",
   "metadata": {},
   "source": [
    "### Sequre patterns\n"
   ]
  },
  {
   "cell_type": "raw",
   "metadata": {},
   "source": [
    "1 1 1 1 \n",
    "2 2 2 2 \n",
    "3 3 3 3 \n",
    "4 4 4 4 "
   ]
  },
  {
   "cell_type": "code",
   "execution_count": 11,
   "metadata": {},
   "outputs": [
    {
     "name": "stdout",
     "output_type": "stream",
     "text": [
      "4\n",
      "1 1 1 1 \n",
      "2 2 2 2 \n",
      "3 3 3 3 \n",
      "4 4 4 4 \n"
     ]
    }
   ],
   "source": [
    "n = int(input())\n",
    "\n",
    "i = 1\n",
    "\n",
    "while i<=n:\n",
    "    j = 1\n",
    "    while j<=n:\n",
    "        print(i, end=\" \")\n",
    "        j = j+1\n",
    "    print()\n",
    "    i = i+1"
   ]
  },
  {
   "cell_type": "code",
   "execution_count": null,
   "metadata": {},
   "outputs": [],
   "source": []
  },
  {
   "cell_type": "raw",
   "metadata": {},
   "source": [
    "4 3 2 1 \n",
    "4 3 2 1 \n",
    "4 3 2 1 \n",
    "4 3 2 1 "
   ]
  },
  {
   "cell_type": "code",
   "execution_count": 20,
   "metadata": {},
   "outputs": [
    {
     "name": "stdout",
     "output_type": "stream",
     "text": [
      "4\n",
      "4 3 2 1 \n",
      "4 3 2 1 \n",
      "4 3 2 1 \n",
      "4 3 2 1 \n"
     ]
    }
   ],
   "source": [
    "n = int(input())\n",
    "\n",
    "i = 1\n",
    "\n",
    "while i<=n:\n",
    "    j = 1\n",
    "    while j<=n:\n",
    "        print(n-j+1, end=\" \")\n",
    "        j = j+1\n",
    "    print()\n",
    "    i = i+1"
   ]
  },
  {
   "cell_type": "code",
   "execution_count": null,
   "metadata": {},
   "outputs": [],
   "source": []
  },
  {
   "cell_type": "markdown",
   "metadata": {},
   "source": [
    "### Triangular patterns"
   ]
  },
  {
   "cell_type": "raw",
   "metadata": {},
   "source": [
    "1 \n",
    "1 2 \n",
    "1 2 3 \n",
    "1 2 3 4 "
   ]
  },
  {
   "cell_type": "code",
   "execution_count": 21,
   "metadata": {},
   "outputs": [
    {
     "name": "stdout",
     "output_type": "stream",
     "text": [
      "4\n",
      "1 \n",
      "1 2 \n",
      "1 2 3 \n",
      "1 2 3 4 \n"
     ]
    }
   ],
   "source": [
    "n = int(input())\n",
    "i = 1\n",
    "\n",
    "while i<=n:\n",
    "    j = 1\n",
    "    \n",
    "    while j<=i:\n",
    "        print(j,end=' ')\n",
    "        j = j+1\n",
    "    print()\n",
    "    i = i+1"
   ]
  },
  {
   "cell_type": "raw",
   "metadata": {},
   "source": [
    "1 \n",
    "2 3 \n",
    "3 4 5 \n",
    "4 5 6 7"
   ]
  },
  {
   "cell_type": "code",
   "execution_count": 35,
   "metadata": {},
   "outputs": [
    {
     "name": "stdout",
     "output_type": "stream",
     "text": [
      "4\n",
      "1 \n",
      "2 3 \n",
      "3 4 5 \n",
      "4 5 6 7 \n"
     ]
    }
   ],
   "source": [
    "n = int(input())\n",
    "i = 1\n",
    "\n",
    "while i<=n:\n",
    "    j = 1\n",
    "    k = i              # here we need to print wrt i with increase with 1 per loop count(i)\n",
    "    while j<=i:\n",
    "        print(k,end=' ')\n",
    "        k = k+1\n",
    "        j = j+1\n",
    "    print()\n",
    "    i = i+1"
   ]
  },
  {
   "cell_type": "raw",
   "metadata": {},
   "source": [
    "1 \n",
    "2 3 \n",
    "4 5 6 \n",
    "7 8 9 10 "
   ]
  },
  {
   "cell_type": "code",
   "execution_count": 44,
   "metadata": {},
   "outputs": [
    {
     "name": "stdout",
     "output_type": "stream",
     "text": [
      "4\n",
      "1 \n",
      "2 3 \n",
      "4 5 6 \n",
      "7 8 9 10 \n"
     ]
    }
   ],
   "source": [
    "n = int(input())\n",
    "i = 1\n",
    "k = 1    # here we don't want to reset the value \n",
    "\n",
    "while i<=n:\n",
    "    j = 1\n",
    "    while j<=i:\n",
    "        print(k,end=' ')\n",
    "        k = k+1             # here the k value increase wrt loop count(i)\n",
    "        j = j+1\n",
    "    print()\n",
    "    i = i+1\n",
    "    \n",
    "    "
   ]
  },
  {
   "cell_type": "code",
   "execution_count": 47,
   "metadata": {},
   "outputs": [
    {
     "name": "stdout",
     "output_type": "stream",
     "text": [
      "4\n",
      "1\n",
      "21\n",
      "321\n",
      "4321\n"
     ]
    }
   ],
   "source": [
    "n = int(input())\n",
    "i = 1\n",
    "\n",
    "while i<=n:\n",
    "    j = 1\n",
    "    k = i\n",
    "\n",
    "    while j<=i:\n",
    "        print(k, end='')\n",
    "        k = k-1\n",
    "        j = j+1\n",
    "        \n",
    "\n",
    "    print()\n",
    "    i = i+1"
   ]
  },
  {
   "cell_type": "code",
   "execution_count": null,
   "metadata": {},
   "outputs": [],
   "source": [
    "\n"
   ]
  },
  {
   "cell_type": "code",
   "execution_count": 52,
   "metadata": {},
   "outputs": [
    {
     "name": "stdout",
     "output_type": "stream",
     "text": [
      "5\n",
      "E\n"
     ]
    }
   ],
   "source": [
    "# print kth alphabet\n",
    "\n",
    "n = int(input())\n",
    "\n",
    "x = ord('A')\n",
    "ascii_number = x+(n-1)\n",
    "char = chr(ascii_number)\n",
    "print(char)"
   ]
  },
  {
   "cell_type": "code",
   "execution_count": null,
   "metadata": {},
   "outputs": [],
   "source": []
  },
  {
   "cell_type": "raw",
   "metadata": {},
   "source": [
    "A B C D\n",
    "A B C D\n",
    "A B C D\n",
    "A B C D"
   ]
  },
  {
   "cell_type": "code",
   "execution_count": 74,
   "metadata": {},
   "outputs": [
    {
     "name": "stdout",
     "output_type": "stream",
     "text": [
      "4\n",
      "A B C D \n",
      "A B C D \n",
      "A B C D \n",
      "A B C D \n"
     ]
    }
   ],
   "source": [
    "n = int(input())\n",
    "i = 1\n",
    "\n",
    "\n",
    "while i<=n:\n",
    "    j = 1\n",
    "    \n",
    "    \n",
    "    while j<=n:\n",
    "        char = chr(ord('A')+j-1)\n",
    "        print(char, end=\" \")\n",
    "        j = j+1\n",
    "    \n",
    "    print()\n",
    "    i = i+1"
   ]
  },
  {
   "cell_type": "code",
   "execution_count": null,
   "metadata": {},
   "outputs": [],
   "source": []
  },
  {
   "cell_type": "raw",
   "metadata": {},
   "source": [
    "A B C D\n",
    "B C D E\n",
    "C D E F\n",
    "D E F G"
   ]
  },
  {
   "cell_type": "code",
   "execution_count": 75,
   "metadata": {},
   "outputs": [
    {
     "name": "stdout",
     "output_type": "stream",
     "text": [
      "4\n",
      "A B C D \n",
      "B C D E \n",
      "C D E F \n",
      "D E F G \n"
     ]
    }
   ],
   "source": [
    "n = int(input())\n",
    "i = 1\n",
    "\n",
    "\n",
    "while i<=n:\n",
    "    j = 1\n",
    "    k = i\n",
    "    \n",
    "    while j<=n:\n",
    "        char = chr(ord('A')+k-1)\n",
    "        print(char, end=\" \")\n",
    "        k = k+1\n",
    "        j = j+1\n",
    "    \n",
    "    print()\n",
    "    i = i+1"
   ]
  },
  {
   "cell_type": "code",
   "execution_count": 76,
   "metadata": {},
   "outputs": [
    {
     "name": "stdout",
     "output_type": "stream",
     "text": [
      "4\n",
      "A A A A \n",
      "B B B B \n",
      "C C C C \n",
      "D D D D \n"
     ]
    }
   ],
   "source": [
    "n = int(input())\n",
    "i = 1\n",
    "\n",
    "\n",
    "while i<=n:\n",
    "    j = 1\n",
    "    char = chr(ord('A')+i-1)\n",
    "    \n",
    "    while j<=n:\n",
    "        print(char, end=\" \")\n",
    "        j = j+1\n",
    "    \n",
    "    print()\n",
    "    i = i+1"
   ]
  },
  {
   "cell_type": "code",
   "execution_count": 78,
   "metadata": {},
   "outputs": [
    {
     "name": "stdout",
     "output_type": "stream",
     "text": [
      "4\n",
      "A B C D \n",
      "B C D E \n",
      "C D E F \n",
      "D E F G \n"
     ]
    }
   ],
   "source": [
    "n = int(input())\n",
    "i = 1\n",
    "\n",
    "\n",
    "while i<=n:\n",
    "    j = 1\n",
    "    start_char = chr(ord('A')+i-1)\n",
    "    \n",
    "    while j<=n:\n",
    "        char = chr(ord(start_char)+j-1)\n",
    "        print(char, end=\" \")\n",
    "        j = j+1\n",
    "    \n",
    "    print()\n",
    "    i = i+1"
   ]
  },
  {
   "cell_type": "raw",
   "metadata": {},
   "source": [
    "\n",
    "A B C D \n",
    "E F G H \n",
    "I J K L \n",
    "M N O P "
   ]
  },
  {
   "cell_type": "code",
   "execution_count": 88,
   "metadata": {},
   "outputs": [
    {
     "name": "stdout",
     "output_type": "stream",
     "text": [
      "4\n",
      "A B C D \n",
      "E F G H \n",
      "I J K L \n",
      "M N O P \n"
     ]
    }
   ],
   "source": [
    "n = int(input())\n",
    "i = 1\n",
    "k = 1\n",
    "start_char = chr(ord('A')+k-1)\n",
    "\n",
    "while i<=n:\n",
    "    j = 1\n",
    "    \n",
    "    while j<=n:\n",
    "        print(chr(ord(start_char)+k-1), end=\" \")\n",
    "        j = j + 1\n",
    "        k = k+1\n",
    "    \n",
    "    print()\n",
    "    i = i+1"
   ]
  },
  {
   "cell_type": "code",
   "execution_count": 91,
   "metadata": {},
   "outputs": [
    {
     "name": "stdout",
     "output_type": "stream",
     "text": [
      "4\n",
      "A\n",
      "BB\n",
      "CCC\n",
      "DDDD\n"
     ]
    }
   ],
   "source": [
    "n = int(input())\n",
    "i = 1\n",
    "\n",
    "while i<=n:\n",
    "    j = 1\n",
    "    while j<=i:\n",
    "        char = chr(ord('A')+i-1)\n",
    "        print(char, end=\"\")\n",
    "        j = j+1\n",
    "\n",
    "    print()\n",
    "    i = i+1"
   ]
  },
  {
   "cell_type": "code",
   "execution_count": 128,
   "metadata": {},
   "outputs": [
    {
     "name": "stdout",
     "output_type": "stream",
     "text": [
      "4\n",
      "D\n",
      "CD\n",
      "BCD\n",
      "ABCD\n"
     ]
    }
   ],
   "source": [
    "## Read input as specified in the question\n",
    "## Print the required output in given format\n",
    "n = int(input())\n",
    "i = 1\n",
    "\n",
    "while i<=n:\n",
    "    j = 1\n",
    "    #k = n-i+1\n",
    "    start = chr(ord('A')+(n-i+1)-1)\n",
    "    while j<=i:\n",
    "        print(chr(ord(start)+j-1), end=\"\")\n",
    "        j = j+1\n",
    "\n",
    "    print()\n",
    "    i = i+1\n",
    "\n",
    "    \n"
   ]
  },
  {
   "cell_type": "code",
   "execution_count": 104,
   "metadata": {},
   "outputs": [
    {
     "name": "stdout",
     "output_type": "stream",
     "text": [
      "4\n",
      "E\n",
      "FE\n",
      "GFE\n",
      "HGFE\n"
     ]
    }
   ],
   "source": [
    "## Read input as specified in the question\n",
    "## Print the required output in given format\n",
    "n = int(input())\n",
    "i = 1\n",
    "\n",
    "while i<=n:\n",
    "    j = 1\n",
    "    start_char = chr(ord('A')+i-1)\n",
    "    while j<=i:\n",
    "        print(chr(ord(start_char)+(n-j+1)), end=\"\")\n",
    "        j = j+1\n",
    "\n",
    "    print()\n",
    "    i = i+1\n",
    "\n",
    "    \n"
   ]
  },
  {
   "cell_type": "code",
   "execution_count": 108,
   "metadata": {},
   "outputs": [
    {
     "name": "stdout",
     "output_type": "stream",
     "text": [
      "4\n",
      "1 2 3 4 \n",
      "2 3 4 5 \n",
      "3 4 5 6 \n",
      "4 5 6 7 \n"
     ]
    }
   ],
   "source": [
    "n = int(input())\n",
    "\n",
    "i = 1\n",
    "\n",
    "while i<=n:\n",
    "    j = 1\n",
    "    k = i\n",
    "    while j<=n:\n",
    "        print(k, end=\" \")\n",
    "        j = j+1\n",
    "        k = k+1\n",
    "    print()\n",
    "    i = i+1"
   ]
  },
  {
   "cell_type": "raw",
   "metadata": {},
   "source": [
    "1\n",
    "11\n",
    "111\n",
    "1111"
   ]
  },
  {
   "cell_type": "code",
   "execution_count": 129,
   "metadata": {},
   "outputs": [
    {
     "name": "stdout",
     "output_type": "stream",
     "text": [
      "4\n",
      "1\n",
      "11\n",
      "111\n",
      "1111\n"
     ]
    }
   ],
   "source": [
    "n = int(input())\n",
    "i = 1\n",
    "while i<=n:\n",
    "    j = 1\n",
    "    while j<=i:\n",
    "        print(1, end='')\n",
    "        j = j+1\n",
    "\n",
    "    print()\n",
    "    i = i+1    "
   ]
  },
  {
   "cell_type": "raw",
   "metadata": {},
   "source": [
    "1\n",
    "11\n",
    "202\n",
    "3003"
   ]
  },
  {
   "cell_type": "code",
   "execution_count": 181,
   "metadata": {},
   "outputs": [
    {
     "name": "stdout",
     "output_type": "stream",
     "text": [
      "4\n",
      "1\n",
      "11\n",
      "202\n",
      "3003\n"
     ]
    }
   ],
   "source": [
    "n = int(input())\n",
    "i = 1\n",
    "\n",
    "if n >= 1:\n",
    "    print('1')\n",
    "\n",
    "    while i <= n-1:\n",
    "        print(i, end='')\n",
    "        j = 1\n",
    "\n",
    "        while j <= i-1:\n",
    "            print('0', end='')\n",
    "            j = j+1\n",
    "        print(i, end='')\n",
    "        print()\n",
    "        i = i+1\n"
   ]
  },
  {
   "cell_type": "raw",
   "metadata": {},
   "source": [
    "1234\n",
    "123\n",
    "12\n",
    "1"
   ]
  },
  {
   "cell_type": "code",
   "execution_count": 168,
   "metadata": {},
   "outputs": [
    {
     "name": "stdout",
     "output_type": "stream",
     "text": [
      "4\n",
      "4321\n",
      "432\n",
      "43\n",
      "4\n"
     ]
    }
   ],
   "source": [
    "n = int(input())\n",
    "i = 1\n",
    "while i<=n:\n",
    "    k = n\n",
    "    j = 1\n",
    "    while k>=i:\n",
    "        print(k, end='')\n",
    "        k = k-1\n",
    "        j = j+1\n",
    "    print()\n",
    "    i = i+1    "
   ]
  },
  {
   "cell_type": "code",
   "execution_count": 5,
   "metadata": {},
   "outputs": [
    {
     "name": "stdout",
     "output_type": "stream",
     "text": [
      "4\n",
      "1 2 3 4 \n",
      "1 2 3 \n",
      "1 2 \n",
      "1 \n"
     ]
    }
   ],
   "source": [
    "n = int(input())\n",
    "i = 1\n",
    "\n",
    "while i<=n:\n",
    "    j = 1\n",
    "    \n",
    "    while j<=n-i+1:              # here j from 1 to n-i+1 wrt i\n",
    "        print(j, end=' ')\n",
    "        j = j+1\n",
    "    \n",
    "    print()\n",
    "    i = i+1\n",
    "        "
   ]
  },
  {
   "cell_type": "raw",
   "metadata": {},
   "source": [
    "1\n",
    "11\n",
    "121\n",
    "1221"
   ]
  },
  {
   "cell_type": "code",
   "execution_count": null,
   "metadata": {},
   "outputs": [],
   "source": []
  },
  {
   "cell_type": "markdown",
   "metadata": {},
   "source": [
    "### Inverted triangle"
   ]
  },
  {
   "cell_type": "code",
   "execution_count": null,
   "metadata": {},
   "outputs": [],
   "source": [
    "n = 4\n",
    "i = 1\n",
    "if n>=1:\n",
    "    print('1')\n",
    "\n",
    "    while i<=n-1:\n",
    "        print('1',end='')\n",
    "        j = 1\n",
    "\n",
    "        while j<=i-1:\n",
    "            print('2',end='')\n",
    "            j = j+1\n",
    "        print(end='1')    \n",
    "        print()\n",
    "        i = i+1"
   ]
  },
  {
   "cell_type": "raw",
   "metadata": {},
   "source": [
    "4444\n",
    "333\n",
    "22\n",
    "1"
   ]
  },
  {
   "cell_type": "code",
   "execution_count": 9,
   "metadata": {},
   "outputs": [
    {
     "name": "stdout",
     "output_type": "stream",
     "text": [
      "4\n",
      "4444\n",
      "333\n",
      "22\n",
      "1\n"
     ]
    }
   ],
   "source": [
    "n = int(input())\n",
    "i = 1\n",
    "\n",
    "while i<=n:\n",
    "    j = 1\n",
    "    k = n-i+1\n",
    "    while j<=k:\n",
    "        print(k, end='')\n",
    "        j = j+1\n",
    "    print()\n",
    "    i = i+1\n",
    "    "
   ]
  },
  {
   "cell_type": "code",
   "execution_count": null,
   "metadata": {},
   "outputs": [],
   "source": []
  },
  {
   "cell_type": "markdown",
   "metadata": {},
   "source": [
    "### Reverse triangle"
   ]
  },
  {
   "cell_type": "raw",
   "metadata": {},
   "source": [
    "      *          # first print space with count of n-i\n",
    "    * *          # then print * with count of i \n",
    "  * * *          \n",
    "* * * *     \n"
   ]
  },
  {
   "cell_type": "code",
   "execution_count": 11,
   "metadata": {},
   "outputs": [
    {
     "name": "stdout",
     "output_type": "stream",
     "text": [
      "      * \n",
      "    * * \n",
      "  * * * \n",
      "* * * * \n"
     ]
    }
   ],
   "source": [
    "n = 4\n",
    "i = 1\n",
    "\n",
    "while i<=n:\n",
    "    s = 1\n",
    "    \n",
    "    while s<=n-i:\n",
    "        print(' ', end=' ')\n",
    "        s = s+1\n",
    "    j = 1\n",
    "    \n",
    "    while j<=i:\n",
    "        print('*', end=' ')\n",
    "        j = j+1\n",
    "    \n",
    "    print()\n",
    "    i = i+1"
   ]
  },
  {
   "cell_type": "code",
   "execution_count": null,
   "metadata": {},
   "outputs": [],
   "source": []
  },
  {
   "cell_type": "raw",
   "metadata": {},
   "source": [
    "      1 \n",
    "    1 2 1                       \n",
    "  1 2 3 2 1 \n",
    "1 2 3 4 3 2 1 \n"
   ]
  },
  {
   "cell_type": "code",
   "execution_count": 13,
   "metadata": {},
   "outputs": [
    {
     "name": "stdout",
     "output_type": "stream",
     "text": [
      "4\n",
      "      1 \n",
      "    1 2 1 \n",
      "  1 2 3 2 1 \n",
      "1 2 3 4 3 2 1 \n"
     ]
    }
   ],
   "source": [
    "n = int(input())\n",
    "i = 1\n",
    "\n",
    "while i<=n:\n",
    "    space = 1\n",
    "    \n",
    "    while space<=n-i:               # create space wrt n-i\n",
    "        print(' ', end=' ')\n",
    "        space = space+1\n",
    "        \n",
    "    j = 1\n",
    "                                    \n",
    "    while j<=i:                     # print increasing number\n",
    "        print(j, end=' ')\n",
    "        j = j+1\n",
    "    \n",
    "    p = i-1\n",
    "    \n",
    "    while p>=1:                     # print decreasing number wrt i-1 ( from i-1 to 1)\n",
    "        print(p, end=' ')\n",
    "        p = p-1\n",
    "        \n",
    "    print()\n",
    "    i = i+1"
   ]
  },
  {
   "cell_type": "code",
   "execution_count": null,
   "metadata": {},
   "outputs": [],
   "source": []
  },
  {
   "cell_type": "raw",
   "metadata": {},
   "source": [
    "   1\n",
    "  232\n",
    " 34543\n",
    "4567654\n"
   ]
  },
  {
   "cell_type": "code",
   "execution_count": 41,
   "metadata": {},
   "outputs": [
    {
     "name": "stdout",
     "output_type": "stream",
     "text": [
      "4\n",
      "   1\n",
      "  232\n",
      " 34543\n",
      "4567654\n"
     ]
    }
   ],
   "source": [
    "n  = int(input())\n",
    "i = 1\n",
    "\n",
    "while i<=n:\n",
    "    \n",
    "    dec = 2\n",
    "    space = 1\n",
    "    while space<=n-i:\n",
    "        print(' ', end='')\n",
    "        space = space+1\n",
    "\n",
    "    j = 1\n",
    "    inc = i\n",
    "    while j<=i:\n",
    "        print(inc, end='')\n",
    "        inc = inc+1\n",
    "        j = j+1\n",
    "        \n",
    "    p = i-1\n",
    "    k = 2*i-2\n",
    "    while p>=1:\n",
    "        print(k, end='')\n",
    "        p = p-1\n",
    "        k = k-1\n",
    "\n",
    "    print()\n",
    "    i = i+1      \n"
   ]
  },
  {
   "cell_type": "raw",
   "metadata": {},
   "source": [
    "  *                           \n",
    " ***\n",
    "*****\n",
    " ***\n",
    "  *             n = 5    "
   ]
  },
  {
   "cell_type": "raw",
   "metadata": {},
   "source": [
    "    *\n",
    "   ***\n",
    "  *****\n",
    " *******\n",
    "*********\n",
    " *******\n",
    "  *****\n",
    "   ***\n",
    "    *           n = 9"
   ]
  },
  {
   "cell_type": "code",
   "execution_count": 185,
   "metadata": {},
   "outputs": [
    {
     "name": "stdout",
     "output_type": "stream",
     "text": [
      "9\n",
      "    *\n",
      "   ***\n",
      "  *****\n",
      " *******\n",
      "*********\n",
      " *******\n",
      "  *****\n",
      "   ***\n",
      "    *\n"
     ]
    }
   ],
   "source": [
    "n = int(input())\n",
    "i = 1\n",
    "n1 = (n+1)//2\n",
    "n2 = n1-1\n",
    "\n",
    "while i<=n1:\n",
    "    space = 1\n",
    "    while space<=(n1-i):\n",
    "        print(' ', end='')\n",
    "        space = space+1\n",
    "    j = 1\n",
    "    while j<=2*i-1:\n",
    "        print('*', end='')\n",
    "        j = j+1\n",
    "    print()\n",
    "    i = i+1\n",
    "\n",
    "i = n2\n",
    "k = n2\n",
    "while k>=n2-i+1:\n",
    "    space = 1\n",
    "    while space<=n2-i+1:\n",
    "        print(' ', end='')\n",
    "        space = space+1\n",
    "        \n",
    "    j = 1\n",
    "    while j<=2*i-1:\n",
    "        print('*', end='')\n",
    "        j = j+1\n",
    "        \n",
    "    print()\n",
    "    i = i-1   \n",
    "           \n",
    "        \n",
    "                \n",
    "\n"
   ]
  },
  {
   "cell_type": "code",
   "execution_count": null,
   "metadata": {},
   "outputs": [],
   "source": []
  },
  {
   "cell_type": "code",
   "execution_count": null,
   "metadata": {},
   "outputs": [],
   "source": [
    "n = int(input())\n",
    "n1 = (n+1)//2\n",
    "n2 = n//2\n",
    "\n",
    "i = 1\n",
    "while i<=n1:\n",
    "    space = 1\n",
    "    while space<=(n1-i):\n",
    "        print(' ', end='')\n",
    "        space = space+1\n",
    "    j = 1\n",
    "    while j<=(2*i-1):\n",
    "        print('*', end='')\n",
    "        j = j+1\n",
    "        \n",
    "    print()\n",
    "    i = i+1\n",
    "\n"
   ]
  },
  {
   "cell_type": "code",
   "execution_count": null,
   "metadata": {},
   "outputs": [],
   "source": [
    "n2"
   ]
  },
  {
   "cell_type": "code",
   "execution_count": 180,
   "metadata": {},
   "outputs": [
    {
     "name": "stdout",
     "output_type": "stream",
     "text": [
      " *****\n",
      "  ***\n",
      "   *\n"
     ]
    }
   ],
   "source": [
    "n = 7\n",
    "n1 = (n+1)//2\n",
    "n2 = n//2\n",
    "\n",
    "i = n2\n",
    "k = n2\n",
    "while k>=n2-i+1:\n",
    "    space = 1\n",
    "    while space<=n2-i+1:\n",
    "        print(' ', end='')\n",
    "        space = space+1\n",
    "        \n",
    "    j = 1\n",
    "    while j<=2*i-1:\n",
    "        print('*', end='')\n",
    "        j = j+1\n",
    "        \n",
    "    print()\n",
    "    i = i-1"
   ]
  },
  {
   "cell_type": "code",
   "execution_count": 165,
   "metadata": {},
   "outputs": [
    {
     "data": {
      "text/plain": [
       "4"
      ]
     },
     "execution_count": 165,
     "metadata": {},
     "output_type": "execute_result"
    }
   ],
   "source": [
    "n1"
   ]
  },
  {
   "cell_type": "code",
   "execution_count": null,
   "metadata": {},
   "outputs": [],
   "source": []
  },
  {
   "cell_type": "raw",
   "metadata": {},
   "source": [
    "1        1\n",
    "12      21\n",
    "123    321\n",
    "1234  4321\n",
    "1234554321"
   ]
  },
  {
   "cell_type": "code",
   "execution_count": 251,
   "metadata": {},
   "outputs": [
    {
     "name": "stdout",
     "output_type": "stream",
     "text": [
      "1        1\n",
      "12      21\n",
      "123    321\n",
      "1234  4321\n",
      "1234554321\n"
     ]
    }
   ],
   "source": [
    "n = 5\n",
    "N = n*2\n",
    "n1 = N//2\n",
    "n2 = n1-1\n",
    "\n",
    "i = 1\n",
    "while i<=n:\n",
    "    j = 1\n",
    "    while j<=i:\n",
    "        print(j, end='')\n",
    "        j = j+1\n",
    "        \n",
    "    space_1 = 1\n",
    "    while space_1<=n-i:\n",
    "        print(' ',end='')\n",
    "        space_1 = space_1+1\n",
    "        \n",
    "    space_2 = 1\n",
    "    while space_2<=n-i:\n",
    "        print(' ',end='')\n",
    "        space_2 = space_2+1\n",
    "    \n",
    "    j_1 = 1\n",
    "    k = i\n",
    "    l = n2\n",
    "    while j_1<=i:\n",
    "        print(k, end='')\n",
    "        j_1 = j_1+1\n",
    "        l = l-1\n",
    "        k = k-1\n",
    "        \n",
    "    \n",
    "    \n",
    "    print()\n",
    "    i = i+1"
   ]
  },
  {
   "cell_type": "code",
   "execution_count": null,
   "metadata": {},
   "outputs": [],
   "source": []
  },
  {
   "cell_type": "raw",
   "metadata": {},
   "source": [
    "*000*000*\n",
    "0*00*00*0\n",
    "00*0*0*00\n",
    "000***000"
   ]
  },
  {
   "cell_type": "code",
   "execution_count": null,
   "metadata": {},
   "outputs": [],
   "source": []
  },
  {
   "cell_type": "code",
   "execution_count": 283,
   "metadata": {},
   "outputs": [
    {
     "name": "stdout",
     "output_type": "stream",
     "text": [
      "* \n",
      "* 0 \n",
      "* 0 0 \n",
      "* 0 0 0 \n"
     ]
    }
   ],
   "source": [
    "n = 4\n",
    "star = 1\n",
    "i = 1\n",
    "while i<=n:\n",
    "    j = 1\n",
    "    \n",
    "    while j<=i:\n",
    "        j +=1\n",
    "        if star == i:\n",
    "            print('*',end=' ')\n",
    "            star +=1\n",
    "            \n",
    "        else:\n",
    "            print('0',end=' ')\n",
    "        \n",
    "    print()\n",
    "    i+=1"
   ]
  },
  {
   "cell_type": "code",
   "execution_count": 269,
   "metadata": {},
   "outputs": [
    {
     "data": {
      "text/plain": [
       "2"
      ]
     },
     "execution_count": 269,
     "metadata": {},
     "output_type": "execute_result"
    }
   ],
   "source": [
    "2"
   ]
  },
  {
   "cell_type": "code",
   "execution_count": null,
   "metadata": {},
   "outputs": [],
   "source": []
  },
  {
   "cell_type": "code",
   "execution_count": 285,
   "metadata": {},
   "outputs": [
    {
     "name": "stdout",
     "output_type": "stream",
     "text": [
      "4\n",
      "*000*000*\n",
      "0*00*00*0\n",
      "00*0*0*00\n",
      "000***000\n"
     ]
    }
   ],
   "source": [
    "n = int(input())\n",
    "rows = 2*n + 1\n",
    "i = 1\n",
    "\n",
    "while i <= n:\n",
    "    j = 1\n",
    "    while j <= rows:\n",
    "        if(j == i or j == (rows // 2 + 1) or j == rows - i +1):\n",
    "            print('*',end = '')\n",
    "            \n",
    "        else:\n",
    "            print('0',end = '')\n",
    "\n",
    "        j = j + 1\n",
    "        \n",
    "    print()\n",
    "    i = i + 1"
   ]
  },
  {
   "cell_type": "code",
   "execution_count": 295,
   "metadata": {},
   "outputs": [
    {
     "name": "stdout",
     "output_type": "stream",
     "text": [
      "4\n",
      "*000*000*\n",
      "0*00*00*0\n",
      "00*0*0*00\n",
      "000***000\n"
     ]
    }
   ],
   "source": [
    "n = int(input())\n",
    "i = 1\n",
    "\n",
    "columns = 2*n+1\n",
    "\n",
    "while i<=n:\n",
    "    j = 1\n",
    "    while j<=columns:\n",
    "        if (j==i or j==(n+1) or j== columns-i+1):\n",
    "            print('*', end='')\n",
    "\n",
    "        else:\n",
    "            print('0', end='')\n",
    "        j+=1\n",
    "\n",
    "    print()\n",
    "    i+=1 "
   ]
  },
  {
   "cell_type": "code",
   "execution_count": null,
   "metadata": {},
   "outputs": [],
   "source": []
  },
  {
   "cell_type": "raw",
   "metadata": {},
   "source": [
    "   1\n",
    "  212\n",
    " 32123\n",
    "4321234"
   ]
  },
  {
   "cell_type": "code",
   "execution_count": 379,
   "metadata": {},
   "outputs": [
    {
     "name": "stdout",
     "output_type": "stream",
     "text": [
      "   1\n",
      "  212\n",
      " 32123\n",
      "4321234\n"
     ]
    }
   ],
   "source": [
    "N = 4\n",
    "n = 2*N-1\n",
    "n1 = n//2+1\n",
    "n2 = n-n1\n",
    "\n",
    "i = 1\n",
    "while i<=N:\n",
    "    space = 1\n",
    "    while space<=n1-i:\n",
    "        print(' ', end='')\n",
    "        space +=1    \n",
    "        \n",
    "    j = 1\n",
    "    p = i\n",
    "    while j<=i:\n",
    "        print(p,end='')\n",
    "        j+=1\n",
    "        p-=1\n",
    "        \n",
    "    j = 2\n",
    "    while j<=i:\n",
    "        print(j, end='')\n",
    "        j +=1    \n",
    "    print()\n",
    "    i+=1\n",
    "    \n",
    "    "
   ]
  },
  {
   "cell_type": "code",
   "execution_count": null,
   "metadata": {},
   "outputs": [],
   "source": []
  },
  {
   "cell_type": "raw",
   "metadata": {},
   "source": [
    "*\n",
    " * *\n",
    "   * * *\n",
    "     * * * *\n",
    "   * * *\n",
    " * *\n",
    "*"
   ]
  },
  {
   "cell_type": "code",
   "execution_count": 442,
   "metadata": {},
   "outputs": [
    {
     "name": "stdout",
     "output_type": "stream",
     "text": [
      "7\n",
      "* \n",
      " * * \n",
      "  * * * \n",
      "   * * * * \n",
      "  * * * \n",
      " * * \n",
      "* \n"
     ]
    }
   ],
   "source": [
    "N = int(input())\n",
    "n1 = N//2+1\n",
    "n2 = n1-1\n",
    "i = 1\n",
    "while i<=n1:\n",
    "    space = 1\n",
    "    while space<i:\n",
    "        print(' ', end='')\n",
    "        space+=1\n",
    "        \n",
    "    j = 1\n",
    "    while j<=i:\n",
    "        print('*', end=' ')\n",
    "        j = j+1\n",
    "        \n",
    "        \n",
    "        \n",
    "    print()\n",
    "    i+=1\n",
    "i = 1    \n",
    "while i<=n2:\n",
    "    space = 2\n",
    "    while space<=n2-i+1:\n",
    "        print(' ', end='')\n",
    "        space+=1\n",
    "        \n",
    "    j = 1\n",
    "    while j<=n2-i+1:\n",
    "        print('*', end=' ')\n",
    "        j = j+1\n",
    "        \n",
    "    print()\n",
    "    i +=1    "
   ]
  },
  {
   "cell_type": "code",
   "execution_count": null,
   "metadata": {},
   "outputs": [],
   "source": []
  },
  {
   "cell_type": "code",
   "execution_count": null,
   "metadata": {},
   "outputs": [],
   "source": []
  },
  {
   "cell_type": "code",
   "execution_count": null,
   "metadata": {},
   "outputs": [],
   "source": []
  },
  {
   "cell_type": "markdown",
   "metadata": {},
   "source": [
    "### With For Loop"
   ]
  },
  {
   "cell_type": "raw",
   "metadata": {},
   "source": [
    "   1\n",
    "  232\n",
    " 34543\n",
    "4567654         "
   ]
  },
  {
   "cell_type": "raw",
   "metadata": {},
   "source": [
    "# STEPS:-\n",
    "    \n",
    "1) First print space with start from 3 to 1  -> n-i to i-1\n",
    "2) second print increase oder number from i______2i-1, -1\n",
    "3) Third print Decrease order number from 2i-2 to i"
   ]
  },
  {
   "cell_type": "code",
   "execution_count": 445,
   "metadata": {},
   "outputs": [
    {
     "name": "stdout",
     "output_type": "stream",
     "text": [
      "   1\n",
      "  232\n",
      " 34543\n",
      "4567654\n"
     ]
    }
   ],
   "source": [
    "n = 4\n",
    "\n",
    "for i in range(1, n+1, 1):\n",
    "    for space in range(n-i):\n",
    "        print(\" \", end='')\n",
    "    for j in range(i, 2*i, 1):\n",
    "        print(j, end='')\n",
    "    for j in range(2*i-2, i-1, -1):\n",
    "        print(j, end='')\n",
    "    print()    "
   ]
  },
  {
   "cell_type": "code",
   "execution_count": null,
   "metadata": {},
   "outputs": [],
   "source": []
  },
  {
   "cell_type": "raw",
   "metadata": {},
   "source": [
    "   1\n",
    "  212\n",
    " 32123\n",
    "4321234"
   ]
  },
  {
   "cell_type": "code",
   "execution_count": 513,
   "metadata": {},
   "outputs": [
    {
     "name": "stdout",
     "output_type": "stream",
     "text": [
      "   1\n",
      "  212\n",
      " 32123\n",
      "4321234\n"
     ]
    }
   ],
   "source": [
    "n = 4\n",
    "\n",
    "for i in range(1, n+1, 1):\n",
    "    \n",
    "    for space in range(n-i):\n",
    "        print(' ', end='')\n",
    "    for j in range(i,0,-1 ):\n",
    "        print(j, end='')\n",
    "    for j in range(2,i+1):\n",
    "        print(j, end='')\n",
    "    \n",
    "       \n",
    "    print()    "
   ]
  },
  {
   "cell_type": "code",
   "execution_count": null,
   "metadata": {},
   "outputs": [],
   "source": []
  },
  {
   "cell_type": "raw",
   "metadata": {},
   "source": [
    "1111\n",
    "000\n",
    "11\n",
    "0"
   ]
  },
  {
   "cell_type": "code",
   "execution_count": 547,
   "metadata": {},
   "outputs": [
    {
     "name": "stdout",
     "output_type": "stream",
     "text": [
      "0000\n",
      "111\n",
      "11\n",
      "0\n"
     ]
    }
   ],
   "source": [
    "n = 4\n",
    "k = 1\n",
    "for i in range(n,0,-1):\n",
    "    \n",
    "    for j in range(1,i+1):\n",
    "        if i&2!=0:\n",
    "            print('1', end='')\n",
    "        else:\n",
    "            print('0', end='')\n",
    "    print() \n",
    "    "
   ]
  },
  {
   "cell_type": "code",
   "execution_count": 549,
   "metadata": {},
   "outputs": [
    {
     "name": "stdout",
     "output_type": "stream",
     "text": [
      "4\n",
      "3\n",
      "2\n",
      "1\n"
     ]
    }
   ],
   "source": [
    "n = 4\n",
    "\n",
    "for i in range(n,0,-1):\n",
    "    print(i)"
   ]
  },
  {
   "cell_type": "code",
   "execution_count": 560,
   "metadata": {},
   "outputs": [
    {
     "name": "stdout",
     "output_type": "stream",
     "text": [
      "1111\n",
      "000\n",
      "11\n",
      "0\n"
     ]
    }
   ],
   "source": [
    "n = 4\n",
    "\n",
    "for i in range(1, n+1, 1):\n",
    "    \n",
    "    for j in range(1, n-i+2, 1):\n",
    "        if(i%2 != 0):\n",
    "            print('1', end ='')\n",
    "            \n",
    "        else:\n",
    "            print('0', end ='')\n",
    "     \n",
    "    \n",
    "    print()"
   ]
  },
  {
   "cell_type": "code",
   "execution_count": 555,
   "metadata": {},
   "outputs": [
    {
     "name": "stdout",
     "output_type": "stream",
     "text": [
      "4\n",
      "1111\n",
      "000\n",
      "11\n",
      "0\n"
     ]
    }
   ],
   "source": [
    "n = int(input())\n",
    "\n",
    "for i in range(1, n+1, 1):\n",
    "    \n",
    "    for j in range(1, n-i+2, 1):        \n",
    "        if(i%2 != 0):\n",
    "            print('1', end ='')\n",
    "            \n",
    "        else:\n",
    "            print('0', end ='')\n",
    "    \n",
    "    print()"
   ]
  },
  {
   "cell_type": "code",
   "execution_count": 565,
   "metadata": {},
   "outputs": [
    {
     "name": "stdout",
     "output_type": "stream",
     "text": [
      "4\n",
      "1111\n",
      "000\n",
      "11\n",
      "0\n"
     ]
    }
   ],
   "source": [
    "n = int(input())\n",
    "\n",
    "for i in range(1, n+1, 1):\n",
    "\n",
    "    for j in range(1, n-i+2, 1):\n",
    "        \n",
    "        if i%2!= 0:\n",
    "            print('1', end='')\n",
    "        else:\n",
    "            print('0', end='')\n",
    "\n",
    "    print()"
   ]
  },
  {
   "cell_type": "code",
   "execution_count": null,
   "metadata": {},
   "outputs": [],
   "source": []
  },
  {
   "cell_type": "raw",
   "metadata": {},
   "source": [
    "123456\n",
    "  23456\n",
    "    3456\n",
    "      456\n",
    "        56\n",
    "          6\n",
    "        56\n",
    "      456\n",
    "    3456\n",
    "  23456\n",
    "123456"
   ]
  },
  {
   "cell_type": "code",
   "execution_count": null,
   "metadata": {},
   "outputs": [],
   "source": []
  },
  {
   "cell_type": "code",
   "execution_count": null,
   "metadata": {},
   "outputs": [],
   "source": []
  },
  {
   "cell_type": "code",
   "execution_count": 643,
   "metadata": {},
   "outputs": [
    {
     "name": "stdout",
     "output_type": "stream",
     "text": [
      "123456\n",
      " 23456\n",
      "  3456\n",
      "   456\n",
      "    56\n",
      "     6\n",
      "    56\n",
      "   456\n",
      "  3456\n",
      " 23456\n",
      "123456\n"
     ]
    }
   ],
   "source": [
    "n = 6\n",
    "\n",
    "for i in range(1,n+1, 1):\n",
    "    for j in range(2,i+1,1):\n",
    "        print(' ',end='')\n",
    "    l = i    \n",
    "    for k in range(1,(n+2)-i,1):\n",
    "        print(l,end='')\n",
    "        l+=1\n",
    "    print()\n",
    "    \n",
    "for i in range(2,n+1, 1):\n",
    "    for j in range(1,n-i+1,1):\n",
    "        print(' ',end='')\n",
    "    \n",
    "    l = (n+1)-i\n",
    "    for k in range(1,i+1,1):\n",
    "        print(l, end='')\n",
    "        l+=1\n",
    "    \n",
    "    print()    "
   ]
  },
  {
   "cell_type": "code",
   "execution_count": null,
   "metadata": {},
   "outputs": [],
   "source": []
  },
  {
   "cell_type": "code",
   "execution_count": null,
   "metadata": {},
   "outputs": [],
   "source": []
  },
  {
   "cell_type": "raw",
   "metadata": {},
   "source": [
    "   *\n",
    "  ***\n",
    " *****\n",
    "*******\n",
    " *****\n",
    "  ***\n",
    "   *"
   ]
  },
  {
   "cell_type": "code",
   "execution_count": 743,
   "metadata": {},
   "outputs": [
    {
     "name": "stdout",
     "output_type": "stream",
     "text": [
      "   *\n",
      "  ***\n",
      " *****\n",
      "*******\n",
      " *****\n",
      "  ***\n",
      "   *\n"
     ]
    }
   ],
   "source": [
    "n = 7\n",
    "\n",
    "\n",
    "n1 = (n+1)//2\n",
    "n2 = n1-1\n",
    "\n",
    "\n",
    "for i in range(1, n1+1, 1):\n",
    "    \n",
    "    for space in range(n1-i):\n",
    "        print(' ', end='')\n",
    "    \n",
    "    for j in range(2*i-1):\n",
    "        print('*', end='')\n",
    "    \n",
    "    print()\n",
    "    \n",
    "\n",
    "for i in range(n2,0,-1):\n",
    "    \n",
    "    for space in range(n2-i+1):\n",
    "        print(' ', end='')\n",
    "     \n",
    "    for j in range(2*i-1):\n",
    "        print('*', end='')\n",
    "        \n",
    "    print()     "
   ]
  },
  {
   "cell_type": "code",
   "execution_count": null,
   "metadata": {},
   "outputs": [],
   "source": []
  },
  {
   "cell_type": "raw",
   "metadata": {},
   "source": [
    " 5432*\n",
    " 543*1\n",
    " 54*21\n",
    " 5*321\n",
    " *4321"
   ]
  },
  {
   "cell_type": "code",
   "execution_count": null,
   "metadata": {},
   "outputs": [],
   "source": [
    "n = 5\n",
    "i= 1\n",
    "while i<=n:\n",
    "    j = 1\n",
    "    while j<="
   ]
  },
  {
   "cell_type": "raw",
   "metadata": {},
   "source": [
    "****\n",
    " ***     \n",
    "  **\n",
    "   *"
   ]
  },
  {
   "cell_type": "code",
   "execution_count": 748,
   "metadata": {},
   "outputs": [
    {
     "name": "stdout",
     "output_type": "stream",
     "text": [
      "3\n",
      "1\n",
      "3\n",
      "4\n",
      "****\n",
      " ***\n",
      "  **\n",
      "   *\n",
      "****\n",
      " ***\n",
      "  **\n",
      "   *\n",
      "****\n",
      " ***\n",
      "  **\n",
      "   *\n"
     ]
    }
   ],
   "source": [
    "m = int(input())\n",
    "\n",
    "for i in range(m):\n",
    "    n = int(input())\n",
    "\n",
    "for k in range(m):\n",
    "    for i in range(1,n+1, 1):\n",
    "        for j in range(2,i+1,1):\n",
    "            print(' ',end='')\n",
    "        l = i    \n",
    "        for k in range(1,(n+2)-i,1):\n",
    "            print('*',end='')\n",
    "        l+=1\n",
    "        print()"
   ]
  },
  {
   "cell_type": "code",
   "execution_count": 783,
   "metadata": {},
   "outputs": [
    {
     "name": "stdout",
     "output_type": "stream",
     "text": [
      "2\n",
      "1\n",
      "*\n",
      "4\n",
      "****\n",
      " ***\n",
      "  **\n",
      "   *\n"
     ]
    }
   ],
   "source": [
    "\n",
    "def ninjaPuzzle(n):\n",
    "    \n",
    "    for i in range(1,n+1, 1):\n",
    "        for j in range(2,i+1,1):\n",
    "            print(' ',end='')\n",
    "            \n",
    "        for k in range(1,(n+2)-i,1):\n",
    "            print('*',end='')\n",
    "        \n",
    "        print()\n",
    "        \n",
    "        \n",
    "m = int(input())\n",
    "\n",
    "for i in range(m):\n",
    "    n =  int(input().strip())\n",
    "    ninjaPuzzle(n)"
   ]
  },
  {
   "cell_type": "code",
   "execution_count": 752,
   "metadata": {},
   "outputs": [
    {
     "name": "stdout",
     "output_type": "stream",
     "text": [
      "1234\n"
     ]
    }
   ],
   "source": [
    "k = int(input().strip())"
   ]
  },
  {
   "cell_type": "code",
   "execution_count": 753,
   "metadata": {},
   "outputs": [
    {
     "data": {
      "text/plain": [
       "1234"
      ]
     },
     "execution_count": 753,
     "metadata": {},
     "output_type": "execute_result"
    }
   ],
   "source": [
    "k"
   ]
  },
  {
   "cell_type": "code",
   "execution_count": null,
   "metadata": {},
   "outputs": [],
   "source": []
  },
  {
   "cell_type": "raw",
   "metadata": {},
   "source": [
    " 5432*\n",
    " 543*1\n",
    " 54*21\n",
    " 5*321\n",
    " *4321"
   ]
  },
  {
   "cell_type": "code",
   "execution_count": 785,
   "metadata": {},
   "outputs": [
    {
     "name": "stdout",
     "output_type": "stream",
     "text": [
      "5\n",
      "5 4 3 2 * \n",
      "5 4 3 * 1 \n",
      "5 4 * 2 1 \n",
      "5 * 3 2 1 \n",
      "* 4 3 2 1 \n"
     ]
    }
   ],
   "source": [
    "n = int(input())\n",
    "space = n\n",
    "\n",
    "for i in range(1,n+1,1):\n",
    "    \n",
    "    for j in range(1,n+1,1):\n",
    "        if space==j:\n",
    "            print('*',end=' ')\n",
    "            space-=1\n",
    "        else:\n",
    "            print(n-j+1,end=' ')\n",
    "            \n",
    "    print()    "
   ]
  },
  {
   "cell_type": "code",
   "execution_count": 765,
   "metadata": {},
   "outputs": [
    {
     "name": "stdout",
     "output_type": "stream",
     "text": [
      "54321\n",
      "54321\n",
      "54321\n",
      "54321\n",
      "54321\n"
     ]
    }
   ],
   "source": [
    "n= 5\n",
    "\n",
    "i = 1\n",
    "while i<=n:\n",
    "    j = 1\n",
    "    k = n\n",
    "    while j<=n:\n",
    "        print(k,end='')\n",
    "        k -=1\n",
    "        j+=1\n",
    "    space = 1    \n",
    "    while space <=     \n",
    "    print()     \n",
    "    i+=1    \n",
    "    "
   ]
  },
  {
   "cell_type": "code",
   "execution_count": 784,
   "metadata": {},
   "outputs": [],
   "source": [
    "def ninjaPuzzle(n):\n",
    "    \n",
    "    for i in range(n):\n",
    "        for j in range(n):\n",
    "            if j>=i:\n",
    "                print('*',end='')\n",
    "            else:\n",
    "                print(' ',end='')\n",
    "        print()        "
   ]
  },
  {
   "cell_type": "code",
   "execution_count": null,
   "metadata": {},
   "outputs": [],
   "source": [
    "\n",
    "def findGcd(a, b):\n",
    "    if b == 0:\n",
    "        return a\n",
    "\n",
    "    return gcd(b, a % b)\n",
    "\n",
    "\n",
    "\n",
    "def gcd(a, b):\n",
    "    while b != 0:\n",
    "        a, b = b, a % b\n",
    "\n",
    "    return a\n",
    "\n",
    "\n",
    "\n"
   ]
  }
 ],
 "metadata": {
  "kernelspec": {
   "display_name": "Python 3",
   "language": "python",
   "name": "python3"
  },
  "language_info": {
   "codemirror_mode": {
    "name": "ipython",
    "version": 3
   },
   "file_extension": ".py",
   "mimetype": "text/x-python",
   "name": "python",
   "nbconvert_exporter": "python",
   "pygments_lexer": "ipython3",
   "version": "3.7.6"
  }
 },
 "nbformat": 4,
 "nbformat_minor": 4
}
