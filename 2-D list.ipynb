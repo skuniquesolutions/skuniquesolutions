{
 "cells": [
  {
   "cell_type": "code",
   "execution_count": 4,
   "metadata": {},
   "outputs": [
    {
     "name": "stdout",
     "output_type": "stream",
     "text": [
      "[[1, 2, 3, 4], [5, 6, 7, 8], [9, 10, 11, 12], [13, 14, 15, 16]]\n"
     ]
    }
   ],
   "source": [
    "lis = [[1,2,3,4],[5,6,7,8],[9,10,11,12],[13,14,15,16]]\n",
    "print(lis)"
   ]
  },
  {
   "cell_type": "code",
   "execution_count": 6,
   "metadata": {},
   "outputs": [
    {
     "data": {
      "text/plain": [
       "10"
      ]
     },
     "execution_count": 6,
     "metadata": {},
     "output_type": "execute_result"
    }
   ],
   "source": [
    "lis[2][1]"
   ]
  },
  {
   "cell_type": "code",
   "execution_count": 7,
   "metadata": {},
   "outputs": [],
   "source": [
    "lis[2][1]=99"
   ]
  },
  {
   "cell_type": "code",
   "execution_count": 8,
   "metadata": {},
   "outputs": [
    {
     "data": {
      "text/plain": [
       "99"
      ]
     },
     "execution_count": 8,
     "metadata": {},
     "output_type": "execute_result"
    }
   ],
   "source": [
    "lis[2][1]"
   ]
  },
  {
   "cell_type": "code",
   "execution_count": 9,
   "metadata": {},
   "outputs": [
    {
     "data": {
      "text/plain": [
       "[[1, 2, 3, 4], [5, 6, 7, 8], [9, 99, 11, 12], [13, 14, 15, 16]]"
      ]
     },
     "execution_count": 9,
     "metadata": {},
     "output_type": "execute_result"
    }
   ],
   "source": [
    "lis"
   ]
  },
  {
   "cell_type": "code",
   "execution_count": null,
   "metadata": {},
   "outputs": [],
   "source": []
  },
  {
   "cell_type": "code",
   "execution_count": null,
   "metadata": {},
   "outputs": [],
   "source": []
  },
  {
   "cell_type": "markdown",
   "metadata": {},
   "source": [
    "# List Comprehension\n"
   ]
  },
  {
   "cell_type": "code",
   "execution_count": 18,
   "metadata": {},
   "outputs": [
    {
     "name": "stdout",
     "output_type": "stream",
     "text": [
      "2\n",
      "4\n",
      "6\n"
     ]
    }
   ],
   "source": [
    "lis = [1,2,3,4,5,6]\n",
    "\n",
    "for i in lis:\n",
    "    if i%2 == 0:\n",
    "        print(i)"
   ]
  },
  {
   "cell_type": "code",
   "execution_count": 19,
   "metadata": {},
   "outputs": [
    {
     "name": "stdout",
     "output_type": "stream",
     "text": [
      "[2, 4, 6]\n"
     ]
    }
   ],
   "source": [
    "number = [i for i in lis if i%2==0]\n",
    "print(number)"
   ]
  },
  {
   "cell_type": "code",
   "execution_count": 20,
   "metadata": {},
   "outputs": [
    {
     "name": "stdout",
     "output_type": "stream",
     "text": [
      "[4, 8, 12]\n"
     ]
    }
   ],
   "source": [
    "filt = [i*2 for i in lis if i%2 == 0]\n",
    "print(filt)"
   ]
  },
  {
   "cell_type": "code",
   "execution_count": 24,
   "metadata": {},
   "outputs": [
    {
     "name": "stdout",
     "output_type": "stream",
     "text": [
      "[4, 8, 12]\n"
     ]
    }
   ],
   "source": [
    "filt = [i*2 for i in lis if i%2 == 0 ]\n",
    "print(filt)"
   ]
  },
  {
   "cell_type": "code",
   "execution_count": 33,
   "metadata": {},
   "outputs": [
    {
     "name": "stdout",
     "output_type": "stream",
     "text": [
      "[1, 4, 3, 16, 36]\n"
     ]
    }
   ],
   "source": [
    "lis = [1,2,3,4,6]\n",
    "filt = [i**2 if i%2 == 0 else i for i in lis]\n",
    "print(filt)"
   ]
  },
  {
   "cell_type": "code",
   "execution_count": 25,
   "metadata": {},
   "outputs": [
    {
     "name": "stdout",
     "output_type": "stream",
     "text": [
      "[12]\n"
     ]
    }
   ],
   "source": [
    "filt = [i*2 for i in lis if i%2 == 0 and i%3==0]\n",
    "print(filt)"
   ]
  },
  {
   "cell_type": "code",
   "execution_count": 27,
   "metadata": {},
   "outputs": [
    {
     "name": "stdout",
     "output_type": "stream",
     "text": [
      "[2, 4, 6]\n"
     ]
    }
   ],
   "source": [
    "lis_1 = [2,3,4,5,6]\n",
    "lis_2 = [8,2,6,4]\n",
    "\n",
    "interection = []\n",
    "for i in lis_1:\n",
    "    for j in lis_2:\n",
    "        if i==j:\n",
    "            interection.append(i)\n",
    "            \n",
    "            \n",
    "print(interection)            "
   ]
  },
  {
   "cell_type": "code",
   "execution_count": 29,
   "metadata": {},
   "outputs": [
    {
     "name": "stdout",
     "output_type": "stream",
     "text": [
      "[2, 4, 6]\n"
     ]
    }
   ],
   "source": [
    "interection = [i for i in lis_1 for j in lis_2 if i==j]\n",
    "print(interection)"
   ]
  },
  {
   "cell_type": "code",
   "execution_count": null,
   "metadata": {},
   "outputs": [],
   "source": []
  },
  {
   "cell_type": "code",
   "execution_count": 41,
   "metadata": {},
   "outputs": [],
   "source": [
    "lis = ['Shashi', 'Rahul', 'Soham']\n",
    "\n",
    "lis_2d = [[s for s in ele] for ele in lis ]"
   ]
  },
  {
   "cell_type": "code",
   "execution_count": 42,
   "metadata": {},
   "outputs": [
    {
     "data": {
      "text/plain": [
       "[['S', 'h', 'a', 's', 'h', 'i'],\n",
       " ['R', 'a', 'h', 'u', 'l'],\n",
       " ['S', 'o', 'h', 'a', 'm']]"
      ]
     },
     "execution_count": 42,
     "metadata": {},
     "output_type": "execute_result"
    }
   ],
   "source": [
    "lis_2d"
   ]
  },
  {
   "cell_type": "code",
   "execution_count": null,
   "metadata": {},
   "outputs": [],
   "source": []
  },
  {
   "cell_type": "code",
   "execution_count": 46,
   "metadata": {},
   "outputs": [],
   "source": [
    "lis = [[1,2,3,4],[5,6,7,8],[9,10,11,12],[13,14,15,16]]\n",
    "\n",
    "new = [[num for num in i] for i in lis]"
   ]
  },
  {
   "cell_type": "code",
   "execution_count": 47,
   "metadata": {},
   "outputs": [
    {
     "data": {
      "text/plain": [
       "[[1, 2, 3, 4], [5, 6, 7, 8], [9, 10, 11, 12], [13, 14, 15, 16]]"
      ]
     },
     "execution_count": 47,
     "metadata": {},
     "output_type": "execute_result"
    }
   ],
   "source": [
    "new"
   ]
  },
  {
   "cell_type": "code",
   "execution_count": 50,
   "metadata": {},
   "outputs": [
    {
     "name": "stdout",
     "output_type": "stream",
     "text": [
      "[[0, 0, 0, 0], [0, 1, 2, 3], [0, 2, 4, 6]]\n"
     ]
    }
   ],
   "source": [
    "li = [[ i*j for j in range(4)] for i in range(3)]\n",
    "print(li)"
   ]
  },
  {
   "cell_type": "code",
   "execution_count": 9,
   "metadata": {},
   "outputs": [
    {
     "name": "stdout",
     "output_type": "stream",
     "text": [
      "[[8, 2, 6, 4], [8, 2, 6, 4], [8, 2, 6, 4], [8, 2, 6, 4], [8, 2, 6, 4]]\n"
     ]
    }
   ],
   "source": [
    "lis_1 = [2,3,4,5,6]\n",
    "lis_2 = [8,2,6,4]\n",
    "\n",
    "new_1 = [[i for i in lis_2] for j in lis_1]\n",
    "print(new_1)"
   ]
  },
  {
   "cell_type": "code",
   "execution_count": 14,
   "metadata": {},
   "outputs": [
    {
     "name": "stdout",
     "output_type": "stream",
     "text": [
      "1 2 3 4\n",
      "2 3 4 5\n",
      "3 4 5 6\n"
     ]
    }
   ],
   "source": [
    "n = 4\n",
    "m = 3\n",
    "\n",
    "lis = [[int(i) for i in input().split()] for j in range(m)]"
   ]
  },
  {
   "cell_type": "code",
   "execution_count": 15,
   "metadata": {},
   "outputs": [
    {
     "data": {
      "text/plain": [
       "[[1, 2, 3, 4], [2, 3, 4, 5], [3, 4, 5, 6]]"
      ]
     },
     "execution_count": 15,
     "metadata": {},
     "output_type": "execute_result"
    }
   ],
   "source": [
    "lis"
   ]
  },
  {
   "cell_type": "code",
   "execution_count": null,
   "metadata": {},
   "outputs": [],
   "source": []
  },
  {
   "cell_type": "code",
   "execution_count": 23,
   "metadata": {},
   "outputs": [
    {
     "name": "stdout",
     "output_type": "stream",
     "text": [
      "4 4 \n",
      "1 2 3 4 5 6 7 8 9 10 11 12 13 14 15 16\n",
      "[[1, 2, 3, 4], [5, 6, 7, 8], [9, 10, 11, 12], [13, 14, 15, 16]]\n"
     ]
    }
   ],
   "source": [
    "n,m = input().split()\n",
    "n = int(n)\n",
    "m = int(m)\n",
    "\n",
    "b = input().split()\n",
    "\n",
    "arr = [[int(b[m*i+j]) for j in range(m)] for i in range(n)]\n",
    "\n",
    "print(arr)"
   ]
  },
  {
   "cell_type": "code",
   "execution_count": 26,
   "metadata": {},
   "outputs": [
    {
     "name": "stdout",
     "output_type": "stream",
     "text": [
      "4 4 1 2 3 4 5 6 7 8 9 10 11 12 13 14 15 16\n"
     ]
    }
   ],
   "source": [
    "string = input().split()\n",
    "n, m = int(string[0]), int(string[1])\n",
    "\n",
    "b = string[2:]\n",
    "\n",
    "arr = [[int(b[m*i+j]) for j in range(m)] for i in range(n)]"
   ]
  },
  {
   "cell_type": "code",
   "execution_count": 27,
   "metadata": {},
   "outputs": [
    {
     "name": "stdout",
     "output_type": "stream",
     "text": [
      "[[1, 2, 3, 4], [5, 6, 7, 8], [9, 10, 11, 12], [13, 14, 15, 16]]\n"
     ]
    }
   ],
   "source": [
    "print(arr)"
   ]
  },
  {
   "cell_type": "code",
   "execution_count": null,
   "metadata": {},
   "outputs": [],
   "source": []
  },
  {
   "cell_type": "code",
   "execution_count": null,
   "metadata": {},
   "outputs": [],
   "source": []
  },
  {
   "cell_type": "code",
   "execution_count": null,
   "metadata": {},
   "outputs": [],
   "source": []
  },
  {
   "cell_type": "code",
   "execution_count": 44,
   "metadata": {},
   "outputs": [
    {
     "name": "stdout",
     "output_type": "stream",
     "text": [
      "1 2 3 4 \n",
      "5 6 7 8 \n",
      "9 10 11 12 \n"
     ]
    }
   ],
   "source": [
    "li=[[1,2,3,4],[5,6,7,8],[9,10,11,12]]\n",
    "n = 3\n",
    "m = 4\n",
    "\n",
    "for i in range(n):\n",
    "    for j in range(m):\n",
    "        print(li[i][j], end=' ')\n",
    "    print()    "
   ]
  },
  {
   "cell_type": "code",
   "execution_count": 37,
   "metadata": {},
   "outputs": [
    {
     "data": {
      "text/plain": [
       "9"
      ]
     },
     "execution_count": 37,
     "metadata": {},
     "output_type": "execute_result"
    }
   ],
   "source": [
    "li[2][0]"
   ]
  },
  {
   "cell_type": "markdown",
   "metadata": {},
   "source": [
    "For jogged lists"
   ]
  },
  {
   "cell_type": "code",
   "execution_count": 50,
   "metadata": {},
   "outputs": [
    {
     "name": "stdout",
     "output_type": "stream",
     "text": [
      "1 2 3 4 \n",
      "5 6 \n",
      "9 10 \n",
      "99 33 44 55 77 \n"
     ]
    }
   ],
   "source": [
    "li=[[1,2,3,4],[5,6],[9,10],[99,33,44,55,77]]\n",
    "\n",
    "for row in li:\n",
    "    for j in row:\n",
    "        print(j, end=' ')\n",
    "    print()"
   ]
  },
  {
   "cell_type": "code",
   "execution_count": null,
   "metadata": {},
   "outputs": [],
   "source": []
  },
  {
   "cell_type": "code",
   "execution_count": null,
   "metadata": {},
   "outputs": [],
   "source": []
  },
  {
   "cell_type": "markdown",
   "metadata": {},
   "source": [
    "# string_name.Join(iterable)"
   ]
  },
  {
   "cell_type": "code",
   "execution_count": 53,
   "metadata": {},
   "outputs": [
    {
     "name": "stdout",
     "output_type": "stream",
     "text": [
      "['s', 'h', 'a', 's', 'h', 'i']\n",
      "shashi\n"
     ]
    }
   ],
   "source": [
    "li = ['s','h','a','s','h','i']\n",
    "print(li)\n",
    "\n",
    "#join function\n",
    "new_li = \"\".join(li)\n",
    "print(new_li)"
   ]
  },
  {
   "cell_type": "code",
   "execution_count": 56,
   "metadata": {},
   "outputs": [
    {
     "name": "stdout",
     "output_type": "stream",
     "text": [
      "1 2 3 4\n",
      "5 6\n",
      "9 10\n",
      "99 33 44 55 77\n"
     ]
    }
   ],
   "source": [
    "li=[[1,2,3,4],[5,6],[9,10],[99,33,44,55,77]]\n",
    "\n",
    "n = 4\n",
    "m = 4\n",
    "\n",
    "for row in li:\n",
    "    output = ' '.join([str(ele) for ele in row])\n",
    "    print(output)"
   ]
  },
  {
   "cell_type": "code",
   "execution_count": 60,
   "metadata": {},
   "outputs": [
    {
     "data": {
      "text/plain": [
       "'aabbabc'"
      ]
     },
     "execution_count": 60,
     "metadata": {},
     "output_type": "execute_result"
    }
   ],
   "source": [
    "'ab'.join('abc')"
   ]
  },
  {
   "cell_type": "code",
   "execution_count": null,
   "metadata": {},
   "outputs": [],
   "source": []
  },
  {
   "cell_type": "code",
   "execution_count": 62,
   "metadata": {},
   "outputs": [
    {
     "name": "stdout",
     "output_type": "stream",
     "text": [
      "1 2\n",
      "3 4 \n",
      "5 6\n"
     ]
    }
   ],
   "source": [
    "mat = [list(map(int, input().strip().split(\" \"))) for row in range(3)]"
   ]
  },
  {
   "cell_type": "code",
   "execution_count": 63,
   "metadata": {},
   "outputs": [
    {
     "data": {
      "text/plain": [
       "[[1, 2], [3, 4], [5, 6]]"
      ]
     },
     "execution_count": 63,
     "metadata": {},
     "output_type": "execute_result"
    }
   ],
   "source": [
    "mat"
   ]
  },
  {
   "cell_type": "markdown",
   "metadata": {},
   "source": [
    "# Row Wise Sum"
   ]
  },
  {
   "cell_type": "code",
   "execution_count": 1,
   "metadata": {},
   "outputs": [
    {
     "name": "stdout",
     "output_type": "stream",
     "text": [
      "3 7 11 "
     ]
    }
   ],
   "source": [
    "def rowWiseSum(mat, nRows, mCols):\n",
    "    for row in mat:\n",
    "        count = 0\n",
    "        for ele in row:\n",
    "            count += ele\n",
    "\n",
    "        print(count, end=' ')\n",
    "\n",
    "li=[[1, 2], [3, 4], [5, 6]]        \n",
    "rowWiseSum(li,4,2)   "
   ]
  },
  {
   "cell_type": "code",
   "execution_count": 122,
   "metadata": {},
   "outputs": [
    {
     "name": "stdout",
     "output_type": "stream",
     "text": [
      "1 2 3 4 \n",
      "5 6 7 8 \n",
      "9 10 11 12 \n",
      "99 33 44 55 \n"
     ]
    }
   ],
   "source": [
    "li=[[1,2,3,4],[5,6,7,8],[9,10,11,12],[99,33,44,55]]\n",
    "n = 4\n",
    "m = 4\n",
    "\n",
    "for i in range(n):\n",
    "    for j in range(m):\n",
    "        print(li[i][j], end=' ')\n",
    "    print()    "
   ]
  },
  {
   "cell_type": "code",
   "execution_count": 125,
   "metadata": {},
   "outputs": [
    {
     "name": "stdout",
     "output_type": "stream",
     "text": [
      "4 3 2 1 \n",
      "8 7 6 5 \n",
      "12 11 10 9 \n",
      "55 44 33 99 \n"
     ]
    }
   ],
   "source": [
    "n = 4\n",
    "m = 4\n",
    "\n",
    "for i in range(n):\n",
    "    for j in range(m-1,-1,-1):\n",
    "        print(li[i][j], end=' ')\n",
    "    print()    "
   ]
  },
  {
   "cell_type": "code",
   "execution_count": 126,
   "metadata": {},
   "outputs": [
    {
     "name": "stdout",
     "output_type": "stream",
     "text": [
      "55 44 33 99 \n",
      "12 11 10 9 \n",
      "8 7 6 5 \n",
      "4 3 2 1 \n"
     ]
    }
   ],
   "source": [
    "n = 4\n",
    "m = 4\n",
    "\n",
    "for i in range(n-1,-1,-1):\n",
    "    for j in range(m-1,-1,-1):\n",
    "        print(li[i][j], end=' ')\n",
    "    print()    "
   ]
  },
  {
   "cell_type": "markdown",
   "metadata": {},
   "source": [
    "# largestColSum"
   ]
  },
  {
   "cell_type": "code",
   "execution_count": 151,
   "metadata": {},
   "outputs": [
    {
     "name": "stdout",
     "output_type": "stream",
     "text": [
      "125\n",
      "2\n"
     ]
    }
   ],
   "source": [
    "li = [[1,2,3,4],[8,7,111,5],[9,10,11,12]]\n",
    "n = len(li)\n",
    "m = len(li[0])\n",
    "\n",
    "max_sum = -1\n",
    "max_col_index = -1\n",
    "for j in range(m):\n",
    "    sum = 0\n",
    "    for i in range(n):\n",
    "        sum += li[i][j]\n",
    "        \n",
    "    if sum > max_sum:\n",
    "        max_sum = sum\n",
    "        max_col_index = j\n",
    "    \n",
    "    \n",
    "print(max_sum)\n",
    "print(max_col_index)"
   ]
  },
  {
   "cell_type": "code",
   "execution_count": 150,
   "metadata": {},
   "outputs": [
    {
     "data": {
      "text/plain": [
       "(125, 2)"
      ]
     },
     "execution_count": 150,
     "metadata": {},
     "output_type": "execute_result"
    }
   ],
   "source": [
    "def lar_col_sum(li):\n",
    "    n = len(li)\n",
    "    m = len(li[0])\n",
    "    \n",
    "    max_sum = -1\n",
    "    max_col_index = -1\n",
    "    \n",
    "    for j in range(m):\n",
    "        count = 0\n",
    "        for i in range(n):\n",
    "            count += li[i][j]\n",
    "            \n",
    "        if count > max_sum:\n",
    "            max_sum = count\n",
    "            max_col_index = j\n",
    "            \n",
    "    return max_sum, max_col_index        \n",
    "\n",
    "\n",
    "li = [[1,2,3,4],[8,7,111,5],[9,10,11,12]]\n",
    "lar_col_sum(li)"
   ]
  },
  {
   "cell_type": "code",
   "execution_count": null,
   "metadata": {},
   "outputs": [],
   "source": []
  },
  {
   "cell_type": "code",
   "execution_count": null,
   "metadata": {},
   "outputs": [],
   "source": []
  },
  {
   "cell_type": "markdown",
   "metadata": {},
   "source": [
    "# Largest Row or Column"
   ]
  },
  {
   "cell_type": "code",
   "execution_count": 174,
   "metadata": {},
   "outputs": [
    {
     "name": "stdout",
     "output_type": "stream",
     "text": [
      "column 1 342\n"
     ]
    }
   ],
   "source": [
    "MIN_VALUE = -2147483648\n",
    "def findLargest(arr, nRows, mCols):\n",
    "    \n",
    "    isRow = True\n",
    "    largestSum = MIN_VALUE\n",
    "    num = 0\n",
    "    \n",
    "    for i in range(nRows):\n",
    "        row_sum = 0\n",
    "        for j in range(mCols):\n",
    "            row_sum += arr[i][j]\n",
    "            \n",
    "        if row_sum > largestSum:\n",
    "            largestSum = row_sum\n",
    "            num = i\n",
    "            \n",
    "        \n",
    "    for j in range(mCols):\n",
    "        col_sum = 0\n",
    "        for i in range(nRows):\n",
    "            col_sum += arr[i][j]\n",
    "            \n",
    "        \n",
    "        if col_sum > largestSum:\n",
    "            largestSum = col_sum\n",
    "            num = j\n",
    "            isRow = False\n",
    "            \n",
    "            \n",
    "            \n",
    "    if isRow:\n",
    "        print(\"row \"+str(num)+\" \"+str(largestSum))\n",
    "    else:\n",
    "        print(\"column \"+str(num)+\" \"+str(largestSum))\n",
    "\n",
    "\n",
    "#arr = [[3,6,9],[1,4,7],[2,8,9]]\n",
    "arr = [[1,2],[90,100],[3,40],[-10,200]]\n",
    "#arr = [[0,0]]\n",
    "findLargest(arr,len(arr),len(arr[0]))"
   ]
  },
  {
   "cell_type": "code",
   "execution_count": null,
   "metadata": {},
   "outputs": [],
   "source": []
  },
  {
   "cell_type": "markdown",
   "metadata": {},
   "source": [
    "# Wave Print"
   ]
  },
  {
   "cell_type": "code",
   "execution_count": 192,
   "metadata": {},
   "outputs": [
    {
     "name": "stdout",
     "output_type": "stream",
     "text": [
      "1 5 9 10 6 2 3 7 11 12 8 4 "
     ]
    }
   ],
   "source": [
    "def wavePrint(mat, nRows, mCols):\n",
    "    \n",
    "    k = 0\n",
    "    for j in range(mCols):\n",
    "        row = 0\n",
    "        if (j%2==0):\n",
    "            for i in range(nRows):\n",
    "                print(mat[i][j],end=' ')\n",
    "        else:\n",
    "            for i in range(nRows-1,-1,-1):\n",
    "                print(mat[i][j],end=' ')\n",
    "    \n",
    "        \n",
    "    \n",
    "    \n",
    "    \n",
    "    \n",
    "arr = [[1,2,3,4],[5,6,7,8],[9,10,11,12]]\n",
    "wavePrint(arr,len(arr),len(arr[0]))\n",
    "    "
   ]
  },
  {
   "cell_type": "code",
   "execution_count": null,
   "metadata": {},
   "outputs": [],
   "source": []
  },
  {
   "cell_type": "markdown",
   "metadata": {},
   "source": [
    "# Spiral Print"
   ]
  },
  {
   "attachments": {
    "image.png": {
     "image/png": "[encoded data removed]"
    }
   },
   "cell_type": "markdown",
   "metadata": {},
   "source": [
    "# ![image.png](attachment:image.png)"
   ]
  },
  {
   "cell_type": "code",
   "execution_count": 15,
   "metadata": {},
   "outputs": [
    {
     "name": "stdout",
     "output_type": "stream",
     "text": [
      "1 2 3 4 8 12 16 15 14 13 9 5 6 7 11 10 "
     ]
    }
   ],
   "source": [
    "def spiralPrint(mat, nRows, mCols):\n",
    "    top = 0\n",
    "    bottom = nRows-1\n",
    "    left = 0\n",
    "    right = mCols-1\n",
    "    direction = 0\n",
    "    \n",
    "    while(top<=bottom and left<=right):\n",
    "        if direction == 0:\n",
    "            for i in range(left,right+1):\n",
    "                print(mat[top][i], end=' ')\n",
    "            \n",
    "            top +=1\n",
    "        \n",
    "        elif direction == 1:\n",
    "            for i in range(top,bottom+1):\n",
    "                print(mat[i][right], end=' ')\n",
    "            right-=1    \n",
    "                \n",
    "        \n",
    "        elif direction == 2:\n",
    "            for i in range(right,left-1,-1):\n",
    "                print(mat[bottom][i],end=' ')\n",
    "            bottom -=1    \n",
    "        \n",
    "        elif direction == 3:\n",
    "            for i in range(bottom,top-1,-1):\n",
    "                print(mat[i][left],end=' ')\n",
    "            left +=1    \n",
    "                \n",
    "        \n",
    "        direction = (direction+1)%4\n",
    "    \n",
    "    \n",
    "arr = [[1,2,3,4],[5,6,7,8],[9,10,11,12],[13,14,15,16]]    \n",
    "\n",
    "spiralPrint(arr, len(arr), len(arr[0]))"
   ]
  },
  {
   "cell_type": "code",
   "execution_count": null,
   "metadata": {},
   "outputs": [],
   "source": []
  }
 ],
 "metadata": {
  "kernelspec": {
   "display_name": "Python 3",
   "language": "python",
   "name": "python3"
  },
  "language_info": {
   "codemirror_mode": {
    "name": "ipython",
    "version": 3
   },
   "file_extension": ".py",
   "mimetype": "text/x-python",
   "name": "python",
   "nbconvert_exporter": "python",
   "pygments_lexer": "ipython3",
   "version": "3.7.6"
  }
 },
 "nbformat": 4,
 "nbformat_minor": 4
}
