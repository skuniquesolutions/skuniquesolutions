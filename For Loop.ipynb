{
 "cells": [
  {
   "cell_type": "markdown",
   "metadata": {},
   "source": [
    "### Range(start, end, step)        default value -> start with zero , end = n-1 , step = 1  "
   ]
  },
  {
   "cell_type": "code",
   "execution_count": 1,
   "metadata": {},
   "outputs": [
    {
     "name": "stdout",
     "output_type": "stream",
     "text": [
      "4\n",
      "0\n",
      "1\n",
      "2\n",
      "3\n"
     ]
    }
   ],
   "source": [
    "n = int(input())\n",
    "\n",
    "for i in range(n):\n",
    "    print(i)"
   ]
  },
  {
   "cell_type": "code",
   "execution_count": 3,
   "metadata": {},
   "outputs": [
    {
     "name": "stdout",
     "output_type": "stream",
     "text": [
      "4\n",
      "\n",
      "1\n",
      "2\n",
      "3\n"
     ]
    }
   ],
   "source": [
    "n = int(input())\n",
    "print()\n",
    "                            \n",
    "for i in range(1,n):\n",
    "    print(i)"
   ]
  },
  {
   "cell_type": "code",
   "execution_count": 4,
   "metadata": {},
   "outputs": [
    {
     "name": "stdout",
     "output_type": "stream",
     "text": [
      "4\n",
      "1\n",
      "2\n",
      "3\n",
      "4\n"
     ]
    }
   ],
   "source": [
    "n = int(input())\n",
    "\n",
    "for i in range(1,n+1):\n",
    "    print(i)"
   ]
  },
  {
   "cell_type": "code",
   "execution_count": 7,
   "metadata": {},
   "outputs": [
    {
     "name": "stdout",
     "output_type": "stream",
     "text": [
      "8\n",
      "1\n",
      "3\n",
      "5\n",
      "7\n"
     ]
    }
   ],
   "source": [
    "n = int(input())\n",
    "\n",
    "for i in range(1,n+1,2):\n",
    "    print(i)"
   ]
  },
  {
   "cell_type": "code",
   "execution_count": 15,
   "metadata": {},
   "outputs": [
    {
     "name": "stdout",
     "output_type": "stream",
     "text": [
      "4\n",
      "\n",
      "4\n",
      "3\n",
      "2\n",
      "1\n"
     ]
    }
   ],
   "source": [
    "n = int(input())\n",
    "print()\n",
    "\n",
    "for i in range(n,0,-1):\n",
    "    print(i)"
   ]
  },
  {
   "cell_type": "code",
   "execution_count": 17,
   "metadata": {},
   "outputs": [
    {
     "name": "stdout",
     "output_type": "stream",
     "text": [
      "4\n",
      "\n",
      "4\n",
      "3\n",
      "2\n",
      "1\n",
      "0\n"
     ]
    }
   ],
   "source": [
    "n = int(input())\n",
    "print()\n",
    "\n",
    "for i in range(n,-1,-1):\n",
    "    print(i)"
   ]
  },
  {
   "cell_type": "code",
   "execution_count": null,
   "metadata": {},
   "outputs": [],
   "source": []
  },
  {
   "cell_type": "code",
   "execution_count": 21,
   "metadata": {},
   "outputs": [
    {
     "name": "stdout",
     "output_type": "stream",
     "text": [
      "1\n",
      "10\n",
      "\n",
      "1\n",
      "2\n",
      "3\n",
      "4\n",
      "5\n",
      "6\n",
      "7\n",
      "8\n",
      "9\n",
      "10\n"
     ]
    }
   ],
   "source": [
    "#print start from a and end with b value\n",
    "\n",
    "a = int(input())\n",
    "b = int(input())\n",
    "\n",
    "print()\n",
    "\n",
    "for i in range(a,b+1):\n",
    "    print(i)"
   ]
  },
  {
   "cell_type": "code",
   "execution_count": 33,
   "metadata": {},
   "outputs": [
    {
     "name": "stdout",
     "output_type": "stream",
     "text": [
      "1\n",
      "20\n",
      "\n",
      "3\n",
      "6\n",
      "9\n",
      "12\n",
      "15\n",
      "18\n"
     ]
    }
   ],
   "source": [
    "#print start from a and end with b value\n",
    "#output should be mutliple by 3\n",
    "\n",
    "a = int(input())\n",
    "b = int(input())\n",
    "\n",
    "print()\n",
    "\n",
    "for i in range(a,b+1):\n",
    "    if i%3 == 0:\n",
    "        print(i)"
   ]
  },
  {
   "cell_type": "code",
   "execution_count": 37,
   "metadata": {},
   "outputs": [
    {
     "name": "stdout",
     "output_type": "stream",
     "text": [
      "1\n",
      "20\n",
      "\n",
      "3\n",
      "6\n",
      "9\n",
      "12\n",
      "15\n",
      "18\n"
     ]
    }
   ],
   "source": [
    "#print start from a and end with b value\n",
    "#output should be mutliple by 3\n",
    "\n",
    "a = int(input())\n",
    "b = int(input())\n",
    "\n",
    "print()\n",
    "\n",
    "if a%3 == 0:\n",
    "    s = a\n",
    "elif a%3 == 1:\n",
    "    s = a+2\n",
    "else:\n",
    "    s = a+1\n",
    "    \n",
    "\n",
    "for i in range(s,b+1,3):\n",
    "    print(i)"
   ]
  },
  {
   "cell_type": "markdown",
   "metadata": {},
   "source": [
    "### find given number is prime or not"
   ]
  },
  {
   "cell_type": "code",
   "execution_count": 43,
   "metadata": {},
   "outputs": [
    {
     "name": "stdout",
     "output_type": "stream",
     "text": [
      "4\n",
      "Not Prime\n"
     ]
    }
   ],
   "source": [
    "n = int(input())\n",
    "flag = False\n",
    "\n",
    "for i in range(2,n):       # must be start with 2 when we need to find prime number\n",
    "    if n%i==0:\n",
    "        flag = True\n",
    "        \n",
    "if flag:\n",
    "    print(\"Not Prime\")\n",
    "else:\n",
    "    print(\"Prime\")"
   ]
  },
  {
   "cell_type": "code",
   "execution_count": 60,
   "metadata": {},
   "outputs": [
    {
     "name": "stdout",
     "output_type": "stream",
     "text": [
      "11\n",
      "Prime\n"
     ]
    }
   ],
   "source": [
    "n = int(input())\n",
    "\n",
    "\n",
    "for i in range(2,n):       # must be start with 2 when we need to find prime number\n",
    "    if n%i==0:\n",
    "        print(\"Not Prime\")\n",
    "        \n",
    "    else:\n",
    "        print(\"Prime\")\n",
    "    break    \n",
    "        "
   ]
  },
  {
   "cell_type": "code",
   "execution_count": 58,
   "metadata": {},
   "outputs": [
    {
     "name": "stdout",
     "output_type": "stream",
     "text": [
      "12\n",
      "Not Prime\n"
     ]
    }
   ],
   "source": [
    "#Using While loop\n",
    "\n",
    "n = int(input())\n",
    "flag = False\n",
    "\n",
    "i = 2\n",
    "while i<n:\n",
    "    if n%i==0:\n",
    "        flag = True\n",
    "    i+=1\n",
    "\n",
    "if flag:\n",
    "    print(\"Not Prime\")\n",
    "else:\n",
    "    print(\"Prime\")"
   ]
  },
  {
   "cell_type": "code",
   "execution_count": null,
   "metadata": {},
   "outputs": [],
   "source": []
  },
  {
   "cell_type": "code",
   "execution_count": 70,
   "metadata": {},
   "outputs": [
    {
     "name": "stdout",
     "output_type": "stream",
     "text": [
      "10\n",
      "\n",
      "2\n",
      "3\n",
      "5\n",
      "7\n"
     ]
    }
   ],
   "source": [
    "n = int(input())\n",
    "print()\n",
    "\n",
    "k = 2\n",
    "while k<n:\n",
    "    d = 2\n",
    "    flag = False\n",
    "    while d<k:\n",
    "        if k%d==0:\n",
    "            flag = True\n",
    "            break\n",
    "        d = d+1    \n",
    "    if not(flag):\n",
    "        print(k)\n",
    "    k = k+1    "
   ]
  },
  {
   "cell_type": "code",
   "execution_count": null,
   "metadata": {},
   "outputs": [],
   "source": []
  },
  {
   "cell_type": "code",
   "execution_count": 89,
   "metadata": {},
   "outputs": [
    {
     "name": "stdout",
     "output_type": "stream",
     "text": [
      "1 2 "
     ]
    }
   ],
   "source": [
    "i=1\n",
    "while i<5:\n",
    "    if i == 3:\n",
    "        break\n",
    "    print(i, end=\" \")\n",
    "    i = i + 1\n",
    "else:\n",
    "    print(\"Else is also printed\")"
   ]
  },
  {
   "cell_type": "code",
   "execution_count": 92,
   "metadata": {},
   "outputs": [
    {
     "name": "stdout",
     "output_type": "stream",
     "text": [
      "1 2 4 5 1 2 4 5 "
     ]
    }
   ],
   "source": [
    "i=1\n",
    "while i<3:\n",
    "    j=0\n",
    "    while j<5:\n",
    "        j = j +1\n",
    "        if j==3:\n",
    "            continue\n",
    "        print(j, end = \" \")\n",
    "    i = i +1"
   ]
  },
  {
   "cell_type": "code",
   "execution_count": 108,
   "metadata": {},
   "outputs": [
    {
     "name": "stdout",
     "output_type": "stream",
     "text": [
      "1 End\n",
      "\n",
      "1 2 End\n",
      "\n",
      "1 2 3 End\n",
      "\n",
      "1 2 3 4 End\n",
      "\n",
      "1 2 3 4 "
     ]
    }
   ],
   "source": [
    "n = 7\n",
    "i = 1\n",
    "\n",
    "while i<=n:\n",
    "    j = 1\n",
    "    while j<=i:\n",
    "        if j==5:\n",
    "            break\n",
    "        print(j,end=' ')\n",
    "        j +=1\n",
    "    if i==5:\n",
    "        break\n",
    "    else:\n",
    "        print('End')\n",
    "    print()    \n",
    "    i=i+1\n",
    "else:\n",
    "    print('Over')"
   ]
  },
  {
   "cell_type": "code",
   "execution_count": 103,
   "metadata": {},
   "outputs": [
    {
     "name": "stdout",
     "output_type": "stream",
     "text": [
      "1\n",
      "2\n",
      "3\n",
      "4\n"
     ]
    }
   ],
   "source": [
    "n = 7\n",
    "i = 1\n",
    "\n",
    "while i<=n:\n",
    "    if i==5:\n",
    "        break\n",
    "    print(i)    \n",
    "    i+=1\n",
    "else:\n",
    "    print(\"end\")"
   ]
  },
  {
   "cell_type": "code",
   "execution_count": null,
   "metadata": {},
   "outputs": [],
   "source": []
  },
  {
   "cell_type": "raw",
   "metadata": {},
   "source": [
    "1111\n",
    "000\n",
    "11\n",
    "0"
   ]
  },
  {
   "cell_type": "code",
   "execution_count": null,
   "metadata": {},
   "outputs": [],
   "source": []
  }
 ],
 "metadata": {
  "kernelspec": {
   "display_name": "Python 3",
   "language": "python",
   "name": "python3"
  },
  "language_info": {
   "codemirror_mode": {
    "name": "ipython",
    "version": 3
   },
   "file_extension": ".py",
   "mimetype": "text/x-python",
   "name": "python",
   "nbconvert_exporter": "python",
   "pygments_lexer": "ipython3",
   "version": "3.7.6"
  }
 },
 "nbformat": 4,
 "nbformat_minor": 4
}
