{
 "cells": [
  {
   "cell_type": "markdown",
   "metadata": {},
   "source": [
    "Binary Searching"
   ]
  },
  {
   "cell_type": "code",
   "execution_count": 6,
   "metadata": {},
   "outputs": [
    {
     "data": {
      "text/plain": [
       "8"
      ]
     },
     "execution_count": 6,
     "metadata": {},
     "output_type": "execute_result"
    }
   ],
   "source": [
    "\n",
    "def binarySearch(lis, x):\n",
    "    l,u = 0,len(lis)\n",
    "    \n",
    "    while l <= u:\n",
    "        m = (l+u)//2\n",
    "        if x > lis[m]:\n",
    "            l = m+1\n",
    "            m = (u+l)//2\n",
    "            \n",
    "        elif x < lis[m]:\n",
    "            u = m-1\n",
    "            m = (u+l)//2\n",
    "        else:\n",
    "            return m\n",
    "    else:\n",
    "        return -1\n",
    "        \n",
    "        \n",
    "lis = [12,3,0,34,22,55,5,7,1,3]\n",
    "#lis = [12,3,0,33,22,55,5,7,1,3]\n",
    "lis.sort()\n",
    "binarySearch(lis, 34)"
   ]
  },
  {
   "cell_type": "code",
   "execution_count": null,
   "metadata": {},
   "outputs": [],
   "source": []
  },
  {
   "cell_type": "code",
   "execution_count": 8,
   "metadata": {},
   "outputs": [
    {
     "data": {
      "text/plain": [
       "-1"
      ]
     },
     "execution_count": 8,
     "metadata": {},
     "output_type": "execute_result"
    }
   ],
   "source": [
    "def binarySearch(lis, l, u, m, x):\n",
    "    \n",
    "    if l <= u:\n",
    "        if x==lis[m]:\n",
    "            return m\n",
    "        elif x>lis[m]:\n",
    "            l = m+1\n",
    "            m = (l+u)//2\n",
    "            return binarySearch(lis, l, u, m, x)\n",
    "        elif x<lis[m]:\n",
    "            u = m-1\n",
    "            m = (l+u)//2\n",
    "            return binarySearch(lis, l, u, m, x)\n",
    "    else:\n",
    "        return -1\n",
    "    \n",
    "    \n",
    "\n",
    "#lis = [12,3,0,34,22,55,5,7,1,3]\n",
    "lis = [12,3,0,33,22,55,5,7,1,3]\n",
    "lis.sort()\n",
    "l,u = 0, len(lis)\n",
    "m = (l+u)//2\n",
    "binarySearch(lis, l, u, m, 34)"
   ]
  },
  {
   "cell_type": "code",
   "execution_count": null,
   "metadata": {},
   "outputs": [],
   "source": []
  },
  {
   "cell_type": "markdown",
   "metadata": {},
   "source": [
    "Selection Sort"
   ]
  },
  {
   "cell_type": "code",
   "execution_count": 9,
   "metadata": {},
   "outputs": [
    {
     "data": {
      "text/plain": [
       "[0, 1, 3, 3, 5, 7, 12, 22, 34, 55]"
      ]
     },
     "execution_count": 9,
     "metadata": {},
     "output_type": "execute_result"
    }
   ],
   "source": [
    "def selectionSort(lis, n):\n",
    "    for i in range(n):\n",
    "        min_idx = i\n",
    "        for j in range(i+1,n):\n",
    "            if lis[min_idx] > lis[j]:\n",
    "                lis[min_idx], lis[j] = lis[j], lis[min_idx]\n",
    "                \n",
    "    return lis    \n",
    "\n",
    "\n",
    "lis = [12,3,0,34,22,55,5,7,1,3]\n",
    "selectionSort(lis,len(lis))"
   ]
  },
  {
   "cell_type": "code",
   "execution_count": null,
   "metadata": {},
   "outputs": [],
   "source": []
  },
  {
   "cell_type": "markdown",
   "metadata": {},
   "source": [
    "Bubble Sort"
   ]
  },
  {
   "cell_type": "code",
   "execution_count": 10,
   "metadata": {},
   "outputs": [
    {
     "data": {
      "text/plain": [
       "[0, 1, 3, 3, 5, 7, 12, 22, 34, 55]"
      ]
     },
     "execution_count": 10,
     "metadata": {},
     "output_type": "execute_result"
    }
   ],
   "source": [
    "def bubbleSort(lis,n):\n",
    "    for i in range(n):\n",
    "        for j in range(n-1):\n",
    "            if lis[j] > lis[j+1]:\n",
    "                lis[j],lis[j+1] = lis[j+1],lis[j]\n",
    "    \n",
    "    return lis\n",
    "    \n",
    "lis = [12,3,0,34,22,55,5,7,1,3]\n",
    "bubbleSort(lis,len(lis))    "
   ]
  },
  {
   "cell_type": "code",
   "execution_count": 11,
   "metadata": {},
   "outputs": [
    {
     "data": {
      "text/plain": [
       "[0, 1, 3, 3, 5, 7, 12, 22, 34, 55]"
      ]
     },
     "execution_count": 11,
     "metadata": {},
     "output_type": "execute_result"
    }
   ],
   "source": [
    "def bubbleSort(lis,n):\n",
    "    for i in range(n):\n",
    "        for j in range(n-i-1):\n",
    "            if lis[j] > lis[j+1]:\n",
    "                lis[j],lis[j+1] = lis[j+1],lis[j]\n",
    "    \n",
    "    return lis\n",
    "    \n",
    "lis = [12,3,0,34,22,55,5,7,1,3]\n",
    "bubbleSort(lis,len(lis))    "
   ]
  },
  {
   "cell_type": "code",
   "execution_count": null,
   "metadata": {},
   "outputs": [],
   "source": [
    "\n"
   ]
  },
  {
   "cell_type": "markdown",
   "metadata": {},
   "source": [
    "Insertion Sort"
   ]
  },
  {
   "cell_type": "code",
   "execution_count": 30,
   "metadata": {},
   "outputs": [
    {
     "name": "stdout",
     "output_type": "stream",
     "text": [
      "0\n",
      "0\n",
      "3\n",
      "3\n",
      "5\n",
      "2\n",
      "3\n",
      "1\n",
      "3\n"
     ]
    },
    {
     "data": {
      "text/plain": [
       "[0, 1, 3, 3, 5, 7, 12, 22, 34, 55]"
      ]
     },
     "execution_count": 30,
     "metadata": {},
     "output_type": "execute_result"
    }
   ],
   "source": [
    "def insertionSort(lis,n):\n",
    "    for i in range(1,n):\n",
    "        current = lis[i]\n",
    "        j = i-1\n",
    "        \n",
    "        while(j>=0 and lis[j]>current):\n",
    "            #now we need to create a space and shift the value one by one to the right\n",
    "            lis[j+1] = lis[j]\n",
    "            \n",
    "            j = j-1\n",
    "            \n",
    "        #Now insert the correct value to the correct position\n",
    "        print(j+1)\n",
    "        lis[j+1] = current\n",
    "    \n",
    "    return lis\n",
    "    \n",
    "    \n",
    "lis = [12,3,0,34,22,55,5,7,1,3]\n",
    "insertionSort(lis,len(lis))     "
   ]
  },
  {
   "cell_type": "code",
   "execution_count": null,
   "metadata": {},
   "outputs": [],
   "source": []
  },
  {
   "cell_type": "code",
   "execution_count": 1,
   "metadata": {},
   "outputs": [
    {
     "data": {
      "text/plain": [
       "'shashi'"
      ]
     },
     "execution_count": 1,
     "metadata": {},
     "output_type": "execute_result"
    }
   ],
   "source": [
    "x = 'shashi'\n",
    "x"
   ]
  },
  {
   "cell_type": "code",
   "execution_count": 3,
   "metadata": {},
   "outputs": [
    {
     "ename": "TypeError",
     "evalue": "'str' object does not support item assignment",
     "output_type": "error",
     "traceback": [
      "\u001b[1;31m---------------------------------------------------------------------------\u001b[0m",
      "\u001b[1;31mTypeError\u001b[0m                                 Traceback (most recent call last)",
      "\u001b[1;32m<ipython-input-3-b9de9011aa04>\u001b[0m in \u001b[0;36m<module>\u001b[1;34m\u001b[0m\n\u001b[1;32m----> 1\u001b[1;33m \u001b[0mx\u001b[0m\u001b[1;33m[\u001b[0m\u001b[1;36m2\u001b[0m\u001b[1;33m]\u001b[0m \u001b[1;33m=\u001b[0m \u001b[1;34m'kk'\u001b[0m\u001b[1;33m\u001b[0m\u001b[1;33m\u001b[0m\u001b[0m\n\u001b[0m",
      "\u001b[1;31mTypeError\u001b[0m: 'str' object does not support item assignment"
     ]
    }
   ],
   "source": [
    "x[2] = 'kk'"
   ]
  },
  {
   "cell_type": "code",
   "execution_count": null,
   "metadata": {},
   "outputs": [],
   "source": []
  },
  {
   "cell_type": "code",
   "execution_count": 11,
   "metadata": {},
   "outputs": [
    {
     "name": "stdout",
     "output_type": "stream",
     "text": [
      "s\n",
      "sh\n",
      "sha\n",
      "shas\n",
      "shash\n",
      "shashi\n",
      "h\n",
      "ha\n",
      "has\n",
      "hash\n",
      "hashi\n",
      "a\n",
      "as\n",
      "ash\n",
      "ashi\n",
      "s\n",
      "sh\n",
      "shi\n",
      "h\n",
      "hi\n",
      "i\n"
     ]
    }
   ],
   "source": [
    "s = 'shashi'\n",
    "\n",
    "\n",
    "for i in range(len(s)):\n",
    "    for j in range(i+1,len(s)+1):\n",
    "        print(s[i:j])"
   ]
  },
  {
   "cell_type": "code",
   "execution_count": 12,
   "metadata": {},
   "outputs": [
    {
     "data": {
      "text/plain": [
       "'zhazhi'"
      ]
     },
     "execution_count": 12,
     "metadata": {},
     "output_type": "execute_result"
    }
   ],
   "source": [
    "s.replace('s','z')"
   ]
  },
  {
   "cell_type": "code",
   "execution_count": 21,
   "metadata": {},
   "outputs": [
    {
     "data": {
      "text/plain": [
       "'shashi'"
      ]
     },
     "execution_count": 21,
     "metadata": {},
     "output_type": "execute_result"
    }
   ],
   "source": [
    "s"
   ]
  },
  {
   "cell_type": "code",
   "execution_count": 28,
   "metadata": {},
   "outputs": [
    {
     "data": {
      "text/plain": [
       "-1"
      ]
     },
     "execution_count": 28,
     "metadata": {},
     "output_type": "execute_result"
    }
   ],
   "source": [
    "x = 'kingg'\n",
    "x.find('s')"
   ]
  },
  {
   "cell_type": "code",
   "execution_count": 29,
   "metadata": {},
   "outputs": [
    {
     "data": {
      "text/plain": [
       "2"
      ]
     },
     "execution_count": 29,
     "metadata": {},
     "output_type": "execute_result"
    }
   ],
   "source": [
    "x.find('n')"
   ]
  },
  {
   "cell_type": "code",
   "execution_count": 32,
   "metadata": {},
   "outputs": [],
   "source": [
    "s = x.upper()"
   ]
  },
  {
   "cell_type": "code",
   "execution_count": 33,
   "metadata": {},
   "outputs": [
    {
     "data": {
      "text/plain": [
       "'kingg'"
      ]
     },
     "execution_count": 33,
     "metadata": {},
     "output_type": "execute_result"
    }
   ],
   "source": [
    "x"
   ]
  },
  {
   "cell_type": "code",
   "execution_count": 34,
   "metadata": {},
   "outputs": [
    {
     "data": {
      "text/plain": [
       "'KINGG'"
      ]
     },
     "execution_count": 34,
     "metadata": {},
     "output_type": "execute_result"
    }
   ],
   "source": [
    "s"
   ]
  },
  {
   "cell_type": "code",
   "execution_count": 35,
   "metadata": {},
   "outputs": [
    {
     "data": {
      "text/plain": [
       "[0, 1, 2, 3, 4, 5, 6, 7, 8, 9]"
      ]
     },
     "execution_count": 35,
     "metadata": {},
     "output_type": "execute_result"
    }
   ],
   "source": [
    "k = [x for x in range(10)]\n",
    "k"
   ]
  },
  {
   "cell_type": "code",
   "execution_count": 36,
   "metadata": {},
   "outputs": [],
   "source": [
    "k = [x for x in range(10) if x%2==0]"
   ]
  },
  {
   "cell_type": "code",
   "execution_count": 37,
   "metadata": {},
   "outputs": [
    {
     "data": {
      "text/plain": [
       "[0, 2, 4, 6, 8]"
      ]
     },
     "execution_count": 37,
     "metadata": {},
     "output_type": "execute_result"
    }
   ],
   "source": [
    "k"
   ]
  },
  {
   "cell_type": "code",
   "execution_count": 40,
   "metadata": {},
   "outputs": [
    {
     "data": {
      "text/plain": [
       "[0, 1, 4, 3, 8, 5, 12, 7, 16, 9]"
      ]
     },
     "execution_count": 40,
     "metadata": {},
     "output_type": "execute_result"
    }
   ],
   "source": [
    "k = [x*2 if x%2==0 else x for x in range(10)]\n",
    "k"
   ]
  },
  {
   "cell_type": "code",
   "execution_count": 43,
   "metadata": {},
   "outputs": [],
   "source": [
    "lis = ['shashi','Aman']\n",
    "\n",
    "d = [[ele for ele in row] for row in lis]"
   ]
  },
  {
   "cell_type": "code",
   "execution_count": 44,
   "metadata": {},
   "outputs": [
    {
     "data": {
      "text/plain": [
       "[['s', 'h', 'a', 's', 'h', 'i'], ['A', 'm', 'a', 'n']]"
      ]
     },
     "execution_count": 44,
     "metadata": {},
     "output_type": "execute_result"
    }
   ],
   "source": [
    "d"
   ]
  },
  {
   "cell_type": "code",
   "execution_count": 45,
   "metadata": {},
   "outputs": [],
   "source": [
    "x = [1,2,3,4,5]\n",
    "y = [2,3,7,9,1]\n",
    "\n",
    "intersection = [i for i in x for j in y if i==j]"
   ]
  },
  {
   "cell_type": "code",
   "execution_count": 46,
   "metadata": {},
   "outputs": [
    {
     "data": {
      "text/plain": [
       "[1, 2, 3]"
      ]
     },
     "execution_count": 46,
     "metadata": {},
     "output_type": "execute_result"
    }
   ],
   "source": [
    "intersection"
   ]
  },
  {
   "cell_type": "code",
   "execution_count": 54,
   "metadata": {},
   "outputs": [
    {
     "name": "stdout",
     "output_type": "stream",
     "text": [
      "1 2 3 4 \n",
      "5 6 7 8 \n",
      "9 10 11 12 \n"
     ]
    }
   ],
   "source": [
    "li=[[1,2,3,4],[5,6,7,8],[9,10,11,12]]\n",
    "\n",
    "for i in range(len(li)):\n",
    "    for j in range(len(li[0])):\n",
    "        print(li[i][j], end=' ')\n",
    "    print()    "
   ]
  },
  {
   "cell_type": "code",
   "execution_count": 56,
   "metadata": {},
   "outputs": [
    {
     "name": "stdout",
     "output_type": "stream",
     "text": [
      "1 2 3 4 \n",
      "5 6 7 8 \n",
      "9 10 11 12 \n"
     ]
    }
   ],
   "source": [
    "li=[[1,2,3,4],[5,6,7,8],[9,10,11,12]]\n",
    "\n",
    "for row in li:\n",
    "    for ele in row:\n",
    "        print(ele, end=' ')\n",
    "    print()    "
   ]
  },
  {
   "cell_type": "code",
   "execution_count": 57,
   "metadata": {},
   "outputs": [
    {
     "name": "stdout",
     "output_type": "stream",
     "text": [
      "1 2 3 4 \n",
      "5 6 \n",
      "9 10 \n",
      "99 33 44 55 77 \n"
     ]
    }
   ],
   "source": [
    "li=[[1,2,3,4],[5,6],[9,10],[99,33,44,55,77]]\n",
    "\n",
    "for row in li:\n",
    "    for ele in row:\n",
    "        print(ele, end=' ')\n",
    "    print()    "
   ]
  },
  {
   "cell_type": "code",
   "execution_count": 126,
   "metadata": {},
   "outputs": [
    {
     "name": "stdout",
     "output_type": "stream",
     "text": [
      "[1, 2, 3]\n",
      "[1, 2, 3]\n",
      "[1, 2, 3]\n",
      "[4, 5, 6]\n",
      "[4, 5, 6]\n",
      "[7, 8, 9]\n"
     ]
    }
   ],
   "source": [
    "n = 3\n",
    "m = 3\n",
    "\n",
    "lis= [[1,2,3],[4,5,6],[7,8,9]]\n",
    "\n",
    "for i in range(n):\n",
    "    for j in range(n-i):\n",
    "        print(lis[i])"
   ]
  },
  {
   "cell_type": "code",
   "execution_count": 64,
   "metadata": {},
   "outputs": [
    {
     "name": "stdout",
     "output_type": "stream",
     "text": [
      "3 3\n",
      "1 2 3\n",
      "1 2 3\n",
      "1 2 3\n",
      "1 2 3\n",
      "4 5 6\n",
      "4 5 6\n",
      "4 5 6\n",
      "7 8 9\n",
      "7 8 9\n"
     ]
    }
   ],
   "source": [
    "n,m=map(int,input().split())\n",
    "for i in range(n):\n",
    "    a=list(map(int,input().split()))\n",
    "    for j in range(n-i):\n",
    "        print(*a)"
   ]
  },
  {
   "cell_type": "code",
   "execution_count": 65,
   "metadata": {},
   "outputs": [
    {
     "name": "stdout",
     "output_type": "stream",
     "text": [
      "this is test string\n"
     ]
    }
   ],
   "source": [
    "s = input()"
   ]
  },
  {
   "cell_type": "code",
   "execution_count": 70,
   "metadata": {},
   "outputs": [],
   "source": [
    "word = s.split(' ')\n"
   ]
  },
  {
   "cell_type": "markdown",
   "metadata": {},
   "source": [
    "# Print 2D Array"
   ]
  },
  {
   "cell_type": "code",
   "execution_count": 90,
   "metadata": {},
   "outputs": [
    {
     "name": "stdout",
     "output_type": "stream",
     "text": [
      "abc de ghihjk a uvw h j\n",
      "de\n"
     ]
    }
   ],
   "source": [
    "s = input()\n",
    "word = s.split(' ')\n",
    "li = []\n",
    "for i in word:\n",
    "    li.append(len(i))  \n",
    "    \n",
    "mi = min(li)\n",
    "print(word[mi])"
   ]
  },
  {
   "cell_type": "code",
   "execution_count": 92,
   "metadata": {},
   "outputs": [
    {
     "data": {
      "text/plain": [
       "['abc', 'de', 'ghihjk', 'a', 'uvw', 'h', 'j']"
      ]
     },
     "execution_count": 92,
     "metadata": {},
     "output_type": "execute_result"
    }
   ],
   "source": [
    "word"
   ]
  },
  {
   "cell_type": "code",
   "execution_count": 122,
   "metadata": {},
   "outputs": [
    {
     "name": "stdout",
     "output_type": "stream",
     "text": [
      "['sjsdh', 'jds', 'k', 'a', 'ee', 'wde']\n"
     ]
    },
    {
     "data": {
      "text/plain": [
       "'a'"
      ]
     },
     "execution_count": 122,
     "metadata": {},
     "output_type": "execute_result"
    }
   ],
   "source": [
    "li = 'sjsdh jds k a ee wde'\n",
    "word = li.split()\n",
    "print(word)\n",
    "k =set(word)\n",
    "min(k)"
   ]
  },
  {
   "cell_type": "markdown",
   "metadata": {},
   "source": [
    "# Minimum Length Word"
   ]
  },
  {
   "cell_type": "code",
   "execution_count": 99,
   "metadata": {},
   "outputs": [
    {
     "name": "stdout",
     "output_type": "stream",
     "text": [
      "a\n"
     ]
    }
   ],
   "source": [
    "def minMaxLengthWords(inp):\n",
    "    length = len(inp)\n",
    "    si = ei = 0\n",
    "    min_length = length\n",
    "    min_start_index = max_length = max_start_index = 0\n",
    "     \n",
    "   \n",
    "    while ei <= length:\n",
    "        if (ei < length) and (inp[ei] != \" \"):\n",
    "            ei += 1\n",
    "        else:\n",
    "            curr_length = ei - si\n",
    "             \n",
    "            \n",
    "            if curr_length < min_length:\n",
    "                min_length = curr_length\n",
    "                min_start_index = si\n",
    "                 \n",
    "            \n",
    "            if curr_length > max_length:\n",
    "                max_length = curr_length\n",
    "                max_start_index = si\n",
    "            ei += 1\n",
    "            si = ei\n",
    "             \n",
    "       \n",
    "    minWord = inp[min_start_index :\n",
    "                  min_start_index + min_length]\n",
    "     \n",
    "    \n",
    "    \n",
    "     \n",
    "   \n",
    "    print(minWord)\n",
    "\n",
    "s = input()\n",
    "minMaxLengthWords(s)    "
   ]
  },
  {
   "cell_type": "code",
   "execution_count": 96,
   "metadata": {},
   "outputs": [
    {
     "name": "stdout",
     "output_type": "stream",
     "text": [
      "1\n"
     ]
    }
   ],
   "source": [
    "print(min(li))"
   ]
  },
  {
   "cell_type": "code",
   "execution_count": null,
   "metadata": {},
   "outputs": [],
   "source": []
  },
  {
   "cell_type": "code",
   "execution_count": null,
   "metadata": {},
   "outputs": [],
   "source": []
  },
  {
   "cell_type": "code",
   "execution_count": null,
   "metadata": {},
   "outputs": [],
   "source": []
  },
  {
   "cell_type": "code",
   "execution_count": null,
   "metadata": {},
   "outputs": [],
   "source": []
  },
  {
   "cell_type": "markdown",
   "metadata": {},
   "source": [
    "# Leaders in array"
   ]
  },
  {
   "cell_type": "code",
   "execution_count": 115,
   "metadata": {},
   "outputs": [
    {
     "name": "stdout",
     "output_type": "stream",
     "text": [
      "6\n",
      "3 12 34 2 0 -1\n",
      "34\n",
      "2\n",
      "0\n",
      "-1\n"
     ]
    }
   ],
   "source": [
    "def leaderprint(arr, n):\n",
    " \n",
    "    for i in range(0, n):\n",
    "        for j in range(i, n):\n",
    "            if (arr[i] < arr[j]):\n",
    "                break\n",
    "            if (j == n - 1):\n",
    "                print(arr[i])\n",
    " \n",
    "n = int(input())\n",
    "arr = list(map(int, input().split()))\n",
    "leaderprint(arr, n)"
   ]
  },
  {
   "cell_type": "code",
   "execution_count": 165,
   "metadata": {},
   "outputs": [
    {
     "name": "stdout",
     "output_type": "stream",
     "text": [
      "8\n",
      "7\n",
      "6\n"
     ]
    }
   ],
   "source": [
    "li = [2,5,8,7,3,6]\n",
    "#li = [3, 12, 34, 2, 0, -1]\n",
    "\n",
    "for i in range(len(li)):\n",
    "    for j in range(i+1,len(li)):\n",
    "        if li[i]>li[j]:\n",
    "            print(li[i])\n",
    "            break\n",
    "        break    \n",
    "\n",
    "print(li[-1])"
   ]
  },
  {
   "cell_type": "code",
   "execution_count": 172,
   "metadata": {},
   "outputs": [
    {
     "name": "stdout",
     "output_type": "stream",
     "text": [
      "34\n",
      "2\n",
      "0\n",
      "-1\n"
     ]
    }
   ],
   "source": [
    "#li = [2,5,8,7,3,6]\n",
    "li = [3, 12, 34, 2, 0, -1]\n",
    "\n",
    "for i in range(len(li)):\n",
    "    for j in range(i, len(li)):\n",
    "        if li[i] < li[j]:\n",
    "            break\n",
    "        elif li[i] > li[j]:\n",
    "            print(li[i])\n",
    "            break\n",
    "            \n",
    "print(li[-1])            "
   ]
  },
  {
   "cell_type": "code",
   "execution_count": null,
   "metadata": {},
   "outputs": [],
   "source": []
  },
  {
   "cell_type": "markdown",
   "metadata": {},
   "source": [
    "# Subarray vs subsequence"
   ]
  },
  {
   "cell_type": "markdown",
   "metadata": {},
   "source": [
    "Subarray/string"
   ]
  },
  {
   "cell_type": "code",
   "execution_count": 9,
   "metadata": {},
   "outputs": [
    {
     "name": "stdout",
     "output_type": "stream",
     "text": [
      "[1]\n",
      "[1, 2]\n",
      "[1, 2, 3]\n",
      "[1, 2, 3, 4]\n",
      "[2]\n",
      "[2, 3]\n",
      "[2, 3, 4]\n",
      "[3]\n",
      "[3, 4]\n",
      "[4]\n"
     ]
    }
   ],
   "source": [
    "s = [1,2,3,4]\n",
    "\n",
    "for i in range(len(s)):\n",
    "    for j in range(i+1,len(s)+1):\n",
    "        print(s[i:j])"
   ]
  },
  {
   "cell_type": "code",
   "execution_count": null,
   "metadata": {},
   "outputs": [],
   "source": [
    "\n",
    "    "
   ]
  },
  {
   "cell_type": "code",
   "execution_count": null,
   "metadata": {},
   "outputs": [],
   "source": []
  },
  {
   "cell_type": "code",
   "execution_count": null,
   "metadata": {},
   "outputs": [],
   "source": []
  },
  {
   "cell_type": "code",
   "execution_count": null,
   "metadata": {},
   "outputs": [],
   "source": []
  },
  {
   "cell_type": "markdown",
   "metadata": {},
   "source": [
    "# Decimal to Binary conversion"
   ]
  },
  {
   "cell_type": "code",
   "execution_count": 34,
   "metadata": {},
   "outputs": [
    {
     "name": "stdout",
     "output_type": "stream",
     "text": [
      "1 0 0 1 0 0 0\n",
      "<class 'list'>\n"
     ]
    }
   ],
   "source": [
    "x = 72\n",
    "out = []\n",
    "while x>0:\n",
    "    rem = x%2\n",
    "    out.append(rem)\n",
    "    x = x//2\n",
    "    \n",
    "k = out[::-1]\n",
    "print(*k)\n",
    "print(type(k))"
   ]
  },
  {
   "cell_type": "code",
   "execution_count": 35,
   "metadata": {},
   "outputs": [
    {
     "name": "stdout",
     "output_type": "stream",
     "text": [
      "1001000\n",
      "<class 'int'>\n"
     ]
    }
   ],
   "source": [
    "x = 72\n",
    "rem = 0            \n",
    "place = 1\n",
    "binary = 0\n",
    "\n",
    "while x>0:\n",
    "    rem = x%2\n",
    "    binary = (rem*place) + binary\n",
    "    x = x//2\n",
    "    place = place*10                  #each time place multiple by 10 to maintain the value\n",
    "    \n",
    "print(binary)    \n",
    "print(type(binary))    "
   ]
  },
  {
   "cell_type": "code",
   "execution_count": 37,
   "metadata": {},
   "outputs": [
    {
     "name": "stdout",
     "output_type": "stream",
     "text": [
      "1001000"
     ]
    }
   ],
   "source": [
    "def decTobin(n):\n",
    "    if n == 0:\n",
    "        return \n",
    "    #print(n%2,end='')\n",
    "    decTobin(n//2)\n",
    "    print(n%2,end='')\n",
    "    \n",
    "    \n",
    "decTobin(72)    "
   ]
  },
  {
   "cell_type": "code",
   "execution_count": 38,
   "metadata": {},
   "outputs": [
    {
     "name": "stdout",
     "output_type": "stream",
     "text": [
      "0b1001000\n",
      "1001000\n",
      "<class 'str'>\n"
     ]
    }
   ],
   "source": [
    "n = 72\n",
    "print(bin(n))\n",
    "print(bin(n)[2:])\n",
    "print(type(bin(n)))"
   ]
  },
  {
   "cell_type": "code",
   "execution_count": null,
   "metadata": {},
   "outputs": [],
   "source": []
  },
  {
   "cell_type": "markdown",
   "metadata": {},
   "source": [
    "# Binary to Decimal"
   ]
  },
  {
   "cell_type": "code",
   "execution_count": 39,
   "metadata": {},
   "outputs": [
    {
     "name": "stdout",
     "output_type": "stream",
     "text": [
      "['0', '0', '0', '1', '0', '0', '1']\n",
      "72\n"
     ]
    }
   ],
   "source": [
    "bi = 1001000\n",
    "\n",
    "# first convert into list\n",
    "\n",
    "bi = list(str(bi))\n",
    "#print(bi)         #['1', '0', '0', '1', '0', '0', '0']\n",
    "# we need to reverse the list\n",
    "bi = bi[::-1]\n",
    "print(bi)          #['0', '0', '0', '1', '0', '0', '1']\n",
    "\n",
    "sum = 0\n",
    "for i in range(len(bi)):\n",
    "    sum = sum + int((bi[i])) * pow(2,i)\n",
    "                 \n",
    "print(sum) \n",
    "\n",
    "                "
   ]
  },
  {
   "cell_type": "code",
   "execution_count": 40,
   "metadata": {},
   "outputs": [
    {
     "name": "stdout",
     "output_type": "stream",
     "text": [
      "72\n"
     ]
    }
   ],
   "source": [
    "n = '1001000'\n",
    "print(int(n,2))"
   ]
  },
  {
   "cell_type": "code",
   "execution_count": null,
   "metadata": {},
   "outputs": [],
   "source": []
  },
  {
   "cell_type": "code",
   "execution_count": null,
   "metadata": {},
   "outputs": [],
   "source": []
  },
  {
   "cell_type": "markdown",
   "metadata": {},
   "source": [
    "# Subarray/string"
   ]
  },
  {
   "cell_type": "code",
   "execution_count": 41,
   "metadata": {},
   "outputs": [
    {
     "name": "stdout",
     "output_type": "stream",
     "text": [
      "[1]\n",
      "[1, 2]\n",
      "[1, 2, 3]\n",
      "[1, 2, 3, 4]\n",
      "[2]\n",
      "[2, 3]\n",
      "[2, 3, 4]\n",
      "[3]\n",
      "[3, 4]\n",
      "[4]\n"
     ]
    }
   ],
   "source": [
    "s = [1,2,3,4]\n",
    "\n",
    "for i in range(len(s)):\n",
    "    for j in range(i+1,len(s)+1):\n",
    "        print(s[i:j])"
   ]
  },
  {
   "cell_type": "code",
   "execution_count": 93,
   "metadata": {},
   "outputs": [],
   "source": [
    "def subString(s):\n",
    "    lst = [s]  #here lst add whole string first\n",
    "    if len(s) > 0:\n",
    "        lst.extend(subString(s[1:]))  #start with index - 1 to len(s)\n",
    "        lst.extend(subString(s[:-1])) # start with index - 0 to len(s)-1\n",
    "    \n",
    "    lst.sort()\n",
    "    return list(set(lst))\n",
    "\n"
   ]
  },
  {
   "cell_type": "code",
   "execution_count": 98,
   "metadata": {},
   "outputs": [
    {
     "data": {
      "text/plain": [
       "['', 'BC', 'AB', 'ABCD', 'C', 'B', 'A', 'D', 'BCD', 'CD', 'ABC']"
      ]
     },
     "execution_count": 98,
     "metadata": {},
     "output_type": "execute_result"
    }
   ],
   "source": [
    "subString('ABCD')"
   ]
  },
  {
   "cell_type": "code",
   "execution_count": null,
   "metadata": {},
   "outputs": [],
   "source": []
  },
  {
   "cell_type": "code",
   "execution_count": 96,
   "metadata": {},
   "outputs": [],
   "source": [
    "def lstSubStrings(s):\n",
    "    # BASE CASE: when s is empty return the empty string\n",
    "    \n",
    "    if(len(s) is 0):\n",
    "        return [s]\n",
    "    substrs = []\n",
    "    \n",
    "    # a string is a substring of itself - by the definition of subset in math\n",
    "    substrs.append(s)\n",
    "    \n",
    "    # extend the list of substrings by all substrings with the first\n",
    "    # character cut out\n",
    "    substrs.extend(lstSubStrings(s[1:]))\n",
    "    \n",
    "    # extend the list of substrings by all substrings with the last \n",
    "    # character cut out\n",
    "    substrs.extend(lstSubStrings(s[:-1]))\n",
    "    \n",
    "    # convert the list to `set`, removing all duplicates, and convert \n",
    "    # back to a list\n",
    "    \n",
    "    substrs.sort()\n",
    "    substrs = list(set(substrs))\n",
    "\n",
    "    return substrs"
   ]
  },
  {
   "cell_type": "code",
   "execution_count": 97,
   "metadata": {},
   "outputs": [
    {
     "data": {
      "text/plain": [
       "['', 'BC', 'AB', 'C', 'B', 'A', 'ABC']"
      ]
     },
     "execution_count": 97,
     "metadata": {},
     "output_type": "execute_result"
    }
   ],
   "source": [
    "lstSubStrings(\"ABC\")"
   ]
  },
  {
   "cell_type": "code",
   "execution_count": null,
   "metadata": {},
   "outputs": [],
   "source": []
  },
  {
   "cell_type": "code",
   "execution_count": null,
   "metadata": {},
   "outputs": [],
   "source": []
  },
  {
   "cell_type": "code",
   "execution_count": null,
   "metadata": {},
   "outputs": [],
   "source": []
  },
  {
   "cell_type": "code",
   "execution_count": null,
   "metadata": {},
   "outputs": [],
   "source": []
  },
  {
   "cell_type": "markdown",
   "metadata": {},
   "source": [
    "# Power Set"
   ]
  },
  {
   "cell_type": "code",
   "execution_count": null,
   "metadata": {},
   "outputs": [],
   "source": []
  },
  {
   "cell_type": "code",
   "execution_count": null,
   "metadata": {},
   "outputs": [],
   "source": []
  },
  {
   "cell_type": "code",
   "execution_count": null,
   "metadata": {},
   "outputs": [],
   "source": []
  },
  {
   "cell_type": "code",
   "execution_count": null,
   "metadata": {},
   "outputs": [],
   "source": []
  },
  {
   "cell_type": "code",
   "execution_count": null,
   "metadata": {},
   "outputs": [],
   "source": []
  },
  {
   "cell_type": "code",
   "execution_count": null,
   "metadata": {},
   "outputs": [],
   "source": []
  },
  {
   "cell_type": "code",
   "execution_count": null,
   "metadata": {},
   "outputs": [],
   "source": []
  },
  {
   "cell_type": "code",
   "execution_count": null,
   "metadata": {},
   "outputs": [],
   "source": []
  }
 ],
 "metadata": {
  "kernelspec": {
   "display_name": "Python 3",
   "language": "python",
   "name": "python3"
  },
  "language_info": {
   "codemirror_mode": {
    "name": "ipython",
    "version": 3
   },
   "file_extension": ".py",
   "mimetype": "text/x-python",
   "name": "python",
   "nbconvert_exporter": "python",
   "pygments_lexer": "ipython3",
   "version": "3.7.6"
  }
 },
 "nbformat": 4,
 "nbformat_minor": 4
}
