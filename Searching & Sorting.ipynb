{
 "cells": [
  {
   "cell_type": "markdown",
   "metadata": {},
   "source": [
    "# Code Binary Search"
   ]
  },
  {
   "cell_type": "markdown",
   "metadata": {},
   "source": [
    "Iterative Method"
   ]
  },
  {
   "cell_type": "code",
   "execution_count": 19,
   "metadata": {},
   "outputs": [
    {
     "name": "stdout",
     "output_type": "stream",
     "text": [
      "Lower bound:-  0\n",
      "upper bound:-  6\n",
      "middle:-  3\n",
      "Lower bound:-  0\n",
      "upper bound:-  2\n",
      "middle:-  1\n",
      "Lower bound:-  2\n",
      "upper bound:-  2\n",
      "middle:-  2\n"
     ]
    },
    {
     "data": {
      "text/plain": [
       "2"
      ]
     },
     "execution_count": 19,
     "metadata": {},
     "output_type": "execute_result"
    }
   ],
   "source": [
    "def binarySearch(arr, find, debug = False):\n",
    "    lower_bound = 0\n",
    "    upper_bound = len(arr)-1\n",
    "    \n",
    "    while lower_bound <= upper_bound:\n",
    "        middle = (lower_bound+upper_bound)//2\n",
    "        \n",
    "        if debug:\n",
    "            print(\"Lower bound:- \", lower_bound)\n",
    "            print('upper bound:- ', upper_bound)\n",
    "            print('middle:- ', middle)\n",
    "        \n",
    "        if arr[middle] == find:\n",
    "            return middle\n",
    "        elif find > arr[middle]:\n",
    "            lower_bound = middle + 1\n",
    "        elif find < arr[middle]:\n",
    "            upper_bound = middle - 1\n",
    "    else:\n",
    "        return -1      # the value is not present in the list\n",
    " \n",
    "arr = [1, 3, 7, 9, 11, 12, 45]\n",
    "find = 7\n",
    "binarySearch(arr, find, True)"
   ]
  },
  {
   "cell_type": "markdown",
   "metadata": {},
   "source": [
    "Recursive Method"
   ]
  },
  {
   "cell_type": "code",
   "execution_count": 9,
   "metadata": {},
   "outputs": [
    {
     "name": "stdout",
     "output_type": "stream",
     "text": [
      "4\n"
     ]
    }
   ],
   "source": [
    "def binarySearch(arr,x,lo,up,mid):\n",
    "    if arr[mid] == x:\n",
    "        print(mid)\n",
    "    elif x>arr[mid]:\n",
    "        lo = mid+1\n",
    "        mid = (lo+up)//2\n",
    "        binarySearch(arr,x,lo,up,mid)\n",
    "    elif x<arr[mid]:\n",
    "        up = mid-1\n",
    "        mid = (lo+up)//2\n",
    "        binarySearch(arr,x,lo,up,mid)\n",
    "    else:\n",
    "        return -1\n",
    "    \n",
    "arr = [1, 3, 7, 9, 11, 12, 45]\n",
    "find = 11\n",
    "lo = 0\n",
    "up = len(arr)-1\n",
    "mid = (lo+up)//2\n",
    "binarySearch(arr,find,lo,up,mid)\n"
   ]
  },
  {
   "cell_type": "code",
   "execution_count": null,
   "metadata": {},
   "outputs": [],
   "source": []
  },
  {
   "cell_type": "code",
   "execution_count": 10,
   "metadata": {},
   "outputs": [
    {
     "name": "stdout",
     "output_type": "stream",
     "text": [
      "0\n",
      "1\n",
      "3\n",
      "-1\n"
     ]
    }
   ],
   "source": [
    "\n",
    "\n",
    "def binarysearch(arr, element):\n",
    "    start = 0\n",
    "    end = len(arr)-1\n",
    "    while start<=end:\n",
    "        mid = (start+end)//2 \n",
    "        if arr[mid]==element:\n",
    "            return mid\n",
    "        elif arr[mid]<element:\n",
    "            start = mid+1\n",
    "        else:\n",
    "            end = mid-1\n",
    "    return -1        \n",
    " \n",
    "        \n",
    "        \n",
    "\n",
    "#Taking Input Using Fast I/O\n",
    "def takeInput() :\n",
    "    n = int(input().strip())\n",
    "    \n",
    "    if n == 0 :\n",
    "        return list(), 0\n",
    "\n",
    "    arr = list(map(int, input().strip().split(\" \")))\n",
    "    return arr, n\n",
    "\n",
    "\n",
    "#main\n",
    "arr, n = takeInput()\n",
    "t = int(input().strip())\n",
    "\n",
    "while t > 0 :\n",
    "    \n",
    "    x = int(input().strip())    \n",
    "    print(binarysearch(arr, x))\n",
    "\n",
    "    t -= 1"
   ]
  },
  {
   "cell_type": "code",
   "execution_count": null,
   "metadata": {},
   "outputs": [],
   "source": []
  },
  {
   "cell_type": "code",
   "execution_count": null,
   "metadata": {},
   "outputs": [],
   "source": []
  },
  {
   "cell_type": "markdown",
   "metadata": {},
   "source": [
    "# Selection sort"
   ]
  },
  {
   "cell_type": "code",
   "execution_count": 8,
   "metadata": {},
   "outputs": [
    {
     "data": {
      "text/plain": [
       "[1, 2, 3, 4, 6, 13, 28]"
      ]
     },
     "execution_count": 8,
     "metadata": {},
     "output_type": "execute_result"
    }
   ],
   "source": [
    "def selectionSort(arr,n):\n",
    "    \n",
    "    for i in range(n):\n",
    "        min_idx = i\n",
    "        for j in range(i+1,n):\n",
    "            if arr[min_idx]>arr[j]:\n",
    "                min_idx = j\n",
    "                \n",
    "        arr[i],arr[min_idx]=arr[min_idx],arr[i]\n",
    "                \n",
    "    return arr\n",
    "\n",
    "arr = [2,13,4,1,3,6,28]\n",
    "selectionSort(arr,len(arr))\n",
    "               "
   ]
  },
  {
   "cell_type": "code",
   "execution_count": null,
   "metadata": {},
   "outputs": [],
   "source": []
  },
  {
   "cell_type": "markdown",
   "metadata": {},
   "source": [
    "# Bubble Sort"
   ]
  },
  {
   "cell_type": "code",
   "execution_count": 23,
   "metadata": {},
   "outputs": [
    {
     "name": "stdout",
     "output_type": "stream",
     "text": [
      "[1, 2, 4, 5, 8]\n"
     ]
    }
   ],
   "source": [
    "arr = [5,1,4,2,8]\n",
    "\n",
    "for i in range(len(arr)):\n",
    "    for j in range(len(arr)-1):\n",
    "        #print(arr[j],arr[j+1])\n",
    "        if arr[j]>arr[j+1]:\n",
    "            \n",
    "            arr[j],arr[j+1]=arr[j+1],arr[j]\n",
    "            \n",
    "print(arr)            "
   ]
  },
  {
   "cell_type": "markdown",
   "metadata": {},
   "source": [
    "Optimized bubble sort"
   ]
  },
  {
   "cell_type": "code",
   "execution_count": 22,
   "metadata": {},
   "outputs": [
    {
     "name": "stdout",
     "output_type": "stream",
     "text": [
      "[1, 2, 4, 5, 8]\n"
     ]
    }
   ],
   "source": [
    "arr = [5,1,4,2,8]\n",
    "\n",
    "for i in range(len(arr)-1):\n",
    "    for j in range(len(arr)-i-1):\n",
    "        #print(arr[j],arr[j+1])\n",
    "        if arr[j]>arr[j+1]:\n",
    "            \n",
    "            arr[j],arr[j+1]=arr[j+1],arr[j]\n",
    "            \n",
    "print(arr)  "
   ]
  },
  {
   "cell_type": "code",
   "execution_count": null,
   "metadata": {},
   "outputs": [],
   "source": []
  },
  {
   "cell_type": "markdown",
   "metadata": {},
   "source": [
    "# Insertion Sort"
   ]
  },
  {
   "cell_type": "code",
   "execution_count": 28,
   "metadata": {},
   "outputs": [
    {
     "data": {
      "text/plain": [
       "[1, 2, 3, 4, 6, 13, 28]"
      ]
     },
     "execution_count": 28,
     "metadata": {},
     "output_type": "execute_result"
    }
   ],
   "source": [
    "\n",
    "def insertionSort(arr, n) :\n",
    "    for i in range(1, n):\n",
    "        j = i-1\n",
    "\n",
    "        temp = arr[i]\n",
    "\n",
    "        while (j>=0 and arr[j]>temp):\n",
    "            arr[j+1] = arr[j]\n",
    "            j -= 1\n",
    "\n",
    "        arr[j+1] = temp     \n",
    "\n",
    "    return arr\n",
    "\n",
    "\n",
    "arr = [2, 13, 4, 1, 3, 6, 28]\n",
    "insertionSort(arr,len(arr))"
   ]
  },
  {
   "cell_type": "code",
   "execution_count": null,
   "metadata": {},
   "outputs": [],
   "source": []
  },
  {
   "cell_type": "markdown",
   "metadata": {},
   "source": [
    "# Code Merge Two Sorted Arrays"
   ]
  },
  {
   "cell_type": "code",
   "execution_count": 38,
   "metadata": {},
   "outputs": [
    {
     "data": {
      "text/plain": [
       "[1, 2, 3, 6, 8, 11, 12, 12, 16, 17, 19]"
      ]
     },
     "execution_count": 38,
     "metadata": {},
     "output_type": "execute_result"
    }
   ],
   "source": [
    "def merge(arr1,n,arr2,m):\n",
    "    arr3 = []\n",
    "    i = 0\n",
    "    j = 0\n",
    "    \n",
    "    \n",
    "    while (i<n and j<m):\n",
    "        if (arr1[i]<arr2[j]):\n",
    "            arr3.append(arr1[i])\n",
    "            i = i+1\n",
    "            \n",
    "            \n",
    "            \n",
    "        elif (arr1[i]>=arr2[j]):\n",
    "            arr3.append(arr2[j])\n",
    "            j = j+1\n",
    "            \n",
    "    \n",
    "    # Store remaining elements\n",
    "    # of first array\n",
    "    while i<n:\n",
    "        arr3.append(arr1[i])\n",
    "        i = i+1\n",
    "        \n",
    "        \n",
    "    # Store remaining elements\n",
    "    # of second array    \n",
    "    while j<m:\n",
    "        arr3.append(arr2[j])\n",
    "        j = j+1\n",
    "        \n",
    "    \n",
    "    return arr3\n",
    "\n",
    "#arr1 = [1, 3, 4, 7, 11]\n",
    "#arr2 = [2, 4, 6, 13]\n",
    "arr1 = [1, 3, 6, 11, 12, 17 ]\n",
    "arr2 = [2, 8, 12, 16, 19 ]\n",
    "\n",
    "merge(arr1,len(arr1),arr2,len(arr2))\n"
   ]
  },
  {
   "cell_type": "code",
   "execution_count": 40,
   "metadata": {},
   "outputs": [
    {
     "data": {
      "text/plain": [
       "[1, 2, 3, 6, 8, 11, 12, 12, 16, 17, 19]"
      ]
     },
     "execution_count": 40,
     "metadata": {},
     "output_type": "execute_result"
    }
   ],
   "source": [
    "def merge(arr1,n,arr2,m):\n",
    "    arr3 = []\n",
    "    i = 0\n",
    "    j = 0\n",
    "    \n",
    "    \n",
    "    while (i<n and j<m):\n",
    "        if (arr1[i]<arr2[j]):\n",
    "            arr3.append(arr1[i])\n",
    "            i = i+1\n",
    "            \n",
    "            \n",
    "            \n",
    "        elif (arr1[i]>=arr2[j]):\n",
    "            arr3.append(arr2[j])\n",
    "            j = j+1\n",
    "            \n",
    "    \n",
    "    # Store remaining elements\n",
    "    # of first array\n",
    "    while i<n:\n",
    "        arr3.append(arr1[i])\n",
    "        i = i+1\n",
    "        \n",
    "        \n",
    "    # Store remaining elements\n",
    "    # of second array    \n",
    "    while j<m:\n",
    "        arr3.append(arr2[j])\n",
    "        j = j+1\n",
    "        \n",
    "    \n",
    "    return arr3\n",
    "\n",
    "#arr1 = [1, 3, 4, 7, 11]\n",
    "#arr2 = [2, 4, 6, 13]\n",
    "arr1 = [1, 3, 6, 11, 12, 17 ]\n",
    "arr2 = [2, 8, 12, 16, 19 ]\n",
    "\n",
    "merge(arr1,len(arr1),arr2,len(arr2))\n"
   ]
  },
  {
   "cell_type": "code",
   "execution_count": 43,
   "metadata": {},
   "outputs": [],
   "source": [
    "arr1 = [1, 3, 6, 4, 7, 11]\n",
    "arr1.sort()"
   ]
  },
  {
   "cell_type": "code",
   "execution_count": 44,
   "metadata": {},
   "outputs": [
    {
     "data": {
      "text/plain": [
       "[1, 3, 4, 6, 7, 11]"
      ]
     },
     "execution_count": 44,
     "metadata": {},
     "output_type": "execute_result"
    }
   ],
   "source": [
    "arr1"
   ]
  },
  {
   "cell_type": "code",
   "execution_count": null,
   "metadata": {},
   "outputs": [],
   "source": []
  },
  {
   "cell_type": "code",
   "execution_count": null,
   "metadata": {},
   "outputs": [],
   "source": []
  },
  {
   "cell_type": "markdown",
   "metadata": {},
   "source": [
    "# Push Zeros to end"
   ]
  },
  {
   "cell_type": "code",
   "execution_count": 5,
   "metadata": {},
   "outputs": [],
   "source": [
    "arr = [5, 0, 7, 4, 8, 1, 3, 0, 7, 2, 0 ]\n",
    "\n",
    "n = len(arr)\n",
    "arr1 = []\n",
    "arr2 = []\n",
    "i = 0\n",
    "while i<n:\n",
    "    if arr[i] > 0:\n",
    "        arr1.append(arr[i])\n",
    "    else:\n",
    "        arr2.append(arr[i])\n",
    "    i = i+1\n",
    "    \n",
    "    "
   ]
  },
  {
   "cell_type": "code",
   "execution_count": 7,
   "metadata": {},
   "outputs": [
    {
     "data": {
      "text/plain": [
       "[5, 7, 4, 8, 1, 3, 7, 2, 0, 0, 0]"
      ]
     },
     "execution_count": 7,
     "metadata": {},
     "output_type": "execute_result"
    }
   ],
   "source": [
    "arr1+arr2"
   ]
  },
  {
   "cell_type": "code",
   "execution_count": 2,
   "metadata": {},
   "outputs": [
    {
     "data": {
      "text/plain": [
       "[5, 7, 4, 8, 1, 3, 7, 2, 0, 0, 0]"
      ]
     },
     "execution_count": 2,
     "metadata": {},
     "output_type": "execute_result"
    }
   ],
   "source": [
    "def pushZerosAtEnd(arr, n):\n",
    "    arr1 = []\n",
    "    arr2 = []\n",
    "    \n",
    "    i = 0\n",
    "    while i<n:\n",
    "        if arr[i] > 0:\n",
    "            arr1.append(arr[i])\n",
    "        else:\n",
    "            arr2.append(arr[i])\n",
    "        i = i+1\n",
    "    return arr1+arr2\n",
    "\n",
    "#arr = [2, 0, 0, 1, 3, 0, 0]\n",
    "arr = [5, 0, 7, 4, 8, 1, 3, 0, 7, 2, 0 ]\n",
    "pushZerosAtEnd(arr,len(arr))"
   ]
  },
  {
   "cell_type": "code",
   "execution_count": null,
   "metadata": {},
   "outputs": [],
   "source": []
  },
  {
   "cell_type": "code",
   "execution_count": 15,
   "metadata": {},
   "outputs": [
    {
     "data": {
      "text/plain": [
       "[5, 7, 4, 8, 1, 3, 7, 2, 0, 0, 0]"
      ]
     },
     "execution_count": 15,
     "metadata": {},
     "output_type": "execute_result"
    }
   ],
   "source": [
    "def pushZerosAtEnd(arr, n):\n",
    "    j = 0\n",
    "    for i in range(n):\n",
    "        if arr[i] != 0:\n",
    "            arr[j], arr[i] = arr[i], arr[j]  # Partitioning the array\n",
    "            j += 1\n",
    "    return arr\n",
    "\n",
    "arr = [5, 0, 7, 4, 8, 1, 3, 0, 7, 2, 0 ]\n",
    "pushZerosAtEnd(arr,len(arr))"
   ]
  },
  {
   "cell_type": "code",
   "execution_count": 22,
   "metadata": {},
   "outputs": [
    {
     "data": {
      "text/plain": [
       "[5, 7, 4, 8, 1, 3, 7, 2, 0, 0, 0]"
      ]
     },
     "execution_count": 22,
     "metadata": {},
     "output_type": "execute_result"
    }
   ],
   "source": [
    "def pushZerosAtEnd(arr, n):\n",
    "    count = 0\n",
    "    \n",
    "    for i in range(n):\n",
    "        if arr[i] != 0:\n",
    "            arr[count] = arr[i]\n",
    "            count+=1\n",
    "            \n",
    "    while count<n:\n",
    "        arr[count] = 0\n",
    "        count+=1\n",
    "    \n",
    "    return arr\n",
    "       \n",
    "\n",
    "arr = [5, 0, 7, 4, 8, 1, 3, 0, 7, 2, 0 ]\n",
    "pushZerosAtEnd(arr,len(arr))\n"
   ]
  },
  {
   "cell_type": "code",
   "execution_count": null,
   "metadata": {},
   "outputs": [],
   "source": []
  },
  {
   "cell_type": "code",
   "execution_count": 24,
   "metadata": {},
   "outputs": [
    {
     "data": {
      "text/plain": [
       "[5, 7, 4, 8, 1, 3, 7, 2, 0, 0, 0]"
      ]
     },
     "execution_count": 24,
     "metadata": {},
     "output_type": "execute_result"
    }
   ],
   "source": [
    "def pushZerosAtEnd(arr, n):\n",
    "    \n",
    "    nonZero = [x for x in arr if x!=0]\n",
    "    zero    = [y for y in arr if y==0]\n",
    "    \n",
    "    return nonZero+zero\n",
    "\n",
    "arr = [5, 0, 7, 4, 8, 1, 3, 0, 7, 2, 0 ]\n",
    "pushZerosAtEnd(arr,len(arr))"
   ]
  },
  {
   "cell_type": "code",
   "execution_count": null,
   "metadata": {},
   "outputs": [],
   "source": []
  },
  {
   "cell_type": "markdown",
   "metadata": {},
   "source": [
    "# Rotate array"
   ]
  },
  {
   "cell_type": "code",
   "execution_count": 1,
   "metadata": {},
   "outputs": [
    {
     "data": {
      "text/plain": [
       "[12, 17, 1, 3, 6, 11]"
      ]
     },
     "execution_count": 1,
     "metadata": {},
     "output_type": "execute_result"
    }
   ],
   "source": [
    "def rotate(arr, n, d):\n",
    "    arr1 = []\n",
    "    count = n\n",
    "    for i in range(d,n):\n",
    "        arr1.append(arr[i])\n",
    "        count -=1\n",
    "    \n",
    "    for i in range(count):\n",
    "        arr1.append(arr[i])\n",
    "    \n",
    "    return arr1\n",
    "    \n",
    "    \n",
    "\n",
    "    \n",
    "#arr = [1, 2, 3, 4, 5, 6, 7] \n",
    "arr = [1, 3, 6, 11, 12, 17]\n",
    "rotate(arr,len(arr),4)"
   ]
  },
  {
   "cell_type": "code",
   "execution_count": 5,
   "metadata": {},
   "outputs": [
    {
     "data": {
      "text/plain": [
       "[12, 17, 1, 3, 6, 11]"
      ]
     },
     "execution_count": 5,
     "metadata": {},
     "output_type": "execute_result"
    }
   ],
   "source": [
    "def rotate(arr, n, d):\n",
    "    \n",
    "    temp = []\n",
    "    i = 0\n",
    "    while (i < d):\n",
    "        temp.append(arr[i])\n",
    "        i = i + 1\n",
    "    i = 0\n",
    "    while (d < n):\n",
    "        arr[i] = arr[d]\n",
    "        i = i + 1\n",
    "        d = d + 1\n",
    "    arr[:] = arr[: i] + temp\n",
    "    return arr\n",
    "    \n",
    "\n",
    "    \n",
    "#arr = [1, 2, 3, 4, 5, 6, 7] \n",
    "arr = [1, 3, 6, 11, 12, 17]\n",
    "rotate(arr,len(arr),4)"
   ]
  },
  {
   "cell_type": "code",
   "execution_count": null,
   "metadata": {},
   "outputs": [],
   "source": []
  },
  {
   "cell_type": "code",
   "execution_count": null,
   "metadata": {},
   "outputs": [],
   "source": []
  },
  {
   "cell_type": "markdown",
   "metadata": {},
   "source": [
    "# Second Largest in array"
   ]
  },
  {
   "cell_type": "code",
   "execution_count": 11,
   "metadata": {},
   "outputs": [
    {
     "data": {
      "text/plain": [
       "6"
      ]
     },
     "execution_count": 11,
     "metadata": {},
     "output_type": "execute_result"
    }
   ],
   "source": [
    "def secondLargestElement(arr, n):\n",
    "    arr.sort()\n",
    "    return arr[-2]\n",
    "\n",
    "#arr = [2, 13, 4, 1, 3, 6, 28]\n",
    "arr = [6, 6]\n",
    "secondLargestElement(arr,len(arr))"
   ]
  },
  {
   "cell_type": "code",
   "execution_count": 5,
   "metadata": {},
   "outputs": [
    {
     "data": {
      "text/plain": [
       "-2147483648"
      ]
     },
     "execution_count": 5,
     "metadata": {},
     "output_type": "execute_result"
    }
   ],
   "source": [
    "\n",
    "MIN_VALUE = -2147483648\n",
    "\n",
    "\n",
    "def secondLargestElement(arr, n):\n",
    "    #Your code goes here\n",
    "    if n == 0:\n",
    "        return MIN_VALUE\n",
    "    largest = arr[0]\n",
    "    secondLargest = MIN_VALUE\n",
    "\n",
    "    for i in range(n):\n",
    "        if largest < arr[i]:\n",
    "            secondLargest = largest\n",
    "            largest = arr[i]\n",
    "        elif secondLargest < arr[i] and arr[i] != largest:\n",
    "            secondLargest = arr[i]\n",
    "    return secondLargest\n",
    "\n",
    "\n",
    "arr = [0]\n",
    "secondLargestElement(arr,len(arr))"
   ]
  },
  {
   "cell_type": "code",
   "execution_count": 3,
   "metadata": {},
   "outputs": [
    {
     "name": "stdout",
     "output_type": "stream",
     "text": [
      "1\n",
      "11\n",
      "-2147483648\n"
     ]
    }
   ],
   "source": [
    "def secondLargest(n, arr):\n",
    "    x = arr[0]\n",
    "    \n",
    "    if arr.count(x) == n or n <=1:\n",
    "        print(-2147483648)\n",
    "        \n",
    "    else:\n",
    "        arr.sort()\n",
    "        m = max(arr)\n",
    "        c = arr.count(m)\n",
    "        \n",
    "        print(arr[n-1-c])\n",
    "\n",
    "# Main\n",
    "n=int(input())\n",
    "arr=list(int(i) for i in input().strip().split(' '))\n",
    "\n",
    "secondLargest(n, arr)"
   ]
  },
  {
   "cell_type": "code",
   "execution_count": null,
   "metadata": {},
   "outputs": [],
   "source": []
  },
  {
   "cell_type": "code",
   "execution_count": null,
   "metadata": {},
   "outputs": [],
   "source": []
  },
  {
   "cell_type": "markdown",
   "metadata": {},
   "source": [
    "# Check Array Rotation"
   ]
  },
  {
   "cell_type": "code",
   "execution_count": 6,
   "metadata": {},
   "outputs": [],
   "source": []
  },
  {
   "cell_type": "code",
   "execution_count": null,
   "metadata": {},
   "outputs": [],
   "source": []
  }
 ],
 "metadata": {
  "kernelspec": {
   "display_name": "Python 3",
   "language": "python",
   "name": "python3"
  },
  "language_info": {
   "codemirror_mode": {
    "name": "ipython",
    "version": 3
   },
   "file_extension": ".py",
   "mimetype": "text/x-python",
   "name": "python",
   "nbconvert_exporter": "python",
   "pygments_lexer": "ipython3",
   "version": "3.7.6"
  }
 },
 "nbformat": 4,
 "nbformat_minor": 4
}
