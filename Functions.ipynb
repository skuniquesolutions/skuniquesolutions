{
 "cells": [
  {
   "cell_type": "markdown",
   "metadata": {},
   "source": [
    "# Find ncr\n",
    "\n",
    "formula -> n!//(r!*(n!-r!))\n"
   ]
  },
  {
   "cell_type": "code",
   "execution_count": 2,
   "metadata": {},
   "outputs": [
    {
     "name": "stdout",
     "output_type": "stream",
     "text": [
      "4\n",
      "2\n",
      "6\n"
     ]
    }
   ],
   "source": [
    "n = int(input())\n",
    "r = int(input())\n",
    "\n",
    "n_fact = 1\n",
    "for i in range(1,n+1,1):\n",
    "    n_fact = n_fact*i\n",
    "    \n",
    "r_fact = 1\n",
    "for i in range(1,r+1,1):\n",
    "    r_fact = r_fact*i   \n",
    "    \n",
    "n_r_fact = 1\n",
    "for i in range(1,n-r+1,1):\n",
    "    n_r_fact = n_r_fact*i\n",
    "    \n",
    "ans = n_fact//(r_fact*n_r_fact)\n",
    "\n",
    "print(ans)"
   ]
  },
  {
   "cell_type": "code",
   "execution_count": null,
   "metadata": {},
   "outputs": [],
   "source": []
  },
  {
   "cell_type": "code",
   "execution_count": 3,
   "metadata": {},
   "outputs": [
    {
     "name": "stdout",
     "output_type": "stream",
     "text": [
      "4\n",
      "2\n",
      "6\n"
     ]
    }
   ],
   "source": [
    "def fact(n):\n",
    "    a_fact = 1\n",
    "    for i in range(1,n+1,1):\n",
    "        a_fact = a_fact*i\n",
    "    return a_fact\n",
    "\n",
    "\n",
    "n = int(input())\n",
    "r = int(input())\n",
    "\n",
    "n_fact = fact(n)\n",
    "r_fact = fact(r)\n",
    "n_r_fact = fact(n-r)\n",
    "\n",
    "ans = n_fact//(r_fact*n_r_fact)\n",
    "\n",
    "print(ans)"
   ]
  },
  {
   "cell_type": "raw",
   "metadata": {},
   "source": [
    "Find number is prime or not"
   ]
  },
  {
   "cell_type": "code",
   "execution_count": 26,
   "metadata": {},
   "outputs": [
    {
     "name": "stdout",
     "output_type": "stream",
     "text": [
      "17\n",
      "prime\n"
     ]
    }
   ],
   "source": [
    "def isprime(n):\n",
    "    for i in range(2,n,1):\n",
    "        if n%i==0:\n",
    "            break\n",
    "    else:\n",
    "        return True\n",
    "     \n",
    "    return False\n",
    "\n",
    "n = int(input())\n",
    "\n",
    "if isprime(n):\n",
    "    print('prime')\n",
    "else:\n",
    "    print(\"not prime\")\n",
    "       "
   ]
  },
  {
   "cell_type": "code",
   "execution_count": null,
   "metadata": {},
   "outputs": [],
   "source": []
  },
  {
   "cell_type": "raw",
   "metadata": {},
   "source": [
    "print all prime number "
   ]
  },
  {
   "cell_type": "code",
   "execution_count": 27,
   "metadata": {},
   "outputs": [
    {
     "name": "stdout",
     "output_type": "stream",
     "text": [
      "2\n",
      "3\n",
      "5\n",
      "7\n",
      "11\n",
      "13\n",
      "17\n",
      "19\n"
     ]
    }
   ],
   "source": [
    "def printFrom2ToN(n):\n",
    "    for k in range(2, n+1):\n",
    "        is_K_prime = isprime(k)    #Here each k value find is prime or not by call main function isprime()\n",
    "        if is_K_prime:\n",
    "            print(k)\n",
    "\n",
    "\n",
    "printFrom2ToN(20)            "
   ]
  },
  {
   "cell_type": "code",
   "execution_count": null,
   "metadata": {},
   "outputs": [],
   "source": []
  },
  {
   "cell_type": "code",
   "execution_count": 28,
   "metadata": {},
   "outputs": [
    {
     "name": "stdout",
     "output_type": "stream",
     "text": [
      "6\n"
     ]
    }
   ],
   "source": [
    "def ncr(n,r):\n",
    "    n_fact = fact(n)\n",
    "    r_fact = fact(r)\n",
    "    \n",
    "    ans = n_fact//(r_fact*n_r_fact)\n",
    "    print(ans)\n",
    "     \n",
    "    \n",
    "ncr(4,2)    "
   ]
  },
  {
   "cell_type": "code",
   "execution_count": 30,
   "metadata": {},
   "outputs": [
    {
     "data": {
      "text/plain": [
       "6"
      ]
     },
     "execution_count": 30,
     "metadata": {},
     "output_type": "execute_result"
    }
   ],
   "source": [
    "def ncr(n,r):\n",
    "    \n",
    "    def fact(n):\n",
    "        a_fact = 1\n",
    "        for i in range(1,n+1):\n",
    "            a_fact = a_fact*i\n",
    "        return a_fact\n",
    "    \n",
    "    n_fact = fact(n)\n",
    "    r_fact = fact(r)\n",
    "    \n",
    "    ans = n_fact//(r_fact*n_r_fact)\n",
    "    return ans\n",
    "            \n",
    "ncr(4,2)            "
   ]
  },
  {
   "cell_type": "code",
   "execution_count": null,
   "metadata": {},
   "outputs": [],
   "source": []
  },
  {
   "cell_type": "code",
   "execution_count": 32,
   "metadata": {},
   "outputs": [
    {
     "name": "stdout",
     "output_type": "stream",
     "text": [
      "12\n",
      "140721415430896\n",
      "18\n",
      "140721415431088\n",
      "12\n"
     ]
    }
   ],
   "source": [
    "a1= 12\n",
    "\n",
    "def f():\n",
    "    a1 = 18\n",
    "    print(a1)\n",
    "    print(id(a1))\n",
    "    \n",
    "print(a1)\n",
    "print(id(a1))\n",
    "f()\n",
    "print(a1)"
   ]
  },
  {
   "cell_type": "code",
   "execution_count": 34,
   "metadata": {},
   "outputs": [
    {
     "name": "stdout",
     "output_type": "stream",
     "text": [
      "12\n",
      "140721415430896\n",
      "18\n",
      "140721415431088\n",
      "18\n",
      "140721415431088\n"
     ]
    }
   ],
   "source": [
    "a1= 12\n",
    "\n",
    "def f():\n",
    "    global a1\n",
    "    a1 = 18\n",
    "    print(a1)\n",
    "    print(id(a1))\n",
    "    \n",
    "print(a1)\n",
    "print(id(a1))\n",
    "f()\n",
    "print(a1)\n",
    "print(id(a1))"
   ]
  },
  {
   "cell_type": "code",
   "execution_count": 37,
   "metadata": {},
   "outputs": [
    {
     "name": "stdout",
     "output_type": "stream",
     "text": [
      "12\n",
      "140721415430896\n",
      "18\n",
      "140721415431088\n",
      "18\n",
      "140721415431088\n"
     ]
    }
   ],
   "source": [
    "global a1\n",
    "a1 = 12\n",
    "\n",
    "def f():\n",
    "    global a1\n",
    "    a1 = 18\n",
    "    print(a1)\n",
    "    print(id(a1))\n",
    "    \n",
    "print(a1)\n",
    "print(id(a1))\n",
    "f()\n",
    "print(a1)\n",
    "print(id(a1))"
   ]
  },
  {
   "cell_type": "code",
   "execution_count": null,
   "metadata": {},
   "outputs": [],
   "source": []
  },
  {
   "cell_type": "code",
   "execution_count": null,
   "metadata": {},
   "outputs": [],
   "source": []
  },
  {
   "cell_type": "markdown",
   "metadata": {},
   "source": [
    "Fahrenheit to Celsius Function"
   ]
  },
  {
   "cell_type": "code",
   "execution_count": null,
   "metadata": {},
   "outputs": [],
   "source": []
  },
  {
   "cell_type": "code",
   "execution_count": 80,
   "metadata": {},
   "outputs": [
    {
     "name": "stdout",
     "output_type": "stream",
     "text": [
      "0  -17\n",
      "20  -6\n",
      "40  4\n",
      "60  15\n",
      "80  26\n",
      "100  37\n"
     ]
    }
   ],
   "source": [
    "def printTable(start,end,step):\n",
    "    def find(f):\n",
    "        c = (f-32)*5/9\n",
    "        print(int(c))\n",
    "    \n",
    "    \n",
    "    for i in range(start,end+1,step):\n",
    "        print(i,end='  ')\n",
    "        find(i)\n",
    "        \n",
    "        \n",
    "    \n",
    "    \n",
    "s = 0\n",
    "e = 100\n",
    "step = 20\n",
    "printTable(s,e,step)  \n"
   ]
  },
  {
   "cell_type": "code",
   "execution_count": null,
   "metadata": {},
   "outputs": [],
   "source": []
  },
  {
   "cell_type": "markdown",
   "metadata": {},
   "source": [
    "Fibonacci Member"
   ]
  },
  {
   "cell_type": "code",
   "execution_count": 114,
   "metadata": {},
   "outputs": [
    {
     "name": "stdout",
     "output_type": "stream",
     "text": [
      "5\n",
      "true\n"
     ]
    }
   ],
   "source": [
    "import math\n",
    "\n",
    "def isPerfectSqrt(n):\n",
    "    c = int((math.sqrt(n)))\n",
    "    return c*c==n\n",
    "\n",
    "def checkMember(n):\n",
    "    return isPerfectSqrt(5*n*n+4) or isPerfectSqrt(5*n*n-4)\n",
    "    \n",
    "    \n",
    "    \n",
    "\n",
    "n=int(input())\n",
    "if(checkMember(n)):\n",
    "    print(\"true\")\n",
    "else:\n",
    "    print(\"false\")"
   ]
  },
  {
   "cell_type": "code",
   "execution_count": null,
   "metadata": {},
   "outputs": [],
   "source": []
  },
  {
   "cell_type": "markdown",
   "metadata": {},
   "source": [
    "Palindrome number"
   ]
  },
  {
   "cell_type": "code",
   "execution_count": 139,
   "metadata": {},
   "outputs": [
    {
     "name": "stdout",
     "output_type": "stream",
     "text": [
      "102\n",
      "false\n"
     ]
    }
   ],
   "source": [
    "def checkPalindrome(num):\n",
    "    n = str(num)\n",
    "    return n==n[::-1]\n",
    "        \n",
    "    \n",
    "    \n",
    "\n",
    "num = int(input())\n",
    "isPalindrome = checkPalindrome(num)\n",
    "if(isPalindrome):\n",
    "    print('true')\n",
    "else:\n",
    "    print('false')\n"
   ]
  },
  {
   "cell_type": "code",
   "execution_count": null,
   "metadata": {},
   "outputs": [],
   "source": []
  },
  {
   "cell_type": "markdown",
   "metadata": {},
   "source": [
    "Check Armstrong"
   ]
  },
  {
   "cell_type": "code",
   "execution_count": 176,
   "metadata": {},
   "outputs": [
    {
     "data": {
      "text/plain": [
       "371"
      ]
     },
     "execution_count": 176,
     "metadata": {},
     "output_type": "execute_result"
    }
   ],
   "source": [
    "n = 371\n",
    "(3**3)+(7**3)+(1**3)    "
   ]
  },
  {
   "cell_type": "code",
   "execution_count": 206,
   "metadata": {},
   "outputs": [
    {
     "name": "stdout",
     "output_type": "stream",
     "text": [
      "1\n",
      "True\n"
     ]
    }
   ],
   "source": [
    "def square(m,n):\n",
    "    return int(m)**int(n)\n",
    "\n",
    "def split(m):\n",
    "    l = str(m)\n",
    "    j = 0\n",
    "    for i in range(len(l)):\n",
    "        k =  square(l[i],len(l))\n",
    "        j = j+k\n",
    "    return j\n",
    "\n",
    "n = int(input())\n",
    "if split(n)==n:\n",
    "    print(True)\n",
    "else:\n",
    "    print(False)"
   ]
  },
  {
   "cell_type": "code",
   "execution_count": 191,
   "metadata": {},
   "outputs": [
    {
     "name": "stdout",
     "output_type": "stream",
     "text": [
      "3\n",
      "7\n",
      "1\n"
     ]
    }
   ],
   "source": [
    "n = 371\n",
    "m = str(n)\n",
    "for i in range(len(m)):\n",
    "    print(m[i])"
   ]
  },
  {
   "cell_type": "code",
   "execution_count": 193,
   "metadata": {},
   "outputs": [
    {
     "data": {
      "text/plain": [
       "3"
      ]
     },
     "execution_count": 193,
     "metadata": {},
     "output_type": "execute_result"
    }
   ],
   "source": [
    "len(m)"
   ]
  },
  {
   "cell_type": "code",
   "execution_count": 194,
   "metadata": {},
   "outputs": [
    {
     "data": {
      "text/plain": [
       "343"
      ]
     },
     "execution_count": 194,
     "metadata": {},
     "output_type": "execute_result"
    }
   ],
   "source": [
    "7**3"
   ]
  },
  {
   "cell_type": "code",
   "execution_count": 236,
   "metadata": {},
   "outputs": [
    {
     "name": "stdout",
     "output_type": "stream",
     "text": [
      "2\n",
      "3 44\n"
     ]
    },
    {
     "ename": "ValueError",
     "evalue": "invalid literal for int() with base 10: '3 44'",
     "output_type": "error",
     "traceback": [
      "\u001b[1;31m---------------------------------------------------------------------------\u001b[0m",
      "\u001b[1;31mValueError\u001b[0m                                Traceback (most recent call last)",
      "\u001b[1;32m<ipython-input-236-6c4491b1d57f>\u001b[0m in \u001b[0;36m<module>\u001b[1;34m\u001b[0m\n\u001b[0;32m     16\u001b[0m \u001b[0mn\u001b[0m \u001b[1;33m=\u001b[0m \u001b[0mint\u001b[0m\u001b[1;33m(\u001b[0m\u001b[0minput\u001b[0m\u001b[1;33m(\u001b[0m\u001b[1;33m)\u001b[0m\u001b[1;33m)\u001b[0m\u001b[1;33m\u001b[0m\u001b[1;33m\u001b[0m\u001b[0m\n\u001b[0;32m     17\u001b[0m \u001b[1;32mfor\u001b[0m \u001b[0mi\u001b[0m \u001b[1;32min\u001b[0m \u001b[0mrange\u001b[0m\u001b[1;33m(\u001b[0m\u001b[0mn\u001b[0m\u001b[1;33m)\u001b[0m\u001b[1;33m:\u001b[0m\u001b[1;33m\u001b[0m\u001b[1;33m\u001b[0m\u001b[0m\n\u001b[1;32m---> 18\u001b[1;33m     \u001b[0mx\u001b[0m\u001b[1;33m,\u001b[0m\u001b[0my\u001b[0m \u001b[1;33m=\u001b[0m \u001b[0mint\u001b[0m\u001b[1;33m(\u001b[0m\u001b[0minput\u001b[0m\u001b[1;33m(\u001b[0m\u001b[1;33m)\u001b[0m\u001b[1;33m)\u001b[0m\u001b[1;33m.\u001b[0m\u001b[0msplit\u001b[0m\u001b[1;33m(\u001b[0m\u001b[1;33m)\u001b[0m\u001b[1;33m\u001b[0m\u001b[1;33m\u001b[0m\u001b[0m\n\u001b[0m\u001b[0;32m     19\u001b[0m     \u001b[0mk\u001b[0m \u001b[1;33m=\u001b[0m \u001b[0mfindGcd\u001b[0m\u001b[1;33m(\u001b[0m\u001b[0mx\u001b[0m\u001b[1;33m,\u001b[0m\u001b[0my\u001b[0m\u001b[1;33m)\u001b[0m\u001b[1;33m\u001b[0m\u001b[1;33m\u001b[0m\u001b[0m\n\u001b[0;32m     20\u001b[0m     \u001b[0mprint\u001b[0m\u001b[1;33m(\u001b[0m\u001b[0mk\u001b[0m\u001b[1;33m)\u001b[0m\u001b[1;33m\u001b[0m\u001b[1;33m\u001b[0m\u001b[0m\n",
      "\u001b[1;31mValueError\u001b[0m: invalid literal for int() with base 10: '3 44'"
     ]
    }
   ],
   "source": [
    "\n",
    "def findGcd(a, b):\n",
    "    if b == 0:\n",
    "        return a\n",
    "\n",
    "    return gcd(b, a % b)\n",
    "\n",
    "\n",
    "\n",
    "def gcd(a, b):\n",
    "    while b != 0:\n",
    "        a, b = b, a % b\n",
    "\n",
    "    return a\n",
    "\n",
    "\n",
    "n = int(input())\n",
    "for i in range(n):\n",
    "    x = list(map(int, input().split()))\n",
    "    k = findGcd(x[0],x[1])\n",
    "    print(k)\n"
   ]
  },
  {
   "cell_type": "code",
   "execution_count": 226,
   "metadata": {},
   "outputs": [
    {
     "name": "stdout",
     "output_type": "stream",
     "text": [
      "2 3\n"
     ]
    },
    {
     "ename": "TypeError",
     "evalue": "list expected at most 1 arguments, got 2",
     "output_type": "error",
     "traceback": [
      "\u001b[1;31m---------------------------------------------------------------------------\u001b[0m",
      "\u001b[1;31mTypeError\u001b[0m                                 Traceback (most recent call last)",
      "\u001b[1;32m<ipython-input-226-f13d2dbcb466>\u001b[0m in \u001b[0;36m<module>\u001b[1;34m\u001b[0m\n\u001b[1;32m----> 1\u001b[1;33m \u001b[0mx\u001b[0m \u001b[1;33m=\u001b[0m \u001b[0mlist\u001b[0m\u001b[1;33m(\u001b[0m\u001b[0mint\u001b[0m\u001b[1;33m,\u001b[0m \u001b[0minput\u001b[0m\u001b[1;33m(\u001b[0m\u001b[1;33m)\u001b[0m\u001b[1;33m.\u001b[0m\u001b[0msplit\u001b[0m\u001b[1;33m(\u001b[0m\u001b[1;33m)\u001b[0m\u001b[1;33m)\u001b[0m\u001b[1;33m\u001b[0m\u001b[1;33m\u001b[0m\u001b[0m\n\u001b[0m",
      "\u001b[1;31mTypeError\u001b[0m: list expected at most 1 arguments, got 2"
     ]
    }
   ],
   "source": [
    "n = int(input())\n",
    "for i in range(n):\n",
    "    x = list(map(int, input().split()))\n",
    "    k = findGcd(x[0],x[1])\n",
    "    print(k)"
   ]
  },
  {
   "cell_type": "code",
   "execution_count": 238,
   "metadata": {},
   "outputs": [
    {
     "name": "stdout",
     "output_type": "stream",
     "text": [
      "2\n",
      "20 15\n",
      "5\n",
      "2 7\n",
      "1\n"
     ]
    }
   ],
   "source": [
    "def findGcd(a, b):\n",
    "    if(b == 0):\n",
    "        return abs(a)\n",
    "    else:\n",
    "        return findGcd(b, a % b)\n",
    " \n",
    "n = int(input())\n",
    "for i in range(n):\n",
    "    x = list(map(int, input().split()))\n",
    "    k = findGcd(x[0],x[1])\n",
    "    print(k)\n",
    " \n",
    "\n"
   ]
  },
  {
   "cell_type": "code",
   "execution_count": null,
   "metadata": {},
   "outputs": [],
   "source": []
  }
 ],
 "metadata": {
  "kernelspec": {
   "display_name": "Python 3",
   "language": "python",
   "name": "python3"
  },
  "language_info": {
   "codemirror_mode": {
    "name": "ipython",
    "version": 3
   },
   "file_extension": ".py",
   "mimetype": "text/x-python",
   "name": "python",
   "nbconvert_exporter": "python",
   "pygments_lexer": "ipython3",
   "version": "3.7.6"
  }
 },
 "nbformat": 4,
 "nbformat_minor": 4
}
