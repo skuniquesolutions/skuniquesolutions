{
 "cells": [
  {
   "cell_type": "code",
   "execution_count": 7,
   "metadata": {},
   "outputs": [
    {
     "name": "stdout",
     "output_type": "stream",
     "text": [
      "4\n",
      "\t\n",
      "EVEN\n"
     ]
    }
   ],
   "source": [
    "n = int(input())\n",
    "print('\\t')\n",
    "\n",
    "if(n%2==0):\n",
    "    print(\"EVEN\")\n",
    "else:\n",
    "    print(\"ODD\")"
   ]
  },
  {
   "cell_type": "code",
   "execution_count": 13,
   "metadata": {},
   "outputs": [
    {
     "name": "stdout",
     "output_type": "stream",
     "text": [
      "13\n",
      "2\n",
      "False\n"
     ]
    }
   ],
   "source": [
    "a = int(input())\n",
    "b = int(input())\n",
    "\n",
    "if (a and b>10):\n",
    "    print(True)\n",
    "    \n",
    "else:\n",
    "    print(False)"
   ]
  },
  {
   "cell_type": "code",
   "execution_count": 23,
   "metadata": {},
   "outputs": [
    {
     "name": "stdout",
     "output_type": "stream",
     "text": [
      "nkdn\n",
      "Unkown\n"
     ]
    }
   ],
   "source": [
    "name = str(input())\n",
    "\n",
    "if name == \"Shashi\":\n",
    "    print('1',\"me\")\n",
    "    \n",
    "elif name == \"Rahul\":\n",
    "    print('2',\"Rahul\")\n",
    "    \n",
    "else:\n",
    "    print(\"Unkown\")"
   ]
  },
  {
   "cell_type": "code",
   "execution_count": 28,
   "metadata": {},
   "outputs": [
    {
     "name": "stdout",
     "output_type": "stream",
     "text": [
      "5\n",
      "Green\n"
     ]
    }
   ],
   "source": [
    "n = int(input())\n",
    "\n",
    "if (n>10):\n",
    "    print(\"Red\")\n",
    "elif (n>=5):\n",
    "    print(\"Green\")\n",
    "elif (n>0):\n",
    "    print(\"Yellow\")\n",
    "else:\n",
    "    print(\"don't do anything\")"
   ]
  },
  {
   "cell_type": "code",
   "execution_count": 32,
   "metadata": {},
   "outputs": [
    {
     "name": "stdout",
     "output_type": "stream",
     "text": [
      "1\n",
      "2\n",
      "3\n",
      "4\n",
      "5\n"
     ]
    }
   ],
   "source": [
    "n = 5\n",
    "i = 1\n",
    "\n",
    "while i<=n:\n",
    "    print(i)\n",
    "    i = i+1"
   ]
  },
  {
   "cell_type": "code",
   "execution_count": 37,
   "metadata": {},
   "outputs": [
    {
     "name": "stdout",
     "output_type": "stream",
     "text": [
      "9\n",
      "\t\n",
      "ODD\n"
     ]
    }
   ],
   "source": [
    "n = int(input())\n",
    "print('\\t')\n",
    "\n",
    "if(n%2==0):\n",
    "    if(n==0):\n",
    "        print(n)\n",
    "    else:    \n",
    "        print(\"EVEN\")    \n",
    "    \n",
    "else:\n",
    "    print(\"ODD\")"
   ]
  },
  {
   "cell_type": "code",
   "execution_count": 41,
   "metadata": {},
   "outputs": [
    {
     "name": "stdout",
     "output_type": "stream",
     "text": [
      "3\n",
      "6\n",
      "3\n"
     ]
    }
   ],
   "source": [
    "n = int(input())\n",
    "m = int(input())\n",
    "\n",
    "if (n%2==0):\n",
    "    if(m%2==0):\n",
    "        print(1)\n",
    "    else:\n",
    "        print(2)\n",
    "else:\n",
    "    print(3)\n"
   ]
  },
  {
   "cell_type": "code",
   "execution_count": 42,
   "metadata": {},
   "outputs": [
    {
     "name": "stdout",
     "output_type": "stream",
     "text": [
      "B\n"
     ]
    }
   ],
   "source": [
    "if(10<0) and (0<-10):\n",
    "    print(\"A\")\n",
    "elif(10>0) or False:\n",
    "    print(\"B\")\n",
    "else:\n",
    "    print(\"C\")"
   ]
  },
  {
   "cell_type": "code",
   "execution_count": 43,
   "metadata": {},
   "outputs": [
    {
     "name": "stdout",
     "output_type": "stream",
     "text": [
      "B\n"
     ]
    }
   ],
   "source": [
    "if True or True:\n",
    "    if False and True or False:\n",
    "        print('A')\n",
    "    elif False and False or True and True:\n",
    "       print('B')\n",
    "    else:\n",
    "      print('C')\n",
    "else:\n",
    "     print('D')"
   ]
  },
  {
   "cell_type": "code",
   "execution_count": 44,
   "metadata": {},
   "outputs": [
    {
     "data": {
      "text/plain": [
       "False"
      ]
     },
     "execution_count": 44,
     "metadata": {},
     "output_type": "execute_result"
    }
   ],
   "source": [
    "False and False"
   ]
  },
  {
   "cell_type": "code",
   "execution_count": 52,
   "metadata": {},
   "outputs": [
    {
     "name": "stdout",
     "output_type": "stream",
     "text": [
      "A\n"
     ]
    }
   ],
   "source": [
    "if True and True or True and False:\n",
    "    print('A')\n"
   ]
  },
  {
   "cell_type": "code",
   "execution_count": 53,
   "metadata": {},
   "outputs": [
    {
     "data": {
      "text/plain": [
       "False"
      ]
     },
     "execution_count": 53,
     "metadata": {},
     "output_type": "execute_result"
    }
   ],
   "source": [
    "True and False"
   ]
  },
  {
   "cell_type": "code",
   "execution_count": 56,
   "metadata": {},
   "outputs": [
    {
     "data": {
      "text/plain": [
       "True"
      ]
     },
     "execution_count": 56,
     "metadata": {},
     "output_type": "execute_result"
    }
   ],
   "source": [
    "True and True or True and False"
   ]
  },
  {
   "cell_type": "code",
   "execution_count": 55,
   "metadata": {},
   "outputs": [
    {
     "data": {
      "text/plain": [
       "True"
      ]
     },
     "execution_count": 55,
     "metadata": {},
     "output_type": "execute_result"
    }
   ],
   "source": [
    "True and True or True"
   ]
  },
  {
   "cell_type": "code",
   "execution_count": 57,
   "metadata": {},
   "outputs": [
    {
     "data": {
      "text/plain": [
       "True"
      ]
     },
     "execution_count": 57,
     "metadata": {},
     "output_type": "execute_result"
    }
   ],
   "source": [
    "True or True and False"
   ]
  },
  {
   "cell_type": "code",
   "execution_count": 58,
   "metadata": {},
   "outputs": [
    {
     "data": {
      "text/plain": [
       "True"
      ]
     },
     "execution_count": 58,
     "metadata": {},
     "output_type": "execute_result"
    }
   ],
   "source": [
    "True or True"
   ]
  },
  {
   "cell_type": "markdown",
   "metadata": {},
   "source": [
    "### While loop"
   ]
  },
  {
   "cell_type": "code",
   "execution_count": 68,
   "metadata": {},
   "outputs": [
    {
     "name": "stdout",
     "output_type": "stream",
     "text": [
      "10\n",
      "30\n"
     ]
    }
   ],
   "source": [
    "n = int(input())\n",
    "i = 1\n",
    "sum = 0\n",
    "while i<=n:\n",
    "    if (i%2==0):\n",
    "        sum = sum+i\n",
    "    i=i+1\n",
    "print(sum)    "
   ]
  },
  {
   "cell_type": "code",
   "execution_count": null,
   "metadata": {},
   "outputs": [],
   "source": []
  },
  {
   "cell_type": "code",
   "execution_count": null,
   "metadata": {},
   "outputs": [],
   "source": []
  },
  {
   "cell_type": "code",
   "execution_count": 98,
   "metadata": {},
   "outputs": [
    {
     "name": "stdout",
     "output_type": "stream",
     "text": [
      "15\n",
      "Not Prime\n"
     ]
    }
   ],
   "source": [
    "n = int(input())\n",
    "\n",
    "d = 2\n",
    "flag = False\n",
    "\n",
    "while d<n:\n",
    "    if(n%d==0):\n",
    "        flag = True\n",
    "    d = d + 1\n",
    "if flag:\n",
    "    print(\"Not Prime\")\n",
    "else:\n",
    "    print(\"prime\")"
   ]
  },
  {
   "cell_type": "code",
   "execution_count": 106,
   "metadata": {},
   "outputs": [
    {
     "name": "stdout",
     "output_type": "stream",
     "text": [
      "6\n",
      "Not Prime\n"
     ]
    }
   ],
   "source": [
    "n = int(input())\n",
    "i=2\n",
    "flag = False\n",
    "\n",
    "while i<n:\n",
    "    if n%i==0:\n",
    "        flag = True\n",
    "    i = i+1\n",
    "    \n",
    "if flag:\n",
    "    print(\"Not Prime\")\n",
    "else:\n",
    "    print(\"Prime\")\n",
    "    "
   ]
  },
  {
   "cell_type": "code",
   "execution_count": 107,
   "metadata": {},
   "outputs": [
    {
     "data": {
      "text/plain": [
       "False"
      ]
     },
     "execution_count": 107,
     "metadata": {},
     "output_type": "execute_result"
    }
   ],
   "source": [
    "2<2"
   ]
  },
  {
   "cell_type": "markdown",
   "metadata": {},
   "source": [
    "### Nested While Loop"
   ]
  },
  {
   "cell_type": "code",
   "execution_count": 111,
   "metadata": {},
   "outputs": [
    {
     "name": "stdout",
     "output_type": "stream",
     "text": [
      "10\n",
      "2\n",
      "3\n",
      "5\n",
      "7\n"
     ]
    }
   ],
   "source": [
    "n = int(input())\n",
    "k = 2\n",
    "\n",
    "while k<=n:\n",
    "    i = 2\n",
    "    flag = False\n",
    "    \n",
    "    while i<k:\n",
    "        if(k%i==0):\n",
    "            flag = True\n",
    "        i = i+1\n",
    "        \n",
    "    if not(flag):\n",
    "        print(k)\n",
    "    k = k+1    "
   ]
  },
  {
   "cell_type": "code",
   "execution_count": 120,
   "metadata": {},
   "outputs": [],
   "source": [
    "\n",
    "    "
   ]
  },
  {
   "cell_type": "code",
   "execution_count": 128,
   "metadata": {},
   "outputs": [
    {
     "name": "stdout",
     "output_type": "stream",
     "text": [
      "20\n",
      "40\n",
      "60\n",
      "80\n",
      "100\n",
      "120\n"
     ]
    }
   ],
   "source": [
    "s = 0\n",
    "e = 100\n",
    "w = 20\n",
    "\n",
    "t = w\n",
    "\n",
    "while s<=e:\n",
    "    print(t)\n",
    "    t = t+w\n",
    "    s = s+w"
   ]
  },
  {
   "cell_type": "code",
   "execution_count": 148,
   "metadata": {},
   "outputs": [
    {
     "name": "stdout",
     "output_type": "stream",
     "text": [
      "0 -17\n",
      "20 -6\n",
      "40 4\n",
      "60 15\n",
      "80 26\n",
      "100 37\n"
     ]
    }
   ],
   "source": [
    "s = 0\n",
    "e = 100\n",
    "w = 20\n",
    "\n",
    "for i in range(s,e+1,w):\n",
    "    ans = (i-32)*5/9\n",
    "    print(i, int(ans))\n",
    "    "
   ]
  },
  {
   "cell_type": "code",
   "execution_count": 141,
   "metadata": {},
   "outputs": [
    {
     "name": "stdout",
     "output_type": "stream",
     "text": [
      "-17.77777777777778\n"
     ]
    }
   ],
   "source": [
    "print((0-32)*5/9)"
   ]
  },
  {
   "cell_type": "code",
   "execution_count": 143,
   "metadata": {},
   "outputs": [
    {
     "data": {
      "text/plain": [
       "-17"
      ]
     },
     "execution_count": 143,
     "metadata": {},
     "output_type": "execute_result"
    }
   ],
   "source": [
    "n = -17.77777777777778\n",
    "\n",
    "num = int(n)\n",
    "num"
   ]
  },
  {
   "cell_type": "code",
   "execution_count": 153,
   "metadata": {},
   "outputs": [
    {
     "name": "stdout",
     "output_type": "stream",
     "text": [
      "0 -17\n",
      "20 -6\n",
      "40 4\n",
      "60 15\n",
      "80 26\n",
      "100 37\n"
     ]
    }
   ],
   "source": [
    "s = 0\n",
    "e = 100\n",
    "w = 20\n",
    "\n",
    "while s<=e:\n",
    "    \n",
    "    c = (s-32)*5/9\n",
    "    \n",
    "    print(s,int(c))\n",
    "    \n",
    "    s = s+w"
   ]
  },
  {
   "cell_type": "markdown",
   "metadata": {},
   "source": [
    "1. If the input is 1, then 2 integers are taken from the user and their sum is printed.\n",
    "2. If the input is 2, then 2 integers are taken from the user and their difference(1st number - 2nd number) is printed.\n",
    "3. If the input is 3, then 2 integers are taken from the user and their product is printed.\n",
    "4. If the input is 4, then 2 integers are taken from the user and the quotient obtained (on dividing 1st number by 2nd number) is printed.\n",
    "5. If the input is 5, then 2 integers are taken from the user and their remainder(1st number mod 2nd number) is printed.\n",
    "6. If the input is 6, then the program exits.\n",
    "7. For any other input, then print \"Invalid Operation\"."
   ]
  },
  {
   "cell_type": "code",
   "execution_count": null,
   "metadata": {},
   "outputs": [],
   "source": []
  },
  {
   "cell_type": "code",
   "execution_count": 9,
   "metadata": {},
   "outputs": [
    {
     "name": "stdout",
     "output_type": "stream",
     "text": [
      "3\n",
      "1\n",
      "2\n",
      "2\n",
      "6\n",
      "invaild\n",
      "7\n"
     ]
    }
   ],
   "source": [
    "\n",
    "flag = True\n",
    "\n",
    "while flag:\n",
    "    n = int(input())\n",
    "    \n",
    "    if n==1:\n",
    "        i = int(input())\n",
    "        j = int(input())\n",
    "        print(i+j)\n",
    "    \n",
    "    elif n==2:\n",
    "        i = int(input())\n",
    "        j = int(input())\n",
    "        print(i-j)\n",
    "\n",
    "    elif n==3:\n",
    "        i = int(input())\n",
    "        j = int(input())\n",
    "        print(i*j)\n",
    "\n",
    "    elif n==4:\n",
    "        i = int(input())\n",
    "        j = int(input())\n",
    "        print(i//j)\n",
    "\n",
    "    elif n==5:\n",
    "        i = int(input())\n",
    "        j = int(input())\n",
    "        print(i%j)\n",
    "\n",
    "    elif n==6:\n",
    "        flag = False\n",
    "     \n",
    "    else:\n",
    "        print(\"Invalid Operation\")\n",
    "        "
   ]
  },
  {
   "cell_type": "code",
   "execution_count": null,
   "metadata": {},
   "outputs": [],
   "source": []
  },
  {
   "cell_type": "markdown",
   "metadata": {},
   "source": [
    "Write a program to generate the reverse of a given number N. Print the corresponding reverse number.\n",
    "\n",
    "Note : If a number has trailing zeros, then its reverse will not include them. For e.g., reverse of 10400 will be 401 instead of 00401."
   ]
  },
  {
   "cell_type": "code",
   "execution_count": 99,
   "metadata": {},
   "outputs": [
    {
     "name": "stdout",
     "output_type": "stream",
     "text": [
      "401\n"
     ]
    }
   ],
   "source": [
    "n = 10400\n",
    "\n",
    "k = str(n)\n",
    "\n",
    "j = ''\n",
    "\n",
    "for i in range(len(k)-1,-1,-1):\n",
    "    j = j+k[i]\n",
    "    \n",
    "print(int(j))   "
   ]
  },
  {
   "cell_type": "code",
   "execution_count": 65,
   "metadata": {},
   "outputs": [
    {
     "name": "stdout",
     "output_type": "stream",
     "text": [
      "00401\n",
      "00401\n"
     ]
    }
   ],
   "source": [
    "k = '00401'\n",
    "\n",
    "flag = True\n",
    "\n",
    "for i in range(len(k)):\n",
    "    if k[i]=='0':\n",
    "        flag = False\n",
    "    elif k[i]!= '0':\n",
    "        flag = True\n"
   ]
  },
  {
   "cell_type": "code",
   "execution_count": null,
   "metadata": {},
   "outputs": [],
   "source": []
  },
  {
   "cell_type": "code",
   "execution_count": 88,
   "metadata": {},
   "outputs": [
    {
     "name": "stdout",
     "output_type": "stream",
     "text": [
      "10400\n",
      "<class 'int'>\n",
      "401\n"
     ]
    }
   ],
   "source": [
    "n = int(input())\n",
    "\n",
    "rev = 0\n",
    "rem = 0\n",
    "k = ''\n",
    "\n",
    "while n!=0:\n",
    "    rem = n%10\n",
    "    rev = rev*10 + rem\n",
    "    n = int(n/10)\n",
    "    k = rev\n",
    "    \n",
    "print(type(k))\n",
    "print(k)"
   ]
  },
  {
   "cell_type": "code",
   "execution_count": null,
   "metadata": {},
   "outputs": [],
   "source": []
  },
  {
   "cell_type": "markdown",
   "metadata": {},
   "source": [
    "Write a program to determine if given number is palindrome or not. Print true if it is palindrome, false otherwise.\n",
    "Palindrome are the numbers for which reverse is exactly same as the original one. For eg. 121"
   ]
  },
  {
   "cell_type": "code",
   "execution_count": 205,
   "metadata": {},
   "outputs": [
    {
     "name": "stdout",
     "output_type": "stream",
     "text": [
      "1032\n",
      "False\n"
     ]
    }
   ],
   "source": [
    "n = input()\n",
    "\n",
    "rev = ''\n",
    "\n",
    "for i in range(len(n)-1,-1,-1):\n",
    "    rev = rev+n[i]\n",
    "    \n",
    "if (n==rev):\n",
    "    print(\"true\")\n",
    "else:\n",
    "    print(\"False\")"
   ]
  },
  {
   "cell_type": "code",
   "execution_count": null,
   "metadata": {},
   "outputs": [],
   "source": []
  },
  {
   "cell_type": "markdown",
   "metadata": {},
   "source": [
    "Write a program to input an integer N and print the sum of all its even digits and sum of all its odd digits separately.\n",
    "Digits mean numbers, not the places! That is, if the given integer is \"13245\", even digits are 2 & 4 and odd digits are 1, 3 & 5.\n"
   ]
  },
  {
   "cell_type": "code",
   "execution_count": 107,
   "metadata": {},
   "outputs": [
    {
     "name": "stdout",
     "output_type": "stream",
     "text": [
      "1234\n",
      "6 4\n"
     ]
    }
   ],
   "source": [
    "n = input()\n",
    "\n",
    "even = 0\n",
    "odd  = 0\n",
    "\n",
    "for i in range(len(n)):\n",
    "    if int(n[i])%2==0:\n",
    "        even = even+int(n[i])\n",
    "    else:\n",
    "        odd = odd+int(n[i])\n",
    "        \n",
    "print(even,odd)        \n",
    "        "
   ]
  },
  {
   "cell_type": "code",
   "execution_count": null,
   "metadata": {},
   "outputs": [],
   "source": []
  },
  {
   "cell_type": "markdown",
   "metadata": {},
   "source": [
    "Nth term of Fibonacci series F(n), where F(n) is a function, is calculated using the following formula -\n",
    "\n",
    "Now the number is ‘6’ so we have to find the “6th” Fibonacci number\n",
    "So by using the property of the Fibonacci series i.e \n",
    "\n",
    "[ 1, 1, 2, 3, 5, 8, 13, 21]\n",
    "So the “6th” element is “8” hence we get the output."
   ]
  },
  {
   "cell_type": "code",
   "execution_count": 200,
   "metadata": {},
   "outputs": [
    {
     "name": "stdout",
     "output_type": "stream",
     "text": [
      "5\n"
     ]
    }
   ],
   "source": [
    "n = 5\n",
    "\n",
    "i = 1\n",
    "j = 1\n",
    "temp = 0\n",
    "count = 0\n",
    "k = ['']\n",
    "\n",
    "if n==0:\n",
    "    print(0)\n",
    "elif n==1:\n",
    "    print(1)\n",
    "else:\n",
    "    while count<n:\n",
    "        k.append(i)\n",
    "        temp = i+j\n",
    "        i = j\n",
    "        j = temp\n",
    "\n",
    "        count = count+1\n",
    "        \n",
    "    print(k[-1])        "
   ]
  },
  {
   "cell_type": "code",
   "execution_count": 143,
   "metadata": {},
   "outputs": [
    {
     "data": {
      "text/plain": [
       "5"
      ]
     },
     "execution_count": 143,
     "metadata": {},
     "output_type": "execute_result"
    }
   ],
   "source": [
    "3+2"
   ]
  },
  {
   "cell_type": "code",
   "execution_count": 206,
   "metadata": {},
   "outputs": [
    {
     "name": "stdout",
     "output_type": "stream",
     "text": [
      "123\n",
      "false\n"
     ]
    }
   ],
   "source": [
    "n = input()\n",
    "\n",
    "if n==n[::-1]:\n",
    "    print(\"true\")\n",
    "else:\n",
    "    print(\"false\")\n",
    "\n"
   ]
  },
  {
   "cell_type": "code",
   "execution_count": null,
   "metadata": {},
   "outputs": [],
   "source": []
  }
 ],
 "metadata": {
  "kernelspec": {
   "display_name": "Python 3",
   "language": "python",
   "name": "python3"
  },
  "language_info": {
   "codemirror_mode": {
    "name": "ipython",
    "version": 3
   },
   "file_extension": ".py",
   "mimetype": "text/x-python",
   "name": "python",
   "nbconvert_exporter": "python",
   "pygments_lexer": "ipython3",
   "version": "3.7.6"
  }
 },
 "nbformat": 4,
 "nbformat_minor": 4
}
