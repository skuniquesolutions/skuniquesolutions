{
 "cells": [
  {
   "cell_type": "code",
   "execution_count": null,
   "metadata": {},
   "outputs": [],
   "source": []
  },
  {
   "cell_type": "markdown",
   "metadata": {},
   "source": [
    "# Swap Alternate"
   ]
  },
  {
   "cell_type": "code",
   "execution_count": 12,
   "metadata": {},
   "outputs": [
    {
     "name": "stdout",
     "output_type": "stream",
     "text": [
      "2\n",
      "9\n",
      "9 3 6 12 4 32 5 11 19\n",
      "3 9 12 6 32 4 11 5 19 \n",
      "4\n",
      "1 2 3 4\n",
      "2 1 4 3 \n"
     ]
    }
   ],
   "source": [
    "from sys import stdin\n",
    "\n",
    "def swapAlternate(arr, n) :\n",
    "    if (len(arr)%2==0):\n",
    "        for i in range(0,len(arr),2):\n",
    "            arr[i], arr[i+1] = arr[i+1], arr[i]\n",
    "    else:\n",
    "        for i in range(0,len(arr)-1,2):\n",
    "            arr[i], arr[i+1] = arr[i+1], arr[i]\n",
    "            \n",
    "    return arr\n",
    "\n",
    "\n",
    "\n",
    "#Taking Input Using Fast I/O\n",
    "def takeInput() :\n",
    "    n = int(input())\n",
    "\n",
    "    if n == 0 :\n",
    "        return list(), 0\n",
    "\n",
    "    arr = list(map(int, input().split(\" \")))\n",
    "    return arr, n\n",
    "\n",
    "\n",
    "#Printing the array/list\n",
    "def printList(arr, n) :\n",
    "    for i in range(n) :\n",
    "        print(arr[i], end = \" \")\n",
    "    print()\n",
    "\n",
    "\n",
    "#main\n",
    "t = int(input())\n",
    "\n",
    "while t > 0 :\n",
    "    arr, n = takeInput()\n",
    "    if n != 0 :\n",
    "        swapAlternate(arr, n)\n",
    "        printList(arr, n)\n",
    "    t -= 1"
   ]
  },
  {
   "cell_type": "code",
   "execution_count": null,
   "metadata": {},
   "outputs": [],
   "source": []
  },
  {
   "cell_type": "markdown",
   "metadata": {},
   "source": [
    "# Find Duplicate"
   ]
  },
  {
   "cell_type": "code",
   "execution_count": 136,
   "metadata": {},
   "outputs": [
    {
     "name": "stdout",
     "output_type": "stream",
     "text": [
      "1\n",
      "6\n",
      "4 2 3 1 4 0\n",
      "4\n"
     ]
    }
   ],
   "source": [
    "\n",
    "import sys\n",
    "\n",
    "\n",
    "def duplicateNumber(arr, n):\n",
    "    #Your code goes here\n",
    "    count = 1\n",
    "    for i in range(0, n):\n",
    "        if arr.count(arr[i]) > count:\n",
    "            res = arr[i]\n",
    "    return res\n",
    "\n",
    "\n",
    "\n",
    "\n",
    "\n",
    "\n",
    "#Taking Input Using Fast I/O\n",
    "def takeInput() :\n",
    "    n = int(input().strip())\n",
    "\n",
    "    if n == 0 :\n",
    "        return list(), 0\n",
    "\n",
    "    arr = list(map(int, input().strip().split()))\n",
    "    return arr, n\n",
    "\n",
    "\n",
    "#main\n",
    "t = int(input().strip())\n",
    "\n",
    "while t > 0 :\n",
    "    \n",
    "    arr, n = takeInput()\n",
    "    print(duplicateNumber(arr, n))\n",
    "\n",
    "    t -= 1\n",
    "    "
   ]
  },
  {
   "cell_type": "code",
   "execution_count": null,
   "metadata": {},
   "outputs": [],
   "source": []
  },
  {
   "cell_type": "markdown",
   "metadata": {},
   "source": [
    "# Find Unique"
   ]
  },
  {
   "cell_type": "code",
   "execution_count": 150,
   "metadata": {},
   "outputs": [
    {
     "data": {
      "text/plain": [
       "5"
      ]
     },
     "execution_count": 150,
     "metadata": {},
     "output_type": "execute_result"
    }
   ],
   "source": [
    "def findUnique(arr, n):\n",
    "    #Your code goes here\n",
    "    count = 1\n",
    "    for i in range(0, n):\n",
    "        if arr.count(arr[i]) == count:\n",
    "            res = arr[i]\n",
    "            break\n",
    "    return res\n",
    "\n",
    "\n",
    "\n",
    "arr = [5]\n",
    "findUnique(arr,len(arr))"
   ]
  },
  {
   "cell_type": "code",
   "execution_count": null,
   "metadata": {},
   "outputs": [],
   "source": []
  },
  {
   "cell_type": "markdown",
   "metadata": {},
   "source": [
    "# Intersection of Two Arrays II"
   ]
  },
  {
   "cell_type": "markdown",
   "metadata": {},
   "source": [
    "sys.maxsize - It is the Python platform's pointer that dictates the maximum size of lists and strings in Python. The size value returned by maxsize depends on the platform architecture: 32-bit: the value will be 2^31 – 1, i.e. 2147483647. 64-bit: the value will be 2^63 – 1, i.e. 9223372036854775807"
   ]
  },
  {
   "cell_type": "code",
   "execution_count": 229,
   "metadata": {},
   "outputs": [
    {
     "name": "stdout",
     "output_type": "stream",
     "text": [
      "10 2 "
     ]
    }
   ],
   "source": [
    "def intersections(arr1, n, arr2, m):\n",
    "    for i in range(n):\n",
    "        for j in range(m):\n",
    "            if arr1[i] == arr2[j]:\n",
    "                print(arr1[i],end =\" \")\n",
    "                arr2[j] = sys.maxsize \n",
    "        \n",
    "                break\n",
    "                        \n",
    "       \n",
    "              \n",
    "\n",
    "\n",
    "arr1 = [10, 10,2]\n",
    "arr2 = [10,2]\n",
    "\n",
    "intersections(arr1,len(arr1),arr2,len(arr2))"
   ]
  },
  {
   "cell_type": "code",
   "execution_count": 222,
   "metadata": {},
   "outputs": [
    {
     "data": {
      "text/plain": [
       "9223372036854775807"
      ]
     },
     "execution_count": 222,
     "metadata": {},
     "output_type": "execute_result"
    }
   ],
   "source": [
    "sys.maxsize"
   ]
  },
  {
   "cell_type": "code",
   "execution_count": null,
   "metadata": {},
   "outputs": [],
   "source": []
  },
  {
   "cell_type": "markdown",
   "metadata": {},
   "source": [
    "# Pair Sum"
   ]
  },
  {
   "cell_type": "code",
   "execution_count": null,
   "metadata": {},
   "outputs": [],
   "source": []
  },
  {
   "cell_type": "code",
   "execution_count": 5,
   "metadata": {},
   "outputs": [
    {
     "name": "stdout",
     "output_type": "stream",
     "text": [
      "4\n"
     ]
    }
   ],
   "source": [
    "def pairSum(arr, n, x):\n",
    "    count = 0\n",
    "    for i in range(n):\n",
    "        for j in range(i,n):\n",
    "            if (arr[i]+(arr[j]))== 10:\n",
    "                count+=1\n",
    "    print(count)\n",
    "    \n",
    "    \n",
    "arr = [2, 8, 10, 5, -2, 5]   \n",
    "x = 10\n",
    "pairSum(arr,len(arr),x)    "
   ]
  },
  {
   "cell_type": "code",
   "execution_count": 8,
   "metadata": {},
   "outputs": [],
   "source": [
    "arr = [2, 8, 10, 5, -2, 5]   \n",
    "x = 10\n",
    "\n",
    "count = 0\n",
    "for i in range(n):\n",
    "    for j in range(i,n):\n",
    "        if (arr[i]+arr[j])== 10:\n",
    "            count+=1"
   ]
  },
  {
   "cell_type": "code",
   "execution_count": 9,
   "metadata": {},
   "outputs": [
    {
     "data": {
      "text/plain": [
       "4"
      ]
     },
     "execution_count": 9,
     "metadata": {},
     "output_type": "execute_result"
    }
   ],
   "source": [
    "count"
   ]
  },
  {
   "cell_type": "code",
   "execution_count": null,
   "metadata": {},
   "outputs": [],
   "source": []
  },
  {
   "cell_type": "markdown",
   "metadata": {},
   "source": [
    "# Triplet Sum"
   ]
  },
  {
   "cell_type": "code",
   "execution_count": null,
   "metadata": {},
   "outputs": [],
   "source": [
    "def findTriplet(arr, n, x) :\n",
    "    count = 0\n",
    "\n",
    "    for i in range(len(arr)):\n",
    "        for j in range(i+1, len(arr)):\n",
    "            for k in range(j+1, len(arr)):\n",
    "                if arr[i]+arr[j]+arr[k] == x:\n",
    "                    count += 1\n",
    "    \n",
    "    return count"
   ]
  },
  {
   "cell_type": "code",
   "execution_count": null,
   "metadata": {},
   "outputs": [],
   "source": []
  },
  {
   "cell_type": "markdown",
   "metadata": {},
   "source": [
    "# Sort 0 1"
   ]
  },
  {
   "cell_type": "code",
   "execution_count": null,
   "metadata": {},
   "outputs": [],
   "source": [
    "def sortZeroesAndOne(arr, n) :\n",
    "    count1 = 0\n",
    "    count2 = 0\n",
    "\n",
    "    for i in range(len(arr)):\n",
    "        if arr[i]==0:\n",
    "            count1 +=1\n",
    "        else:\n",
    "            count2 +=1\n",
    "            \n",
    "    for i in range(count1):\n",
    "        print(0,end=' ')\n",
    "    for j in range(count2):\n",
    "        print(1,end=' ')\n"
   ]
  },
  {
   "cell_type": "code",
   "execution_count": null,
   "metadata": {},
   "outputs": [],
   "source": []
  },
  {
   "cell_type": "code",
   "execution_count": 68,
   "metadata": {},
   "outputs": [
    {
     "name": "stdout",
     "output_type": "stream",
     "text": [
      "Array after segregation\n",
      "[0, 0, 1, 1, 1, 1]\n"
     ]
    }
   ],
   "source": [
    "def segregate0and1(arr, size):\n",
    "    # Initialize left and right indexes\n",
    "    left, right = 0, size-1\n",
    "     \n",
    "    while left < right:\n",
    "        # Increment left index while we see 0 at left\n",
    "        while arr[left] == 0 and left < right:\n",
    "            left += 1\n",
    " \n",
    "        # Decrement right index while we see 1 at right\n",
    "        while arr[right] == 1 and left < right:\n",
    "            right -= 1\n",
    " \n",
    "        # If left is smaller than right then there is a 1 at left\n",
    "        # and a 0 at right. Exchange arr[left] and arr[right]\n",
    "        if left < right:\n",
    "            arr[left] = 0\n",
    "            arr[right] = 1\n",
    "            left += 1\n",
    "            right -= 1\n",
    " \n",
    "    return arr\n",
    " \n",
    "# driver program to test\n",
    "arr = [0, 1, 0, 1, 1, 1]\n",
    "arr_size = len(arr)\n",
    "print(\"Array after segregation\")\n",
    "print(segregate0and1(arr, arr_size))"
   ]
  },
  {
   "cell_type": "code",
   "execution_count": null,
   "metadata": {},
   "outputs": [],
   "source": []
  }
 ],
 "metadata": {
  "kernelspec": {
   "display_name": "Python 3",
   "language": "python",
   "name": "python3"
  },
  "language_info": {
   "codemirror_mode": {
    "name": "ipython",
    "version": 3
   },
   "file_extension": ".py",
   "mimetype": "text/x-python",
   "name": "python",
   "nbconvert_exporter": "python",
   "pygments_lexer": "ipython3",
   "version": "3.7.6"
  }
 },
 "nbformat": 4,
 "nbformat_minor": 4
}
